{
 "cells": [
  {
   "cell_type": "markdown",
   "id": "M69pws7mC7uO",
   "metadata": {
    "id": "M69pws7mC7uO"
   },
   "source": [
    "# Analyse et Nettoyage du dataset UE\n",
    "\n",
    "Seuls les véhicules des années 2022-2023 et de la France ont été exportés à partir de https://www.eea.europa.eu/data-and-maps/data/co2-cars-emission-20"
   ]
  },
  {
   "cell_type": "markdown",
   "id": "8d95fdc6-9a7c-4e1b-93a6-04a272771eea",
   "metadata": {
    "id": "8d95fdc6-9a7c-4e1b-93a6-04a272771eea"
   },
   "source": [
    "# <font color='#3585CD'>Importation des librairies</font>"
   ]
  },
  {
   "cell_type": "code",
   "execution_count": null,
   "id": "89af5d84-f8eb-4b73-99d8-486616ce6116",
   "metadata": {
    "executionInfo": {
     "elapsed": 41,
     "status": "ok",
     "timestamp": 1742545211759,
     "user": {
      "displayName": "Dimitri L",
      "userId": "02929891347853983044"
     },
     "user_tz": -60
    },
    "id": "89af5d84-f8eb-4b73-99d8-486616ce6116"
   },
   "outputs": [],
   "source": [
    "import warnings\n",
    "warnings.filterwarnings('ignore')\n",
    "warnings.warn('DelftStack')\n",
    "warnings.warn('Do not show this message')\n",
    "\n",
    "import pandas as pd\n",
    "\n",
    "import numpy as np\n",
    "\n",
    "import matplotlib.pyplot as plt\n",
    "\n",
    "import seaborn as sns\n",
    "\n",
    "import plotly.figure_factory as ff\n",
    "import plotly.express as px\n",
    "import plotly.graph_objects as go\n",
    "\n",
    "import kagglehub\n",
    "\n",
    "from scipy.stats import gaussian_kde\n",
    "\n",
    "import sys\n",
    "import os"
   ]
  },
  {
   "cell_type": "markdown",
   "id": "XCadwLcNHdDm",
   "metadata": {
    "id": "XCadwLcNHdDm"
   },
   "source": [
    "# <font color='#3585CD'>Fonctions qui seront utilisées dans ce notebook</font>"
   ]
  },
  {
   "cell_type": "code",
   "execution_count": null,
   "id": "3R5h9FDvx3xg",
   "metadata": {
    "executionInfo": {
     "elapsed": 21,
     "status": "ok",
     "timestamp": 1742545212982,
     "user": {
      "displayName": "Dimitri L",
      "userId": "02929891347853983044"
     },
     "user_tz": -60
    },
    "id": "3R5h9FDvx3xg"
   },
   "outputs": [],
   "source": [
    "def analyser_variable_categorielle_plotly(df, variable, top_n=100, display_array=True):\n",
    "  \"\"\"\n",
    "  Analyse une variable catégorielle en affichant un DataFrame des 'top_n' catégories les plus fréquentes, ainsi qu'un graphique.\n",
    "\n",
    "  :param df: DataFrame contenant la variable à analyser.\n",
    "  :param variable: Nom de la variable catégorielle.\n",
    "  :param top_n: Nombre de catégories à afficher (par défaut 100).\n",
    "  \"\"\"\n",
    "\n",
    "  if display_array == True:\n",
    "    top_cat = f\"(Top {top_n} catégories)\" if top_n != 100 else \"\"\n",
    "    print(f\"\\n Analyse de la variable : {variable} {top_cat}\")\n",
    "\n",
    "  # Calcul des fréquences et pourcentages\n",
    "  category_counts = df[variable].value_counts().head(top_n)\n",
    "  category_percent = df[variable].value_counts(normalize=True).head(top_n) * 100\n",
    "\n",
    "  # Création d’un DataFrame avec Libellé, Total et Pourcentage\n",
    "  df_summary = pd.DataFrame({\n",
    "      \"Libellé\": category_counts.index,\n",
    "      \"Total\": category_counts.values,\n",
    "      \"Pourcentage\": category_percent.values\n",
    "  })\n",
    "\n",
    "  # Affichage du tableau de synthèse\n",
    "  display(df_summary)\n",
    "\n",
    "  # Création du graphique interactif avec Plotly\n",
    "  nb = top_n\n",
    "  if top_n == 100:\n",
    "    nb = \"\"\n",
    "  fig = px.bar(df_summary,\n",
    "                x=\"Libellé\",\n",
    "                y=\"Total\",\n",
    "                text=\"Total\",\n",
    "                title=f'Distribution des {nb} premières catégories de {variable}',\n",
    "                labels={\"Libellé\": variable, \"Total\": \"Nombre d'occurrences\"},\n",
    "                template=\"plotly_white\")\n",
    "\n",
    "  fig.update_traces(textposition='outside')\n",
    "  fig.update_layout(xaxis_tickangle=-45)\n",
    "\n",
    "  # Affichage du graphique\n",
    "  fig.show()\n",
    "\n",
    "def analyser_variables_numeriques_plotly(df, variables, bins=30):\n",
    "    \"\"\"\n",
    "    Analyse les variables numériques en affichant un histogramme + KDE (distribution) et un boxplot interactifs.\n",
    "\n",
    "    :param df: DataFrame contenant les données.\n",
    "    :param variables: Liste des variables numériques à analyser.\n",
    "    :param bins: Nombre de bins pour l'histogramme (par défaut 30).\n",
    "    \"\"\"\n",
    "    for var in variables:\n",
    "        #print(f\"\\n Analyse de la variable : {var}\")\n",
    "        #display(df[var].describe())  # Affichage des statistiques descriptives\n",
    "\n",
    "        # Supprimer les valeurs NaN\n",
    "        data = df[var].dropna()\n",
    "\n",
    "        # Histogramme\n",
    "        hist = go.Histogram(\n",
    "            x=data,\n",
    "            nbinsx=bins,\n",
    "            marker=dict(color='skyblue', line=dict(color='black', width=1)),  # Bordures noires\n",
    "            opacity=0.6,  # Semi-transparent pour voir la KDE\n",
    "            name=\"Histogramme\"\n",
    "        )\n",
    "\n",
    "        # Calcul des densités pour la courbe KDE\n",
    "        kde = gaussian_kde(data)\n",
    "        x_vals = np.linspace(data.min(), data.max(), 500)  # Intervalle lissé\n",
    "        kde_vals = kde(x_vals)\n",
    "\n",
    "        # Courbe KDE\n",
    "        kde_curve = go.Scatter(\n",
    "            x=x_vals,\n",
    "            y=kde_vals * len(data) * (data.max() - data.min()) / bins,  # Mise à l'échelle par rapport à l'histogramme\n",
    "            mode='lines',\n",
    "            line=dict(color='blue', width=2),\n",
    "            name=\"Densité (KDE)\"\n",
    "        )\n",
    "\n",
    "        # Création de la figure combinée\n",
    "        fig = go.Figure(data=[hist, kde_curve])\n",
    "\n",
    "        # Mise en page\n",
    "        fig.update_layout(\n",
    "            title=f'Distribution de {var} (Histogramme + KDE)',\n",
    "            xaxis_title=\"Valeur\",\n",
    "            yaxis_title=\"Fréquence\",\n",
    "            template=\"plotly_white\",\n",
    "            barmode='overlay'\n",
    "        )\n",
    "        fig.show()\n",
    "        # # Affichage du graphique combiné\n",
    "        # fig.show()\n",
    "\n",
    "        # # Création du boxplot\n",
    "        # boxplot = go.Box(\n",
    "        #     x=data,\n",
    "        #     marker=dict(color='salmon'),\n",
    "        #     name=\"Boxplot\",\n",
    "        #     boxpoints=\"outliers\"  # Affichage des outliers\n",
    "        # )\n",
    "\n",
    "        # # Création et affichage du Boxplot\n",
    "        # fig_box = go.Figure(data=[boxplot])\n",
    "        # fig_box.update_layout(\n",
    "        #     title=f'Boxplot de {var}',\n",
    "        #     xaxis_title=\"Valeur\",\n",
    "        #     template=\"plotly_white\"\n",
    "        # )\n",
    "\n",
    "        # fig_box.show()\n",
    "\n",
    "\n",
    "def display_missing_values(df):\n",
    "  \"\"\"\n",
    "  Affiche un DataFrame contenant les valeurs manquantes, leur pourcentage / nombre et leur type, pour chaque colonne du DataFrame.\n",
    "\n",
    "  :param df: DataFrame contenant la variable à analyser.\n",
    "  \"\"\"\n",
    "  missing_values = df.isnull().sum()\n",
    "  missing_ratio = (missing_values / len(df)) * 100\n",
    "\n",
    "  missing_values_df = pd.DataFrame({\n",
    "      'Colonne': missing_values.index,\n",
    "      'Valeurs manquantes (%)': missing_ratio.values,\n",
    "      'Nombre de valeurs manquantes': missing_values.values,\n",
    "      'Type': df.dtypes.values\n",
    "  })\n",
    "\n",
    "  missing_values_df = missing_values_df[missing_values_df['Nombre de valeurs manquantes'] > 0]\n",
    "  missing_values_df = missing_values_df.sort_values(by='Valeurs manquantes (%)', ascending=False).reset_index(drop=True)\n",
    "\n",
    "  return missing_values_df\n",
    "\n",
    "def afficher_boxplot(df, colonne, couleur=\"blue\"):\n",
    "  \"\"\"\n",
    "  Affiche un boxplot interactif pour une variable donnée.\n",
    "\n",
    "  :param df: DataFrame contenant les données.\n",
    "  :param colonne: Nom de la colonne à analyser.\n",
    "  :param couleur: Couleur du boxplot (par défaut 'blue').\n",
    "  \"\"\"\n",
    "\n",
    "  # Création de la figure\n",
    "  fig = go.Figure()\n",
    "\n",
    "  # Ajout du boxplot\n",
    "  fig.add_trace(go.Box(\n",
    "      x=df[colonne].dropna(),\n",
    "      name=colonne,\n",
    "      marker_color=couleur\n",
    "  ))\n",
    "\n",
    "  # Mise en page\n",
    "  fig.update_layout(\n",
    "      title=f\"Box Plot des valeurs de {colonne}\",\n",
    "      xaxis_title=colonne,\n",
    "      showlegend=False\n",
    "  )\n",
    "\n",
    "  # Affichage du graphique\n",
    "  fig.show()\n",
    "\n",
    "def plot_correlation_matrix(df):\n",
    "  \"\"\"\n",
    "  Affiche la matrice de corrélation des variables numériques sous forme de heatmap interactive avec Plotly.\n",
    "\n",
    "  :param df: DataFrame Pandas contenant les données\n",
    "  \"\"\"\n",
    "  # Sélection des colonnes numériques\n",
    "  num_numeric_cols = df.select_dtypes(include=['number']).columns\n",
    "\n",
    "  # Calcul de la matrice de corrélation\n",
    "  corr_matrix = df[num_numeric_cols].corr()\n",
    "\n",
    "  # Création de la heatmap avec Plotly (labels en bas et à gauche)\n",
    "  fig = ff.create_annotated_heatmap(\n",
    "      z=corr_matrix.values,\n",
    "      x=list(corr_matrix.columns),\n",
    "      y=list(corr_matrix.index),\n",
    "      colorscale=\"RdBu_r\",\n",
    "      annotation_text=corr_matrix.round(2).values,\n",
    "      showscale=True\n",
    "  )\n",
    "\n",
    "  # Ajustement de la disposition\n",
    "  fig.update_layout(\n",
    "      title=\"Matrice de corrélation des variables numériques\",\n",
    "      height=600, width=800,\n",
    "      xaxis=dict(side=\"bottom\", tickangle=-45),\n",
    "      yaxis=dict(side=\"left\")\n",
    "  )\n",
    "\n",
    "  # Affichage\n",
    "  fig.show()\n",
    "\n",
    "def calculer_correlation(df, col1, col2):\n",
    "  \"\"\"\n",
    "  Calcule et affiche la corrélation entre deux colonnes d'un DataFrame.\n",
    "\n",
    "  Paramètres :\n",
    "  df :DataFrame contenant les données.\n",
    "  col1 : nom de la première colonne.\n",
    "  col2 : nom de la deuxième colonne.\n",
    "\n",
    "  Retourne la valeur de la corrélation et une interprétation de son intensité.\n",
    "  \"\"\"\n",
    "  correlation = df[col1].corr(df[col2])\n",
    "  print(f\"Corrélation entre {col1} et {col2} : {correlation:.2f}\")\n",
    "\n",
    "  if abs(correlation) > 0.8:\n",
    "      interpretation = \"Très forte corrélation\"\n",
    "  elif abs(correlation) > 0.6:\n",
    "      interpretation = \"Forte corrélation\"\n",
    "  elif abs(correlation) > 0.4:\n",
    "      interpretation = \"Corrélation modérée\"\n",
    "  elif abs(correlation) > 0.15:\n",
    "      interpretation = \"Corrélation faible\"\n",
    "  else:\n",
    "      interpretation = \"Pas de corrélation linéaire significative\"\n",
    "\n",
    "  print(interpretation + \".\\n\")\n",
    "\n",
    "  return correlation, interpretation\n",
    "\n",
    "def detecter_outliers_plotly(df, seuil=1.5):\n",
    "  \"\"\"\n",
    "  Détecte les outliers pour chaque variable numérique d'un DataFrame en utilisant la méthode IQR.\n",
    "  Affiche également un Boxplot interactif pour chaque variable.\n",
    "\n",
    "  :param df: DataFrame contenant les données.\n",
    "  :param seuil: Seuil du coefficient IQR (par défaut 1.5).\n",
    "  :return: DataFrame contenant le nombre d'outliers et le pourcentage par variable.\n",
    "  \"\"\"\n",
    "  outliers_dict = {}\n",
    "\n",
    "  for col in df.select_dtypes(include=['number']).columns:  # Sélectionner les colonnes numériques\n",
    "      Q1 = df[col].quantile(0.25)  # Premier quartile\n",
    "      Q3 = df[col].quantile(0.75)  # Troisième quartile\n",
    "      IQR = Q3 - Q1  # Calcul de l'intervalle interquartile\n",
    "\n",
    "      # Détection des valeurs aberrantes\n",
    "      lower_bound = Q1 - seuil * IQR\n",
    "      upper_bound = Q3 + seuil * IQR\n",
    "      outliers = df[(df[col] < lower_bound) | (df[col] > upper_bound)]\n",
    "\n",
    "      # Stocker les résultats\n",
    "      nb_outliers = outliers.shape[0]\n",
    "      perc_outliers = (nb_outliers / df.shape[0]) * 100\n",
    "      outliers_dict[col] = {\"Nb_Outliers\": nb_outliers, \"Pourcentage\": round(perc_outliers, 2)}\n",
    "\n",
    "      # Création du Boxplot avec Plotly\n",
    "      fig = go.Figure()\n",
    "      fig.add_trace(go.Box(\n",
    "          x=df[col],\n",
    "          name=col,\n",
    "          marker_color='blue',\n",
    "          boxpoints='outliers'\n",
    "      ))\n",
    "\n",
    "      # Mise en page\n",
    "      fig.update_layout(\n",
    "          title=f\"Box Plot de {col}\",\n",
    "          xaxis_title=\"Valeur\",\n",
    "          yaxis_title=\"Variable\",\n",
    "          template=\"plotly_white\",\n",
    "          showlegend=False\n",
    "      )\n",
    "\n",
    "      fig.show()\n",
    "\n",
    "  # Conversion en DataFrame\n",
    "  df_outliers = pd.DataFrame.from_dict(outliers_dict, orient='index')\n",
    "\n",
    "  return df_outliers\n",
    "\n",
    "def analyse_columns(df):\n",
    "\n",
    "    \"\"\"\n",
    "    Analyse les colonnes d'un DataFrame : nom, type, nombre de valeurs uniques et exemples de valeurs.\n",
    "\n",
    "    :param df: DataFrame Pandas\n",
    "    :return: DataFrame avec l'analyse des colonnes\n",
    "    \"\"\"\n",
    "    analysis = []\n",
    "\n",
    "    for col in df.columns:\n",
    "        col_name = col\n",
    "        col_type = df[col].dtype\n",
    "        unique_count = df[col].nunique()  # Nombre de valeurs uniques\n",
    "        unique_values = df[col].dropna().unique()[:5].tolist()  # Exemples (max 5)\n",
    "        unique_values = \" | \".join(map(str, unique_values))  # Séparateur : \" | \"\n",
    "\n",
    "        analysis.append({\n",
    "            'Nom de la colonne': col_name,\n",
    "            'Type de la colonne': col_type,\n",
    "            'Nombre de valeurs uniques': unique_count,\n",
    "            'Exemples de valeurs': unique_values\n",
    "        })\n",
    "\n",
    "    return pd.DataFrame(analysis)\n",
    "\n",
    "def plot_scatter_co2(df, x, y=\"CO2\", color=\"Carburant\", size=\"CO2\"):\n",
    "  \"\"\"\n",
    "  Génère un scatter plot interactif avec Plotly, avec une ligne de moyenne CO2.\n",
    "\n",
    "  Paramètres :\n",
    "  - df : DataFrame contenant les données\n",
    "  - x : Nom de la colonne pour l'axe X\n",
    "  - y : Nom de la colonne pour l'axe Y (par défaut \"CO2\")\n",
    "  - color : Nom de la colonne pour la couleur des points (par défaut \"Carburant\")\n",
    "  - size : Nom de la colonne pour la taille des points (par défaut \"CO2\")\n",
    "  \"\"\"\n",
    "\n",
    "  # Calcul de la moyenne globale du CO2\n",
    "  moyenne_co2 = df[y].mean()\n",
    "\n",
    "  # Création du scatter plot\n",
    "  fig = px.scatter(\n",
    "      df,\n",
    "      x=x,\n",
    "      y=y,\n",
    "      color=color,\n",
    "      size=size,\n",
    "      title=f\"Relation entre {x} et {y}\",\n",
    "      labels={x: x.capitalize(), y: y.capitalize(), color: color.capitalize()},\n",
    "      hover_data=df.columns,\n",
    "      size_max=20\n",
    "  )\n",
    "\n",
    "  # Ajout de la ligne de moyenne CO2\n",
    "  fig.add_hline(\n",
    "      y=moyenne_co2,\n",
    "      line_dash=\"dot\",\n",
    "      line_color=\"red\",\n",
    "      annotation_text=f\"Moyenne CO2: {moyenne_co2:.2f} g/km\",\n",
    "      annotation_position=\"top right\",\n",
    "      annotation_font_color=\"red\",\n",
    "      annotation_font_size=12,\n",
    "      annotation_bgcolor=\"rgba(255,255,255,0.7)\"\n",
    "  )\n",
    "\n",
    "  fig.show()\n",
    "\n",
    "\n",
    "def analyser_hist_co2_par_variable(df, variable, top_n=50, order='desc', co2=\"CO2\"):\n",
    "  \"\"\"\n",
    "  Génère un histogramme interactif avec Plotly, avec une ligne de moyenne CO2.\n",
    "\n",
    "  Paramètres :\n",
    "  :param df : DataFrame contenant les données\n",
    "  :param variable : Nom de la colonne à analyser\n",
    "  :param top_n: Nombre de catégories à afficher (par défaut 50).\n",
    "  :param order: Ordonnancement des catégories (par défaut 'desc').\n",
    "  :param co2: Nom de la colonne des émissions de CO2 (par défaut \"CO2\")\n",
    "  \"\"\"\n",
    "  ascending = True if order == 'asc' else False\n",
    "\n",
    "  df_co2 = df.groupby(variable)[co2].mean().sort_values(ascending=ascending).reset_index()\n",
    "  df_co2 = df_co2.head(top_n)\n",
    "\n",
    "  df_co2['CO2_txt'] = df_co2[co2].apply(lambda x: f\"{x:.2f}\")\n",
    "\n",
    "  moyenne_co2 = df[co2].mean()\n",
    "\n",
    "  fig = px.bar(\n",
    "      df_co2,\n",
    "      x=variable,\n",
    "      y=co2,\n",
    "      title=f\"Distribution des émissions de CO2 par {variable} (Top {top_n})\",\n",
    "      labels={variable: variable.capitalize(), co2: \"Émissions de CO2 (g/km)\"},\n",
    "      color=co2,\n",
    "      color_continuous_scale=\"RdYlGn_r\",\n",
    "      text='CO2_txt'\n",
    "  )\n",
    "\n",
    "  # Ligne de moyenne du CO2\n",
    "  fig.add_hline(\n",
    "      y=moyenne_co2,\n",
    "      line_dash=\"dot\",\n",
    "      line_color=\"red\",\n",
    "      annotation_text=f\"Moyenne CO2: {moyenne_co2:.2f} g/km\",\n",
    "      annotation_position=\"top right\",\n",
    "      annotation_font_color=\"red\",\n",
    "      annotation_font_size=12,\n",
    "      annotation_bgcolor=\"rgba(255,255,255,0.7)\"\n",
    "  )\n",
    "\n",
    "  fig.update_layout(\n",
    "      xaxis_tickangle=-75,\n",
    "      coloraxis_colorbar=dict(title=\"CO2 (g/km)\"),\n",
    "      uniformtext_minsize=8,\n",
    "      uniformtext_mode='hide'\n",
    "  )\n",
    "\n",
    "  fig.show()\n",
    "\n",
    "def detecter_outliers_plotly_var(serie, seuil=1.5):\n",
    "    \"\"\"\n",
    "    Détecte les outliers pour une seule variable numérique en utilisant la méthode IQR.\n",
    "    Affiche également un Boxplot interactif.\n",
    "\n",
    "    :param serie: Série Pandas contenant les valeurs de la variable.\n",
    "    :param seuil: Seuil du coefficient IQR (par défaut 1.5).\n",
    "    :return: DataFrame contenant le nombre d'outliers et le pourcentage.\n",
    "    \"\"\"\n",
    "    if not isinstance(serie, pd.Series):\n",
    "        raise ValueError(\"Veuillez fournir une variable sous forme de pd.Series\")\n",
    "\n",
    "    Q1 = serie.quantile(0.25)  # Premier quartile\n",
    "    Q3 = serie.quantile(0.75)  # Troisième quartile\n",
    "    IQR = Q3 - Q1  # Intervalle interquartile\n",
    "\n",
    "    # Détection des valeurs aberrantes\n",
    "    lower_bound = Q1 - seuil * IQR\n",
    "    upper_bound = Q3 + seuil * IQR\n",
    "    outliers = serie[(serie < lower_bound) | (serie > upper_bound)]\n",
    "\n",
    "    # Résultats\n",
    "    nb_outliers = outliers.shape[0]\n",
    "    perc_outliers = (nb_outliers / serie.shape[0]) * 100\n",
    "\n",
    "    # Création du Boxplot avec Plotly\n",
    "    fig = go.Figure()\n",
    "    fig.add_trace(go.Box(\n",
    "        x=serie,\n",
    "        name=serie.name if serie.name else \"Variable\",\n",
    "        marker_color='blue',\n",
    "        boxpoints='outliers'\n",
    "    ))\n",
    "\n",
    "    # Mise en page\n",
    "    fig.update_layout(\n",
    "        title=f\"Box Plot de {serie.name if serie.name else 'Variable'}\",\n",
    "        xaxis_title=\"Valeur\",\n",
    "        yaxis_title=\"Variable\",\n",
    "        template=\"plotly_white\",\n",
    "        showlegend=False\n",
    "    )\n",
    "\n",
    "    fig.show()\n",
    "\n",
    "    # Résultats sous forme de DataFrame\n",
    "    df_outliers = pd.DataFrame({\n",
    "        \"Nb_Outliers\": [nb_outliers],\n",
    "        \"Pourcentage\": [round(perc_outliers, 2)]\n",
    "    }, index=[serie.name if serie.name else \"Variable\"])\n",
    "\n",
    "    return df_outliers\n"
   ]
  },
  {
   "cell_type": "markdown",
   "id": "fac0e4b3-86cc-4e29-8adb-6f8407dfe185",
   "metadata": {
    "id": "fac0e4b3-86cc-4e29-8adb-6f8407dfe185"
   },
   "source": [
    "# <font color='#3585CD'>Chargement des données</font>"
   ]
  },
  {
   "cell_type": "markdown",
   "id": "KyfiKA5euFPi",
   "metadata": {
    "id": "KyfiKA5euFPi"
   },
   "source": [
    "## Chargement du dataset principal"
   ]
  },
  {
   "cell_type": "code",
   "execution_count": null,
   "id": "C-aTCIOKtpIc",
   "metadata": {
    "colab": {
     "base_uri": "https://localhost:8080/"
    },
    "executionInfo": {
     "elapsed": 1769,
     "status": "ok",
     "timestamp": 1742545216135,
     "user": {
      "displayName": "Dimitri L",
      "userId": "02929891347853983044"
     },
     "user_tz": -60
    },
    "id": "C-aTCIOKtpIc",
    "outputId": "c7e4f098-08b5-4068-c205-ef7474d706bf"
   },
   "outputs": [],
   "source": [
    "# Le dataset étant volumineux pour être dans le repository Github, nous le téléchargeons via Kaggle test\n",
    "path = kagglehub.dataset_download(\"dimitrileloup/vehicules-fr-2022-2023\")\n",
    "print(\"Chemin vers le fichier : \", path)"
   ]
  },
  {
   "cell_type": "code",
   "execution_count": null,
   "id": "39KamcnbtwyV",
   "metadata": {
    "colab": {
     "base_uri": "https://localhost:8080/",
     "height": 583
    },
    "executionInfo": {
     "elapsed": 19414,
     "status": "ok",
     "timestamp": 1742545235596,
     "user": {
      "displayName": "Dimitri L",
      "userId": "02929891347853983044"
     },
     "user_tz": -60
    },
    "id": "39KamcnbtwyV",
    "outputId": "d74eb31b-3485-473b-9d63-3e8baec50d7c"
   },
   "outputs": [],
   "source": [
    "dataset_path = f\"{path}/datas_FR_2022_2023.csv\"\n",
    "df = pd.read_csv(dataset_path)\n",
    "df.head(10)"
   ]
  },
  {
   "cell_type": "code",
   "execution_count": null,
   "id": "3mSLkzOhd12y",
   "metadata": {
    "executionInfo": {
     "elapsed": 2,
     "status": "ok",
     "timestamp": 1742545235630,
     "user": {
      "displayName": "Dimitri L",
      "userId": "02929891347853983044"
     },
     "user_tz": -60
    },
    "id": "3mSLkzOhd12y"
   },
   "outputs": [],
   "source": [
    "# Suppression des espaces accidentels dans les noms des colonnes comme \"Fuel consumption \"\n",
    "df.columns = df.columns.str.strip()"
   ]
  },
  {
   "cell_type": "markdown",
   "id": "ad7d7593-d7f7-4704-b364-a82db664efe5",
   "metadata": {
    "id": "ad7d7593-d7f7-4704-b364-a82db664efe5"
   },
   "source": [
    "## Chargement du dataset du dictionnaire des variables"
   ]
  },
  {
   "cell_type": "code",
   "execution_count": null,
   "id": "8a4999de-f7ca-4c2f-8b79-49eb4ede13c3",
   "metadata": {
    "colab": {
     "base_uri": "https://localhost:8080/"
    },
    "executionInfo": {
     "elapsed": 1666,
     "status": "ok",
     "timestamp": 1742545237297,
     "user": {
      "displayName": "Dimitri L",
      "userId": "02929891347853983044"
     },
     "user_tz": -60
    },
    "id": "8a4999de-f7ca-4c2f-8b79-49eb4ede13c3",
    "outputId": "48e220e4-19a0-4ad0-f624-5d89a86439e8"
   },
   "outputs": [],
   "source": [
    "path_vars = kagglehub.dataset_download(\"dimitrileloup/dfinition-des-colonnes\")\n",
    "print(\"Path to dataset files:\", path_vars)"
   ]
  },
  {
   "cell_type": "code",
   "execution_count": null,
   "id": "BHhRhCE9raJA",
   "metadata": {
    "colab": {
     "base_uri": "https://localhost:8080/",
     "height": 1000
    },
    "executionInfo": {
     "elapsed": 45,
     "status": "ok",
     "timestamp": 1742545237343,
     "user": {
      "displayName": "Dimitri L",
      "userId": "02929891347853983044"
     },
     "user_tz": -60
    },
    "id": "BHhRhCE9raJA",
    "outputId": "7f7fa981-b6e8-4709-9cf5-a583556016fa"
   },
   "outputs": [],
   "source": [
    "pd.set_option('display.max_colwidth', None) # pour pouvoir afficher tout le descriptif\n",
    "dataset_variables = f\"{path_vars}/Table-definition.xlsx\"\n",
    "var = pd.read_excel(dataset_variables)\n",
    "var.head(40)"
   ]
  },
  {
   "cell_type": "markdown",
   "id": "4d2994d8-8ee7-4bd4-98b8-ba84917ccada",
   "metadata": {
    "id": "4d2994d8-8ee7-4bd4-98b8-ba84917ccada"
   },
   "source": [
    "# <font color='#3585CD'>Premières analyses</font>"
   ]
  },
  {
   "cell_type": "markdown",
   "id": "rBT6LK3njiv2",
   "metadata": {
    "id": "rBT6LK3njiv2"
   },
   "source": [
    "## Informations sur le dataset"
   ]
  },
  {
   "cell_type": "code",
   "execution_count": null,
   "id": "a31daca1-c9e9-475d-a6f9-c5ab20987a75",
   "metadata": {
    "colab": {
     "base_uri": "https://localhost:8080/"
    },
    "executionInfo": {
     "elapsed": 8,
     "status": "ok",
     "timestamp": 1742545237352,
     "user": {
      "displayName": "Dimitri L",
      "userId": "02929891347853983044"
     },
     "user_tz": -60
    },
    "id": "a31daca1-c9e9-475d-a6f9-c5ab20987a75",
    "outputId": "5d7956af-79d3-4f0b-bbf0-20fb282d4cb2"
   },
   "outputs": [],
   "source": [
    "print(\"\\nAperçu du dataset :\")\n",
    "print(df.info())"
   ]
  },
  {
   "cell_type": "markdown",
   "id": "3IcE3faMuvgh",
   "metadata": {
    "id": "3IcE3faMuvgh"
   },
   "source": [
    "## Satistiques descriptives"
   ]
  },
  {
   "cell_type": "code",
   "execution_count": null,
   "id": "873490e5-56da-49c9-9e1e-25a075dba181",
   "metadata": {
    "colab": {
     "base_uri": "https://localhost:8080/",
     "height": 711
    },
    "executionInfo": {
     "elapsed": 1917,
     "status": "ok",
     "timestamp": 1742545242979,
     "user": {
      "displayName": "Dimitri L",
      "userId": "02929891347853983044"
     },
     "user_tz": -60
    },
    "id": "873490e5-56da-49c9-9e1e-25a075dba181",
    "outputId": "44ed6a6b-94b3-4846-e603-696fc4eb62e5"
   },
   "outputs": [],
   "source": [
    "print(\"\\nStatistiques descriptives :\")\n",
    "display(df.describe(include='number').T)"
   ]
  },
  {
   "cell_type": "code",
   "execution_count": null,
   "id": "RheMHKZ4Ier1",
   "metadata": {
    "colab": {
     "base_uri": "https://localhost:8080/",
     "height": 676
    },
    "executionInfo": {
     "elapsed": 12457,
     "status": "ok",
     "timestamp": 1742545259190,
     "user": {
      "displayName": "Dimitri L",
      "userId": "02929891347853983044"
     },
     "user_tz": -60
    },
    "id": "RheMHKZ4Ier1",
    "outputId": "24f94129-2b05-4adb-a771-dca60e467008"
   },
   "outputs": [],
   "source": [
    "df.describe(include=\"object\").T"
   ]
  },
  {
   "cell_type": "markdown",
   "id": "c1a720bf-bc05-4de7-82f8-064abfe111de",
   "metadata": {
    "id": "c1a720bf-bc05-4de7-82f8-064abfe111de"
   },
   "source": [
    "## Nombre de valeurs uniques par colonne"
   ]
  },
  {
   "cell_type": "code",
   "execution_count": null,
   "id": "20764bc6-5f0f-40cb-82d3-14578b95a891",
   "metadata": {
    "colab": {
     "base_uri": "https://localhost:8080/",
     "height": 1000
    },
    "executionInfo": {
     "elapsed": 7199,
     "status": "ok",
     "timestamp": 1742545266390,
     "user": {
      "displayName": "Dimitri L",
      "userId": "02929891347853983044"
     },
     "user_tz": -60
    },
    "id": "20764bc6-5f0f-40cb-82d3-14578b95a891",
    "outputId": "cf1762d2-3f6b-4b0f-9c46-ea877d7dfaa3"
   },
   "outputs": [],
   "source": [
    "# Calculer le nombre de valeurs uniques par colonne et renommer la colonne\n",
    "df_unique_values = df.nunique().sort_values(ascending=False).reset_index()\n",
    "df_unique_values.columns = [\"colonne\", \"nombre de valeurs uniques\"]\n",
    "\n",
    "df_unique_values"
   ]
  },
  {
   "cell_type": "markdown",
   "id": "21685991-9178-413c-9b86-f63e9f2c6658",
   "metadata": {
    "id": "21685991-9178-413c-9b86-f63e9f2c6658"
   },
   "source": [
    "## Analyse rapide des colonnes\n",
    "<p>La fonction analyse_columns permet de visualiser les différentes colonnes avec un échantillon de valeurs</p>"
   ]
  },
  {
   "cell_type": "code",
   "execution_count": null,
   "id": "bde65772-4c7e-4c7a-ba24-c09970eb8194",
   "metadata": {
    "colab": {
     "base_uri": "https://localhost:8080/",
     "height": 1000
    },
    "executionInfo": {
     "elapsed": 13025,
     "status": "ok",
     "timestamp": 1742545279414,
     "user": {
      "displayName": "Dimitri L",
      "userId": "02929891347853983044"
     },
     "user_tz": -60
    },
    "id": "bde65772-4c7e-4c7a-ba24-c09970eb8194",
    "outputId": "236a008e-ccac-4143-af69-298471f0a6f9"
   },
   "outputs": [],
   "source": [
    "analysis_df = analyse_columns(df)\n",
    "analysis_df"
   ]
  },
  {
   "cell_type": "markdown",
   "id": "0675ff7e-1b8e-4032-8709-717f417371c2",
   "metadata": {
    "id": "0675ff7e-1b8e-4032-8709-717f417371c2"
   },
   "source": [
    "# <font color='#3585CD'>Analyse des valeurs manquantes</font>"
   ]
  },
  {
   "cell_type": "code",
   "execution_count": null,
   "id": "fe306e41-e32f-4678-8629-da0789543853",
   "metadata": {
    "colab": {
     "base_uri": "https://localhost:8080/",
     "height": 833
    },
    "executionInfo": {
     "elapsed": 4901,
     "status": "ok",
     "timestamp": 1742545292838,
     "user": {
      "displayName": "Dimitri L",
      "userId": "02929891347853983044"
     },
     "user_tz": -60
    },
    "id": "fe306e41-e32f-4678-8629-da0789543853",
    "outputId": "50539490-3702-41b8-cb46-352e667eab42"
   },
   "outputs": [],
   "source": [
    "data_na = display_missing_values(df)\n",
    "data_na"
   ]
  },
  {
   "cell_type": "markdown",
   "id": "b8b650d0-d15e-4517-b310-95926e85b9bd",
   "metadata": {
    "id": "b8b650d0-d15e-4517-b310-95926e85b9bd"
   },
   "source": [
    "# <font color='#3585CD'>Suppression de colonnes</font>"
   ]
  },
  {
   "cell_type": "markdown",
   "id": "_fQOFpEEfLe1",
   "metadata": {
    "id": "_fQOFpEEfLe1"
   },
   "source": [
    "Nous pouvons dès à présent ces colonnes qui ont un taux de valeurs manquantes supérieur à 70% :\n",
    "\n",
    "*   At2 (mm)\n",
    "*   W (mm)\n",
    "*   MMS\n",
    "*   Vf\n",
    "*   De\n",
    "*   Ernedc (g/km)\n",
    "*   At1 (mm)\n",
    "*   Enedc (g/km)\n",
    "*   RLFI\n",
    "*   z (Wh/km)\n",
    "*   Electric range (km)"
   ]
  },
  {
   "cell_type": "code",
   "execution_count": null,
   "id": "dad12cf7-aac7-41a9-b670-6e8d86645113",
   "metadata": {
    "colab": {
     "base_uri": "https://localhost:8080/",
     "height": 287
    },
    "executionInfo": {
     "elapsed": 43,
     "status": "error",
     "timestamp": 1742545312754,
     "user": {
      "displayName": "Dimitri L",
      "userId": "02929891347853983044"
     },
     "user_tz": -60
    },
    "id": "dad12cf7-aac7-41a9-b670-6e8d86645113",
    "outputId": "300e43b0-c0c1-43d7-e7e8-9f49dd7d3562"
   },
   "outputs": [],
   "source": [
    "df = df.drop(columns=['At2 (mm)', 'W (mm)', 'MMS', 'Vf', 'De', 'Ernedc (g/km)',\t'At1 (mm)',\t'Enedc (g/km)',\t'RLFI',\t'z (Wh/km)', 'Electric range (km)'], axis=1)"
   ]
  },
  {
   "cell_type": "code",
   "execution_count": null,
   "id": "_c4NWIPGkfET",
   "metadata": {
    "colab": {
     "base_uri": "https://localhost:8080/"
    },
    "executionInfo": {
     "elapsed": 6758,
     "status": "ok",
     "timestamp": 1742545300891,
     "user": {
      "displayName": "Dimitri L",
      "userId": "02929891347853983044"
     },
     "user_tz": -60
    },
    "id": "_c4NWIPGkfET",
    "outputId": "9c3ad100-a211-4d18-a0e4-cbc6c4c6d9fb"
   },
   "outputs": [],
   "source": [
    "df.duplicated().sum()"
   ]
  },
  {
   "cell_type": "code",
   "execution_count": null,
   "id": "143efb4b-af94-4593-bf51-f2359a8a5276",
   "metadata": {
    "colab": {
     "base_uri": "https://localhost:8080/",
     "height": 488
    },
    "executionInfo": {
     "elapsed": 7417,
     "status": "ok",
     "timestamp": 1742545337234,
     "user": {
      "displayName": "Dimitri L",
      "userId": "02929891347853983044"
     },
     "user_tz": -60
    },
    "id": "143efb4b-af94-4593-bf51-f2359a8a5276",
    "outputId": "1c06d4bf-7cc8-41e4-e3ce-8e29ec415f73"
   },
   "outputs": [],
   "source": [
    "data_na = display_missing_values(df)\n",
    "data_na"
   ]
  },
  {
   "cell_type": "markdown",
   "id": "XTvUxn3vE18r",
   "metadata": {
    "id": "XTvUxn3vE18r"
   },
   "source": [
    "# <font color='#3585CD'>Suppresion des colonnes non pertinentes</font>"
   ]
  },
  {
   "cell_type": "markdown",
   "id": "u6weWs8peR8M",
   "metadata": {
    "id": "u6weWs8peR8M"
   },
   "source": [
    "Certaines colonnes n'ont pas d'intérêt à être gardées :\n",
    "\n",
    "*   IT\n",
    "*   Erwltp (g/km) (dépreciée)\n",
    "*   ID : identifiant du véhicule\n",
    "*   Country : notre dataset est une extraction des véhicules de France\n",
    "*   VFN : n'a pas de norme universelle et comporte trop de valeurs\n",
    "*   Tan : trop de valeurs et sans intérêt pour notre projet\n",
    "*   T : trop de valeurs et sans intérêt pour notre projet\n",
    "*   Va : trop de valeurs et sans intérêt pour notre projet\n",
    "*   Ve : trop de valeurs et sans intérêt pour notre projet\n",
    "*   Status : n'a qu'une seule valeur et ne varie pas\n",
    "*   Year : 1 seule valeur\n",
    "*   Date of registration : sans intérêt pour notre projet\n",
    "*   Fm : redondant avec Ft\n",
    "*   Cr : nous avons 2 catégories (M1, M1G). M1G est une sous-catégorie de M1 réservée aux véhicules tout-terrain. Nous pouvons conclure que tous les véhicules sont de catégorie M1\n",
    "*   Ct : idem que Cr\n",
    "*   ech : sans intérêt pour notre projet\n",
    "*   Mp : redondant, se retrouve dans une autre colonne\n",
    "*   Man : redondant avec Mk\n",
    "*   r : n'a qu'une seule valeur\n",
    "*   Mh : redondant avec Mk\n"
   ]
  },
  {
   "cell_type": "code",
   "execution_count": null,
   "id": "yQJiYArxEAVT",
   "metadata": {
    "executionInfo": {
     "elapsed": 142,
     "status": "ok",
     "timestamp": 1742545341604,
     "user": {
      "displayName": "Dimitri L",
      "userId": "02929891347853983044"
     },
     "user_tz": -60
    },
    "id": "yQJiYArxEAVT"
   },
   "outputs": [],
   "source": [
    "df = df.drop(columns=['IT', 'Erwltp (g/km)', 'ID', 'Country', 'VFN', 'Tan', 'T', 'Va', 'Ve', 'Status', 'year', 'Date of registration', 'Fm', 'Cr', 'Ct', 'ech', 'Mp', 'Man', 'r', 'Mh'], axis=1)"
   ]
  },
  {
   "cell_type": "markdown",
   "id": "B-pWKFT5EhZn",
   "metadata": {
    "id": "B-pWKFT5EhZn"
   },
   "source": [
    "## Vérification de la corrélation entre Masse à vide et Masse totale</font>"
   ]
  },
  {
   "cell_type": "code",
   "execution_count": null,
   "id": "MmCPLVWnEhZn",
   "metadata": {
    "colab": {
     "base_uri": "https://localhost:8080/",
     "height": 617
    },
    "executionInfo": {
     "elapsed": 544,
     "status": "ok",
     "timestamp": 1742545348481,
     "user": {
      "displayName": "Dimitri L",
      "userId": "02929891347853983044"
     },
     "user_tz": -60
    },
    "id": "MmCPLVWnEhZn",
    "outputId": "48f0d219-f6e4-480d-b09d-d076ff484613"
   },
   "outputs": [],
   "source": [
    "df_masse = df[['Mt', 'm (kg)']]\n",
    "plot_correlation_matrix(df_masse)"
   ]
  },
  {
   "cell_type": "markdown",
   "id": "TN7YYC4-EhZn",
   "metadata": {
    "id": "TN7YYC4-EhZn"
   },
   "source": [
    "On se rend compte qu'il y a une **forte corrélataion** entre ces 2 variables, qui pourrait entrainer une **colinéarité**. Nous prenons la décision de ne garder que la masse à vide (m (kg))"
   ]
  },
  {
   "cell_type": "code",
   "execution_count": null,
   "id": "56BPP9VREhZo",
   "metadata": {
    "executionInfo": {
     "elapsed": 164,
     "status": "ok",
     "timestamp": 1742545351510,
     "user": {
      "displayName": "Dimitri L",
      "userId": "02929891347853983044"
     },
     "user_tz": -60
    },
    "id": "56BPP9VREhZo"
   },
   "outputs": [],
   "source": [
    "df = df.drop('Mt', axis=1)"
   ]
  },
  {
   "cell_type": "markdown",
   "id": "b1b2e3a8-5b2c-4c65-bab0-a0cba65fad0c",
   "metadata": {
    "id": "b1b2e3a8-5b2c-4c65-bab0-a0cba65fad0c"
   },
   "source": [
    "# <font color='#3585CD'>Gestion des doublons</font>"
   ]
  },
  {
   "cell_type": "markdown",
   "id": "b961d0eb-90ef-48c0-aa6b-de3172790a47",
   "metadata": {
    "id": "b961d0eb-90ef-48c0-aa6b-de3172790a47"
   },
   "source": [
    "## Nombre de doublons"
   ]
  },
  {
   "cell_type": "code",
   "execution_count": null,
   "id": "ba6fd113-1ade-4faf-929c-5cf1cce6ae6a",
   "metadata": {
    "colab": {
     "base_uri": "https://localhost:8080/"
    },
    "executionInfo": {
     "elapsed": 1156,
     "status": "ok",
     "timestamp": 1742545354262,
     "user": {
      "displayName": "Dimitri L",
      "userId": "02929891347853983044"
     },
     "user_tz": -60
    },
    "id": "ba6fd113-1ade-4faf-929c-5cf1cce6ae6a",
    "outputId": "fe60f8a1-15ea-4cd4-c5c0-575c6f536614"
   },
   "outputs": [],
   "source": [
    "df.duplicated().sum()"
   ]
  },
  {
   "cell_type": "markdown",
   "id": "a3c9198b-d5a5-44c1-82c5-dcee234f9eb5",
   "metadata": {
    "id": "a3c9198b-d5a5-44c1-82c5-dcee234f9eb5"
   },
   "source": [
    "## Supression des doublons"
   ]
  },
  {
   "cell_type": "code",
   "execution_count": null,
   "id": "f191ba2d-c256-49be-8fed-fae3d459feb1",
   "metadata": {
    "executionInfo": {
     "elapsed": 1019,
     "status": "ok",
     "timestamp": 1742545355280,
     "user": {
      "displayName": "Dimitri L",
      "userId": "02929891347853983044"
     },
     "user_tz": -60
    },
    "id": "f191ba2d-c256-49be-8fed-fae3d459feb1"
   },
   "outputs": [],
   "source": [
    "df.drop_duplicates(inplace =True)"
   ]
  },
  {
   "cell_type": "code",
   "execution_count": null,
   "id": "b32167b5-eff4-4e0b-aa91-66440422678a",
   "metadata": {
    "colab": {
     "base_uri": "https://localhost:8080/"
    },
    "executionInfo": {
     "elapsed": 12,
     "status": "ok",
     "timestamp": 1742545356106,
     "user": {
      "displayName": "Dimitri L",
      "userId": "02929891347853983044"
     },
     "user_tz": -60
    },
    "id": "b32167b5-eff4-4e0b-aa91-66440422678a",
    "outputId": "f2cce3eb-f2a0-4c9f-9775-3b1cfdbd7660"
   },
   "outputs": [],
   "source": [
    "df.duplicated().sum()"
   ]
  },
  {
   "cell_type": "code",
   "execution_count": null,
   "id": "Lgq_jDPU5Nbq",
   "metadata": {
    "colab": {
     "base_uri": "https://localhost:8080/"
    },
    "executionInfo": {
     "elapsed": 10,
     "status": "ok",
     "timestamp": 1742545357657,
     "user": {
      "displayName": "Dimitri L",
      "userId": "02929891347853983044"
     },
     "user_tz": -60
    },
    "id": "Lgq_jDPU5Nbq",
    "outputId": "471d4fbc-1963-4f3c-a830-6bf406c3c084"
   },
   "outputs": [],
   "source": [
    "df.shape"
   ]
  },
  {
   "cell_type": "code",
   "execution_count": null,
   "id": "e-aMi_AowYAG",
   "metadata": {
    "executionInfo": {
     "elapsed": 8,
     "status": "ok",
     "timestamp": 1742545359278,
     "user": {
      "displayName": "Dimitri L",
      "userId": "02929891347853983044"
     },
     "user_tz": -60
    },
    "id": "e-aMi_AowYAG"
   },
   "outputs": [],
   "source": [
    "df = df.reset_index(drop=True)"
   ]
  },
  {
   "cell_type": "markdown",
   "id": "XCnoOyCviU5U",
   "metadata": {
    "id": "XCnoOyCviU5U"
   },
   "source": [
    "# <font color='#3585CD'>Renommage des colonnes</font>"
   ]
  },
  {
   "cell_type": "markdown",
   "id": "2pKp3lLAiXwu",
   "metadata": {
    "id": "2pKp3lLAiXwu"
   },
   "source": [
    "Pour plus de compréhension, nous allons renommer les colonnes :"
   ]
  },
  {
   "cell_type": "markdown",
   "id": "Bo6x4ZPzidYL",
   "metadata": {
    "id": "Bo6x4ZPzidYL"
   },
   "source": [
    "\n",
    "\n",
    "*   Mk : Marque\n",
    "*   Cn : Modele\n",
    "*   Ewltp (g/km) : Co2\n",
    "*   Ft : Carburant\n",
    "*   ec (cm3) : Cylindree moteur\n",
    "*   ep (KW) : Puissance moteur\n",
    "*   Fuel consumption : Consommation carburant\n"
   ]
  },
  {
   "cell_type": "code",
   "execution_count": null,
   "id": "qyD-Qh3BopIa",
   "metadata": {
    "executionInfo": {
     "elapsed": 14,
     "status": "ok",
     "timestamp": 1742545361773,
     "user": {
      "displayName": "Dimitri L",
      "userId": "02929891347853983044"
     },
     "user_tz": -60
    },
    "id": "qyD-Qh3BopIa"
   },
   "outputs": [],
   "source": [
    "renommage = {\n",
    "    'Mk': 'Marque',\n",
    "    'Cn': 'Modèle',\n",
    "    'm (kg)' : 'Masse à vide',\n",
    "    'Ewltp (g/km)': 'CO2',\n",
    "    'Ft': 'Carburant',\n",
    "    'ec (cm3)': 'Cylindrée moteur',\n",
    "    'ep (KW)': 'Puissance moteur',\n",
    "    'Fuel consumption': 'Consommation carburant'\n",
    "}\n",
    "\n",
    "# Application du renommage\n",
    "df.rename(columns=renommage, inplace=True)"
   ]
  },
  {
   "cell_type": "code",
   "execution_count": null,
   "id": "-1TvWNbTiSHn",
   "metadata": {
    "colab": {
     "base_uri": "https://localhost:8080/",
     "height": 423
    },
    "executionInfo": {
     "elapsed": 68,
     "status": "ok",
     "timestamp": 1742545364041,
     "user": {
      "displayName": "Dimitri L",
      "userId": "02929891347853983044"
     },
     "user_tz": -60
    },
    "id": "-1TvWNbTiSHn",
    "outputId": "46d9c509-ea35-4547-951f-abbf2ab19b1e"
   },
   "outputs": [],
   "source": [
    "df"
   ]
  },
  {
   "cell_type": "markdown",
   "id": "1260xnGGEC8t",
   "metadata": {
    "id": "1260xnGGEC8t"
   },
   "source": [
    "# <font color='#3585CD'>Faut-il garder les véhicules électriques et hydrogènes ?</font>\n",
    "Notre objectif est de prédire les émissions directes de CO2. Garder les véhicules électriques et hydrogènes risque de biaiser notre modèle. Nous allons donc exclure les véhicules électriques de notre dataset"
   ]
  },
  {
   "cell_type": "code",
   "execution_count": null,
   "id": "AF_I04kc4gs-",
   "metadata": {
    "colab": {
     "base_uri": "https://localhost:8080/",
     "height": 147
    },
    "executionInfo": {
     "elapsed": 12,
     "status": "ok",
     "timestamp": 1742545368771,
     "user": {
      "displayName": "Dimitri L",
      "userId": "02929891347853983044"
     },
     "user_tz": -60
    },
    "id": "AF_I04kc4gs-",
    "outputId": "e2a186a3-f5ff-4860-9a22-e3e449b03ad9"
   },
   "outputs": [],
   "source": [
    "# Vérification des émissions de CO2 des véhicules hydrogènes\n",
    "df_hydrogen = df[df[\"Carburant\"] == \"hydrogen\"]\n",
    "df_hydrogen['CO2'].value_counts()"
   ]
  },
  {
   "cell_type": "code",
   "execution_count": null,
   "id": "8boy6o-VEPiJ",
   "metadata": {
    "executionInfo": {
     "elapsed": 10,
     "status": "ok",
     "timestamp": 1742545370316,
     "user": {
      "displayName": "Dimitri L",
      "userId": "02929891347853983044"
     },
     "user_tz": -60
    },
    "id": "8boy6o-VEPiJ"
   },
   "outputs": [],
   "source": [
    "# Nous excluons les véhicules électriques et hydrogènes\n",
    "df = df[(df[\"Carburant\"] != \"electric\") & (df[\"Carburant\"] != \"hydrogen\")]"
   ]
  },
  {
   "cell_type": "code",
   "execution_count": null,
   "id": "HPnvxWT6EQq6",
   "metadata": {
    "colab": {
     "base_uri": "https://localhost:8080/"
    },
    "executionInfo": {
     "elapsed": 7,
     "status": "ok",
     "timestamp": 1742545371473,
     "user": {
      "displayName": "Dimitri L",
      "userId": "02929891347853983044"
     },
     "user_tz": -60
    },
    "id": "HPnvxWT6EQq6",
    "outputId": "d0571dd7-470f-45da-f4eb-4dd37ccb1cb0"
   },
   "outputs": [],
   "source": [
    "df.shape"
   ]
  },
  {
   "cell_type": "markdown",
   "id": "nMNVK0J8CJ7I",
   "metadata": {
    "id": "nMNVK0J8CJ7I"
   },
   "source": [
    "# <font color='#3585CD'>Traitement des valeurs manquantes</font>"
   ]
  },
  {
   "cell_type": "code",
   "execution_count": null,
   "id": "BLLGa0XWEfJn",
   "metadata": {
    "colab": {
     "base_uri": "https://localhost:8080/",
     "height": 125
    },
    "executionInfo": {
     "elapsed": 52,
     "status": "ok",
     "timestamp": 1742545373997,
     "user": {
      "displayName": "Dimitri L",
      "userId": "02929891347853983044"
     },
     "user_tz": -60
    },
    "id": "BLLGa0XWEfJn",
    "outputId": "259a9fd6-d19f-485d-823b-932139911c77"
   },
   "outputs": [],
   "source": [
    "data_na = display_missing_values(df)\n",
    "data_na"
   ]
  },
  {
   "cell_type": "markdown",
   "id": "xQRWmXPLCSUd",
   "metadata": {
    "id": "xQRWmXPLCSUd"
   },
   "source": [
    "## Gestion des valeurs manquantes de la colonne Consommation carburant"
   ]
  },
  {
   "cell_type": "code",
   "execution_count": null,
   "id": "gYiAoxS4F-ZM",
   "metadata": {
    "colab": {
     "base_uri": "https://localhost:8080/",
     "height": 89
    },
    "executionInfo": {
     "elapsed": 12,
     "status": "ok",
     "timestamp": 1742545376741,
     "user": {
      "displayName": "Dimitri L",
      "userId": "02929891347853983044"
     },
     "user_tz": -60
    },
    "id": "gYiAoxS4F-ZM",
    "outputId": "6373b2df-65b4-4bc3-ecbb-3307898440ab"
   },
   "outputs": [],
   "source": [
    "df_fc_na = df[df['Consommation carburant'].isna()]\n",
    "df_fc_na"
   ]
  },
  {
   "cell_type": "markdown",
   "id": "crNE0LEOFs8L",
   "metadata": {
    "id": "crNE0LEOFs8L"
   },
   "source": [
    "Nous allons gérer cette ligne"
   ]
  },
  {
   "cell_type": "code",
   "execution_count": null,
   "id": "ILPWd94SJK2S",
   "metadata": {
    "colab": {
     "base_uri": "https://localhost:8080/",
     "height": 206
    },
    "executionInfo": {
     "elapsed": 23,
     "status": "ok",
     "timestamp": 1742545378105,
     "user": {
      "displayName": "Dimitri L",
      "userId": "02929891347853983044"
     },
     "user_tz": -60
    },
    "id": "ILPWd94SJK2S",
    "outputId": "0f7910b0-9690-458b-d7b6-78af4e2cad2e"
   },
   "outputs": [],
   "source": [
    "# regardons si d'autres modeles RANGE ROVER EVOQUE sont renseignés\n",
    "df_jag_evoque = df[(df['Modèle'] == 'RANGE ROVER EVOQUE') & (df['Carburant'] == 'diesel') & (~df['Consommation carburant'].isna())]\n",
    "df_jag_evoque.head()"
   ]
  },
  {
   "cell_type": "code",
   "execution_count": null,
   "id": "23ZKkMPUJRi-",
   "metadata": {
    "colab": {
     "base_uri": "https://localhost:8080/"
    },
    "executionInfo": {
     "elapsed": 12,
     "status": "ok",
     "timestamp": 1742545380298,
     "user": {
      "displayName": "Dimitri L",
      "userId": "02929891347853983044"
     },
     "user_tz": -60
    },
    "id": "23ZKkMPUJRi-",
    "outputId": "b999e2f9-9606-47aa-c6fe-9f5a2d43af94"
   },
   "outputs": [],
   "source": [
    "fc_mean_jag_evoque = df_jag_evoque['Consommation carburant'].mean().round(1)\n",
    "fc_mean_jag_evoque"
   ]
  },
  {
   "cell_type": "code",
   "execution_count": null,
   "id": "hsD7U_LwJV0t",
   "metadata": {
    "executionInfo": {
     "elapsed": 11,
     "status": "ok",
     "timestamp": 1742545381899,
     "user": {
      "displayName": "Dimitri L",
      "userId": "02929891347853983044"
     },
     "user_tz": -60
    },
    "id": "hsD7U_LwJV0t"
   },
   "outputs": [],
   "source": [
    "df.loc[(df[\"Modèle\"] == \"RANGE ROVER EVOQUE\") & (df['Consommation carburant'].isna()), \"Consommation carburant\"] = fc_mean_jag_evoque"
   ]
  },
  {
   "cell_type": "code",
   "execution_count": null,
   "id": "TfaihP-VMIZM",
   "metadata": {
    "colab": {
     "base_uri": "https://localhost:8080/",
     "height": 89
    },
    "executionInfo": {
     "elapsed": 11,
     "status": "ok",
     "timestamp": 1742545383049,
     "user": {
      "displayName": "Dimitri L",
      "userId": "02929891347853983044"
     },
     "user_tz": -60
    },
    "id": "TfaihP-VMIZM",
    "outputId": "afe96b5a-5c99-482f-9ac8-658b75019f96"
   },
   "outputs": [],
   "source": [
    "data_na = display_missing_values(df)\n",
    "data_na"
   ]
  },
  {
   "cell_type": "markdown",
   "id": "UzmM74ArPofP",
   "metadata": {
    "id": "UzmM74ArPofP"
   },
   "source": [
    "## Gestion des valeurs manquantes de la colonne Masse à vide"
   ]
  },
  {
   "cell_type": "code",
   "execution_count": null,
   "id": "sbpXsUm4Q6kf",
   "metadata": {
    "colab": {
     "base_uri": "https://localhost:8080/",
     "height": 89
    },
    "executionInfo": {
     "elapsed": 47,
     "status": "ok",
     "timestamp": 1742545385454,
     "user": {
      "displayName": "Dimitri L",
      "userId": "02929891347853983044"
     },
     "user_tz": -60
    },
    "id": "sbpXsUm4Q6kf",
    "outputId": "a4344f70-ef44-441f-b8c1-57edced1d31e"
   },
   "outputs": [],
   "source": [
    "data_na = display_missing_values(df)\n",
    "data_na"
   ]
  },
  {
   "cell_type": "code",
   "execution_count": null,
   "id": "-Q9iGixhSoHL",
   "metadata": {
    "colab": {
     "base_uri": "https://localhost:8080/",
     "height": 89
    },
    "executionInfo": {
     "elapsed": 72,
     "status": "ok",
     "timestamp": 1742545386914,
     "user": {
      "displayName": "Dimitri L",
      "userId": "02929891347853983044"
     },
     "user_tz": -60
    },
    "id": "-Q9iGixhSoHL",
    "outputId": "51ee8dd3-81dd-411c-bc48-4e91d249aa54"
   },
   "outputs": [],
   "source": [
    "df_mkg_na = df[df['Masse à vide'].isna()]\n",
    "df_mkg_na"
   ]
  },
  {
   "cell_type": "markdown",
   "id": "lAEtmGqbP376",
   "metadata": {
    "id": "lAEtmGqbP376"
   },
   "source": [
    "Recherchons dans le dataset si nous avons des modèles équivalents dont les variables m (kg) et Mt ne sont **pas nulles**"
   ]
  },
  {
   "cell_type": "code",
   "execution_count": null,
   "id": "z6J6J93bSvW8",
   "metadata": {
    "colab": {
     "base_uri": "https://localhost:8080/",
     "height": 363
    },
    "executionInfo": {
     "elapsed": 53,
     "status": "ok",
     "timestamp": 1742545388945,
     "user": {
      "displayName": "Dimitri L",
      "userId": "02929891347853983044"
     },
     "user_tz": -60
    },
    "id": "z6J6J93bSvW8",
    "outputId": "fd8985a4-c8cf-4f57-c53f-315812495d69"
   },
   "outputs": [],
   "source": [
    "df_jag_lr = df[(df['Modèle'] == 'RANGE ROVER EVOQUE') & (df['Carburant'] == 'diesel') & (df['Puissance moteur'] == 120) & (~df['Masse à vide'].isna())]\n",
    "df_jag_lr"
   ]
  },
  {
   "cell_type": "code",
   "execution_count": null,
   "id": "LFekO1igylLN",
   "metadata": {
    "colab": {
     "base_uri": "https://localhost:8080/"
    },
    "executionInfo": {
     "elapsed": 8,
     "status": "ok",
     "timestamp": 1742545391017,
     "user": {
      "displayName": "Dimitri L",
      "userId": "02929891347853983044"
     },
     "user_tz": -60
    },
    "id": "LFekO1igylLN",
    "outputId": "3dddd00e-2e9d-4426-d5dc-9556669950a7"
   },
   "outputs": [],
   "source": [
    "fc_mean_masse_jag_evoque = df_jag_evoque['Masse à vide'].mean().round(1)\n",
    "fc_mean_masse_jag_evoque"
   ]
  },
  {
   "cell_type": "code",
   "execution_count": null,
   "id": "RBB0Q_YIS9WN",
   "metadata": {
    "executionInfo": {
     "elapsed": 15,
     "status": "ok",
     "timestamp": 1742545391964,
     "user": {
      "displayName": "Dimitri L",
      "userId": "02929891347853983044"
     },
     "user_tz": -60
    },
    "id": "RBB0Q_YIS9WN"
   },
   "outputs": [],
   "source": [
    "# pour les mêmes modèles, la variable Masse à vide est égale à 1967\n",
    "df['Masse à vide'] = df['Masse à vide'].fillna(fc_mean_masse_jag_evoque)"
   ]
  },
  {
   "cell_type": "code",
   "execution_count": null,
   "id": "2C1F99lCyyBu",
   "metadata": {
    "colab": {
     "base_uri": "https://localhost:8080/",
     "height": 81
    },
    "executionInfo": {
     "elapsed": 36,
     "status": "ok",
     "timestamp": 1742545393466,
     "user": {
      "displayName": "Dimitri L",
      "userId": "02929891347853983044"
     },
     "user_tz": -60
    },
    "id": "2C1F99lCyyBu",
    "outputId": "fd8e0ccc-db1b-4f06-8e6e-bbbaf4738d02"
   },
   "outputs": [],
   "source": [
    "# Vérification\n",
    "df.loc[23942].to_frame().T"
   ]
  },
  {
   "cell_type": "code",
   "execution_count": null,
   "id": "9DwiZuFlTk6a",
   "metadata": {
    "colab": {
     "base_uri": "https://localhost:8080/",
     "height": 89
    },
    "executionInfo": {
     "elapsed": 17,
     "status": "ok",
     "timestamp": 1742545395280,
     "user": {
      "displayName": "Dimitri L",
      "userId": "02929891347853983044"
     },
     "user_tz": -60
    },
    "id": "9DwiZuFlTk6a",
    "outputId": "a96557ad-41fd-4e5b-9ddd-84e0be507684"
   },
   "outputs": [],
   "source": [
    "data_na = display_missing_values(df)\n",
    "data_na"
   ]
  },
  {
   "cell_type": "code",
   "execution_count": null,
   "id": "UKaVBb3CL_H2",
   "metadata": {
    "colab": {
     "base_uri": "https://localhost:8080/",
     "height": 423
    },
    "executionInfo": {
     "elapsed": 52,
     "status": "ok",
     "timestamp": 1742545397138,
     "user": {
      "displayName": "Dimitri L",
      "userId": "02929891347853983044"
     },
     "user_tz": -60
    },
    "id": "UKaVBb3CL_H2",
    "outputId": "8b150260-4cdd-4dbe-a5bc-5012996f8605"
   },
   "outputs": [],
   "source": [
    "# ré inisialisation des indexes\n",
    "df = df.reset_index(drop=True)\n",
    "df"
   ]
  },
  {
   "cell_type": "markdown",
   "id": "accb1556-d8e9-413e-b3a5-5a8b07b9915d",
   "metadata": {
    "id": "accb1556-d8e9-413e-b3a5-5a8b07b9915d"
   },
   "source": [
    "# <font color='#3585CD'>Distribution des variables catégorielles</font>"
   ]
  },
  {
   "cell_type": "markdown",
   "id": "CGMWJWf38nh_",
   "metadata": {
    "id": "CGMWJWf38nh_"
   },
   "source": [
    "## Analyse par marque"
   ]
  },
  {
   "cell_type": "markdown",
   "id": "RuVXG0Q5u_KE",
   "metadata": {
    "id": "RuVXG0Q5u_KE"
   },
   "source": [
    "### Valeurs uniques"
   ]
  },
  {
   "cell_type": "code",
   "execution_count": null,
   "id": "5ZHxvkSEtKhJ",
   "metadata": {
    "colab": {
     "base_uri": "https://localhost:8080/"
    },
    "executionInfo": {
     "elapsed": 11,
     "status": "ok",
     "timestamp": 1742545401855,
     "user": {
      "displayName": "Dimitri L",
      "userId": "02929891347853983044"
     },
     "user_tz": -60
    },
    "id": "5ZHxvkSEtKhJ",
    "outputId": "610081fe-4a91-4fa1-b6aa-f25158f97e58"
   },
   "outputs": [],
   "source": [
    "sorted(df['Marque'].unique())"
   ]
  },
  {
   "cell_type": "markdown",
   "id": "RhOjBPp9vEXM",
   "metadata": {
    "id": "RhOjBPp9vEXM"
   },
   "source": [
    "### Remplacement"
   ]
  },
  {
   "cell_type": "markdown",
   "id": "R6_4LDP_tjoR",
   "metadata": {
    "id": "R6_4LDP_tjoR"
   },
   "source": [
    "Certaines valeurs peuvent être regroupées, comme par exemple :\n",
    "\n",
    "*   'MC LAREN', 'MCLAREN'\n",
    "*   'MERCEDES AMG', 'MERCEDES BENZ', 'MERCEDES-BENZ'\n",
    "*   'MITSUBISHI', 'MITSUBISHI MOTORS CORPORATION', 'MITSUBISHI MOTORS THAILAND'\n"
   ]
  },
  {
   "cell_type": "code",
   "execution_count": null,
   "id": "y_L2EoERtit0",
   "metadata": {
    "executionInfo": {
     "elapsed": 8,
     "status": "ok",
     "timestamp": 1742545404817,
     "user": {
      "displayName": "Dimitri L",
      "userId": "02929891347853983044"
     },
     "user_tz": -60
    },
    "id": "y_L2EoERtit0"
   },
   "outputs": [],
   "source": [
    "replace_mk = {'MC LAREN' : 'MCLAREN',\n",
    "              'MERCEDES AMG' : 'MERCEDES BENZ',\n",
    "              'MERCEDES-BENZ' : 'MERCEDES BENZ',\n",
    "              'MITSUBISHI MOTORS CORPORATION' : 'MITSUBISHI',\n",
    "              'MITSUBISHI MOTORS THAILAND' : 'MITSUBISHI',\n",
    "              'MITSUBISHI MOTORS (THAILAND)' : 'MITSUBISHI',\n",
    "              'FORD-CNG-TECHNIK' : 'FORD',\n",
    "              'ROLLS ROYCE' : 'ROLLS-ROYCE'}\n",
    "df['Marque'] = df['Marque'].replace(replace_mk)"
   ]
  },
  {
   "cell_type": "code",
   "execution_count": null,
   "id": "nTZBoTszU5yq",
   "metadata": {
    "colab": {
     "base_uri": "https://localhost:8080/"
    },
    "executionInfo": {
     "elapsed": 21,
     "status": "ok",
     "timestamp": 1742545407224,
     "user": {
      "displayName": "Dimitri L",
      "userId": "02929891347853983044"
     },
     "user_tz": -60
    },
    "id": "nTZBoTszU5yq",
    "outputId": "aa3d5bf7-5073-4d44-9dd7-b7350f9cb5d4"
   },
   "outputs": [],
   "source": [
    "df['Marque'].nunique()"
   ]
  },
  {
   "cell_type": "markdown",
   "id": "qC_iu021vHqm",
   "metadata": {
    "id": "qC_iu021vHqm"
   },
   "source": [
    "### Analyse"
   ]
  },
  {
   "cell_type": "code",
   "execution_count": null,
   "id": "uIcIiKfu4wSt",
   "metadata": {
    "colab": {
     "base_uri": "https://localhost:8080/",
     "height": 1000
    },
    "executionInfo": {
     "elapsed": 1822,
     "status": "ok",
     "timestamp": 1742545411893,
     "user": {
      "displayName": "Dimitri L",
      "userId": "02929891347853983044"
     },
     "user_tz": -60
    },
    "id": "uIcIiKfu4wSt",
    "outputId": "027c646e-ff7e-4146-bdfa-069660d80ee7"
   },
   "outputs": [],
   "source": [
    "analyser_variable_categorielle_plotly(df, 'Marque', 58)"
   ]
  },
  {
   "cell_type": "markdown",
   "id": "wjr-G8Ng8yPd",
   "metadata": {
    "id": "wjr-G8Ng8yPd"
   },
   "source": [
    "## Analyse par carburant"
   ]
  },
  {
   "cell_type": "markdown",
   "id": "4vQmzy1UvNs2",
   "metadata": {
    "id": "4vQmzy1UvNs2"
   },
   "source": [
    "### Valeurs uniques"
   ]
  },
  {
   "cell_type": "code",
   "execution_count": null,
   "id": "Qhh-CCCJvNs3",
   "metadata": {
    "colab": {
     "base_uri": "https://localhost:8080/"
    },
    "executionInfo": {
     "elapsed": 12,
     "status": "ok",
     "timestamp": 1742545414868,
     "user": {
      "displayName": "Dimitri L",
      "userId": "02929891347853983044"
     },
     "user_tz": -60
    },
    "id": "Qhh-CCCJvNs3",
    "outputId": "51b2ef03-3b8a-49f8-fe7d-e5f37fe7767e"
   },
   "outputs": [],
   "source": [
    "sorted(df['Carburant'].unique())"
   ]
  },
  {
   "cell_type": "markdown",
   "id": "pLCX3EzTvRAI",
   "metadata": {
    "id": "pLCX3EzTvRAI"
   },
   "source": [
    "### Remplacement"
   ]
  },
  {
   "cell_type": "markdown",
   "id": "1xQMqvYavRAI",
   "metadata": {
    "id": "1xQMqvYavRAI"
   },
   "source": [
    "Certaines valeurs peuvent être regroupées :\n",
    "\n",
    "\n",
    "\n",
    "*   'diesel/electric' & 'petrol/electric' sont des véhicules hybride\n",
    "*   'lpg' & 'ng' sont des énergies au gaz\n",
    "*   'petrol' sera renommé en 'essence' pour plus de compréhension.\n"
   ]
  },
  {
   "cell_type": "code",
   "execution_count": null,
   "id": "rXTo6Mt4vRAI",
   "metadata": {
    "executionInfo": {
     "elapsed": 8,
     "status": "ok",
     "timestamp": 1742545416767,
     "user": {
      "displayName": "Dimitri L",
      "userId": "02929891347853983044"
     },
     "user_tz": -60
    },
    "id": "rXTo6Mt4vRAI"
   },
   "outputs": [],
   "source": [
    "replace_ft = {\n",
    "              'petrol' : 'essence',\n",
    "              'diesel/electric' : 'hybride',\n",
    "              'petrol/electric' : 'hybride',\n",
    "              'lpg' : 'gaz',\n",
    "              'ng' : 'gaz'}\n",
    "df['Carburant'] = df['Carburant'].replace(replace_ft)"
   ]
  },
  {
   "cell_type": "markdown",
   "id": "QVad4QGPwjIE",
   "metadata": {
    "id": "QVad4QGPwjIE"
   },
   "source": [
    "### Analyse"
   ]
  },
  {
   "cell_type": "code",
   "execution_count": null,
   "id": "DeeR1GeO4miV",
   "metadata": {
    "colab": {
     "base_uri": "https://localhost:8080/",
     "height": 766
    },
    "executionInfo": {
     "elapsed": 191,
     "status": "ok",
     "timestamp": 1742545420127,
     "user": {
      "displayName": "Dimitri L",
      "userId": "02929891347853983044"
     },
     "user_tz": -60
    },
    "id": "DeeR1GeO4miV",
    "outputId": "029190cb-97a3-4f2f-f5b0-762ff6909c7a"
   },
   "outputs": [],
   "source": [
    "analyser_variable_categorielle_plotly(df, 'Carburant')"
   ]
  },
  {
   "cell_type": "markdown",
   "id": "g8ME4jy19mL4",
   "metadata": {
    "id": "g8ME4jy19mL4"
   },
   "source": [
    "## Analyse par modèle de voiture"
   ]
  },
  {
   "cell_type": "code",
   "execution_count": null,
   "id": "0ekDWail3hbp",
   "metadata": {
    "colab": {
     "base_uri": "https://localhost:8080/",
     "height": 1000
    },
    "executionInfo": {
     "elapsed": 123,
     "status": "ok",
     "timestamp": 1742545426063,
     "user": {
      "displayName": "Dimitri L",
      "userId": "02929891347853983044"
     },
     "user_tz": -60
    },
    "id": "0ekDWail3hbp",
    "outputId": "fda2c0f1-b08a-4533-c793-8f3be63c97f2"
   },
   "outputs": [],
   "source": [
    "analyser_variable_categorielle_plotly(df, 'Modèle', 30)"
   ]
  },
  {
   "cell_type": "markdown",
   "id": "9cfbf5f8-0546-4ee7-9463-2f4f6bd09815",
   "metadata": {
    "id": "9cfbf5f8-0546-4ee7-9463-2f4f6bd09815"
   },
   "source": [
    "# <font color='#3585CD'>Distribution des variables numériques</font>"
   ]
  },
  {
   "cell_type": "markdown",
   "id": "_3yKyzEn-y-1",
   "metadata": {
    "id": "_3yKyzEn-y-1"
   },
   "source": [
    "## Sélection des colonnes numériques"
   ]
  },
  {
   "cell_type": "code",
   "execution_count": null,
   "id": "b32e622e-1059-49d0-8c40-ffd18fb7c76c",
   "metadata": {
    "colab": {
     "base_uri": "https://localhost:8080/"
    },
    "executionInfo": {
     "elapsed": 7,
     "status": "ok",
     "timestamp": 1742545430304,
     "user": {
      "displayName": "Dimitri L",
      "userId": "02929891347853983044"
     },
     "user_tz": -60
    },
    "id": "b32e622e-1059-49d0-8c40-ffd18fb7c76c",
    "outputId": "06102279-7574-4310-9e49-c5a58cdb61e9"
   },
   "outputs": [],
   "source": [
    "# Sélection des colonnes numériques\n",
    "num_vars = df.select_dtypes(include=['int64', 'float64']).columns.tolist()\n",
    "num_vars"
   ]
  },
  {
   "cell_type": "markdown",
   "id": "s8AIkRHI_0rg",
   "metadata": {
    "id": "s8AIkRHI_0rg"
   },
   "source": [
    "## Analyse de la masse du véhicule Masse à vide"
   ]
  },
  {
   "cell_type": "code",
   "execution_count": null,
   "id": "HYZ_9HxF6iZE",
   "metadata": {
    "colab": {
     "base_uri": "https://localhost:8080/",
     "height": 1000
    },
    "executionInfo": {
     "elapsed": 1046,
     "status": "ok",
     "timestamp": 1742545438891,
     "user": {
      "displayName": "Dimitri L",
      "userId": "02929891347853983044"
     },
     "user_tz": -60
    },
    "id": "HYZ_9HxF6iZE",
    "outputId": "7497ca03-2714-491f-9f25-558c396e1605"
   },
   "outputs": [],
   "source": [
    "analyser_variables_numeriques_plotly(df, ['Masse à vide'])"
   ]
  },
  {
   "cell_type": "markdown",
   "id": "4EgILKyu_Vy3",
   "metadata": {
    "id": "4EgILKyu_Vy3"
   },
   "source": [
    "## Analyse des émissions spécifiques de CO2"
   ]
  },
  {
   "cell_type": "code",
   "execution_count": null,
   "id": "1b91a10f-8c87-4f97-9c6e-33eb3ad8595b",
   "metadata": {
    "colab": {
     "base_uri": "https://localhost:8080/",
     "height": 1000
    },
    "executionInfo": {
     "elapsed": 843,
     "status": "ok",
     "timestamp": 1742545439736,
     "user": {
      "displayName": "Dimitri L",
      "userId": "02929891347853983044"
     },
     "user_tz": -60
    },
    "id": "1b91a10f-8c87-4f97-9c6e-33eb3ad8595b",
    "outputId": "3b7d0ee2-bd34-4d3b-c8ba-0230cb7b3ebe"
   },
   "outputs": [],
   "source": [
    "analyser_variables_numeriques_plotly(df, ['CO2'], 30)"
   ]
  },
  {
   "cell_type": "markdown",
   "id": "OnsuV3y9tO7z",
   "metadata": {
    "id": "OnsuV3y9tO7z"
   },
   "source": [
    "## Analyse de la cylindrée moteur"
   ]
  },
  {
   "cell_type": "code",
   "execution_count": null,
   "id": "O0_fjNMQtO7z",
   "metadata": {
    "colab": {
     "base_uri": "https://localhost:8080/",
     "height": 1000
    },
    "executionInfo": {
     "elapsed": 1024,
     "status": "ok",
     "timestamp": 1742545443747,
     "user": {
      "displayName": "Dimitri L",
      "userId": "02929891347853983044"
     },
     "user_tz": -60
    },
    "id": "O0_fjNMQtO7z",
    "outputId": "25841335-6d8b-44e7-932f-997afdb78d3a"
   },
   "outputs": [],
   "source": [
    "analyser_variables_numeriques_plotly(df, ['Cylindrée moteur'], 50)"
   ]
  },
  {
   "cell_type": "markdown",
   "id": "4e34vTPN48lO",
   "metadata": {
    "id": "4e34vTPN48lO"
   },
   "source": [
    "## Analyse de la puissance du moteur"
   ]
  },
  {
   "cell_type": "code",
   "execution_count": null,
   "id": "ydEyu20Y48lO",
   "metadata": {
    "colab": {
     "base_uri": "https://localhost:8080/",
     "height": 1000
    },
    "executionInfo": {
     "elapsed": 1045,
     "status": "ok",
     "timestamp": 1742545442721,
     "user": {
      "displayName": "Dimitri L",
      "userId": "02929891347853983044"
     },
     "user_tz": -60
    },
    "id": "ydEyu20Y48lO",
    "outputId": "9af443f6-3ad6-4286-c838-ef2d3ffbdc95"
   },
   "outputs": [],
   "source": [
    "analyser_variables_numeriques_plotly(df, ['Puissance moteur'])"
   ]
  },
  {
   "cell_type": "markdown",
   "id": "kW_H0eMor_FL",
   "metadata": {
    "id": "kW_H0eMor_FL"
   },
   "source": [
    "## Analyse de la Consommation carburant"
   ]
  },
  {
   "cell_type": "code",
   "execution_count": null,
   "id": "4gLDKKsSr_FM",
   "metadata": {
    "colab": {
     "base_uri": "https://localhost:8080/",
     "height": 1000
    },
    "executionInfo": {
     "elapsed": 666,
     "status": "ok",
     "timestamp": 1742545452960,
     "user": {
      "displayName": "Dimitri L",
      "userId": "02929891347853983044"
     },
     "user_tz": -60
    },
    "id": "4gLDKKsSr_FM",
    "outputId": "0870348c-b52e-4073-b2f2-4cef26022356"
   },
   "outputs": [],
   "source": [
    "analyser_variables_numeriques_plotly(df, ['Consommation carburant'])"
   ]
  },
  {
   "cell_type": "markdown",
   "id": "jL9f2y06NqP9",
   "metadata": {
    "id": "jL9f2y06NqP9"
   },
   "source": [
    "# <font color='#3585CD'>Création d'indicateurs</font>"
   ]
  },
  {
   "cell_type": "markdown",
   "id": "BDx5YpzdOX4x",
   "metadata": {
    "id": "BDx5YpzdOX4x"
   },
   "source": [
    "## Indicateur de Charge Spécifique du Moteur (ICSM)\n",
    "\n",
    "`ICSM = Puissance (kW) / Masse du véhicule (kg)`\n",
    "\n",
    "**Interprétation** :\n",
    "\n",
    "*   Faible ICSM → Voiture puissante et légère (moins d’effort, moins de CO₂).\n",
    "*   Élevé ICSM → Voiture sous-motorisée (forte sollicitation, plus de CO₂)."
   ]
  },
  {
   "cell_type": "code",
   "execution_count": null,
   "id": "aLzT9w-vOlAd",
   "metadata": {
    "executionInfo": {
     "elapsed": 8,
     "status": "ok",
     "timestamp": 1742545459475,
     "user": {
      "displayName": "Dimitri L",
      "userId": "02929891347853983044"
     },
     "user_tz": -60
    },
    "id": "aLzT9w-vOlAd"
   },
   "outputs": [],
   "source": [
    "df['ICSM'] = df['Puissance moteur'] / df['Masse à vide']"
   ]
  },
  {
   "cell_type": "markdown",
   "id": "sxCvLgGqOyJ_",
   "metadata": {
    "id": "sxCvLgGqOyJ_"
   },
   "source": [
    "## Indicateur de Consommation Énergétique (ICE)\n",
    "\n",
    "`ICE = Puissance (kW) / Cylindrée (cm³)`\n",
    "\n",
    "**Interprétation** :\n",
    "\n",
    "*   Faible ICE → Moteur optimisé (ex. turbo downsizing).\n",
    "*   Élevé ICE → Moteur gourmand et peu efficient."
   ]
  },
  {
   "cell_type": "code",
   "execution_count": null,
   "id": "rpxC_qn-PRtc",
   "metadata": {
    "executionInfo": {
     "elapsed": 7,
     "status": "ok",
     "timestamp": 1742545460962,
     "user": {
      "displayName": "Dimitri L",
      "userId": "02929891347853983044"
     },
     "user_tz": -60
    },
    "id": "rpxC_qn-PRtc"
   },
   "outputs": [],
   "source": [
    "df['ICE'] = df['Puissance moteur'] / df['Cylindrée moteur']"
   ]
  },
  {
   "cell_type": "markdown",
   "id": "J6cvHrqPN0TL",
   "metadata": {
    "id": "J6cvHrqPN0TL"
   },
   "source": [
    "## Indicateur de Densité Energétique du Carburant (IDEC)\n",
    "\n",
    "`IDEC = Cylindrée (cm³) / Masse du véhicule (kg)`\n",
    "\n",
    "**Interprétation** :\n",
    "\n",
    "*   Faible IDEC → Moteur bien dimensionné (moins d’effort, moins de CO₂).\n",
    "*   Élevé IDEC → Moteur sous-dimensionné (forte sollicitation, plus de CO₂)."
   ]
  },
  {
   "cell_type": "code",
   "execution_count": null,
   "id": "iZEiM270Po2g",
   "metadata": {
    "executionInfo": {
     "elapsed": 8,
     "status": "ok",
     "timestamp": 1742545462049,
     "user": {
      "displayName": "Dimitri L",
      "userId": "02929891347853983044"
     },
     "user_tz": -60
    },
    "id": "iZEiM270Po2g"
   },
   "outputs": [],
   "source": [
    "df['IDEC'] = df['Cylindrée moteur'] / df['Masse à vide']"
   ]
  },
  {
   "cell_type": "markdown",
   "id": "bf366a43",
   "metadata": {},
   "source": [
    "## Indicateur de Consommation Spécifique (ICS)\n",
    "\n",
    "`ICS = Puissance produite (kWh) / Consommation de carburant (g)`\n",
    "\n",
    "**Interprétation** :\n",
    "\n",
    "*   Faible ICS : Moteur efficace, consomme moins de carburant et génère moins de CO₂ pour produire la même puissance.\n",
    "*   Élevé ICS : Moteur inefficace, consomme plus de carburant et génère plus de CO₂ pour produire la même puissance."
   ]
  },
  {
   "cell_type": "code",
   "execution_count": null,
   "id": "979e798e",
   "metadata": {},
   "outputs": [],
   "source": [
    "df['ICS'] = df['Puissance moteur'] / df['Consommation carburant']"
   ]
  },
  {
   "cell_type": "code",
   "execution_count": null,
   "id": "a25d3e17",
   "metadata": {},
   "outputs": [],
   "source": [
    "df"
   ]
  },
  {
   "cell_type": "markdown",
   "id": "61554837-cd4d-4123-a115-ff093b844bb9",
   "metadata": {
    "id": "61554837-cd4d-4123-a115-ff093b844bb9"
   },
   "source": [
    "# <font color='#3585CD'>Analyse du CO2 en fonction de certaines variables</font>"
   ]
  },
  {
   "cell_type": "markdown",
   "id": "O_YLA7730NgD",
   "metadata": {
    "id": "O_YLA7730NgD"
   },
   "source": [
    "### Analyse du CO2 en fonction de la masse du véhicule"
   ]
  },
  {
   "cell_type": "code",
   "execution_count": null,
   "id": "bSzuOFQV0NgD",
   "metadata": {
    "colab": {
     "base_uri": "https://localhost:8080/",
     "height": 542,
     "output_embedded_package_id": "1d0cjMmj9BKf3LVhZfJMee7gqytrdbgB8"
    },
    "executionInfo": {
     "elapsed": 1740,
     "status": "ok",
     "timestamp": 1742545488268,
     "user": {
      "displayName": "Dimitri L",
      "userId": "02929891347853983044"
     },
     "user_tz": -60
    },
    "id": "bSzuOFQV0NgD",
    "outputId": "966d6488-e0ad-4e69-b31a-c40a286eecdd"
   },
   "outputs": [],
   "source": [
    "plot_scatter_co2(df, \"Masse à vide\")"
   ]
  },
  {
   "cell_type": "markdown",
   "id": "oz3m_bYyRoKG",
   "metadata": {
    "id": "oz3m_bYyRoKG"
   },
   "source": [
    "On observe que les véhicules plus lourds tendent à émettre plus de CO₂, avec une distinction entre les types de carburant."
   ]
  },
  {
   "cell_type": "markdown",
   "id": "DqQG6CO55iAK",
   "metadata": {
    "id": "DqQG6CO55iAK"
   },
   "source": [
    "### Analyse du CO2 en fonction de la puissance du moteur."
   ]
  },
  {
   "cell_type": "code",
   "execution_count": null,
   "id": "UCkGNBOo5iAK",
   "metadata": {
    "colab": {
     "base_uri": "https://localhost:8080/",
     "height": 542,
     "output_embedded_package_id": "1oDt3BztCH0nLGlFEDCBVzLQofSs6VFas"
    },
    "executionInfo": {
     "elapsed": 939,
     "status": "ok",
     "timestamp": 1742545489236,
     "user": {
      "displayName": "Dimitri L",
      "userId": "02929891347853983044"
     },
     "user_tz": -60
    },
    "id": "UCkGNBOo5iAK",
    "outputId": "6c3cda79-681f-42ec-f971-c53ee5518a93"
   },
   "outputs": [],
   "source": [
    "plot_scatter_co2(df, \"Puissance moteur\")"
   ]
  },
  {
   "cell_type": "markdown",
   "id": "dRRQmFsg5yI8",
   "metadata": {
    "id": "dRRQmFsg5yI8"
   },
   "source": [
    "### Analyse du CO2 en fonction du carburant\n",
    "\n"
   ]
  },
  {
   "cell_type": "code",
   "execution_count": null,
   "id": "mF1WQDjlUg2H",
   "metadata": {
    "colab": {
     "base_uri": "https://localhost:8080/",
     "height": 542,
     "output_embedded_package_id": "1phepnNPCTJFAB7o4bPho4r-Mo3tLgjE6"
    },
    "executionInfo": {
     "elapsed": 704,
     "status": "ok",
     "timestamp": 1742545489987,
     "user": {
      "displayName": "Dimitri L",
      "userId": "02929891347853983044"
     },
     "user_tz": -60
    },
    "id": "mF1WQDjlUg2H",
    "outputId": "56facb0f-3335-48c5-a0a9-80d33fc66391"
   },
   "outputs": [],
   "source": [
    "plot_scatter_co2(df, \"Carburant\")"
   ]
  },
  {
   "cell_type": "code",
   "execution_count": null,
   "id": "7f461fbc-5e46-4b38-b812-74cf74c33a51",
   "metadata": {
    "colab": {
     "base_uri": "https://localhost:8080/",
     "height": 542
    },
    "executionInfo": {
     "elapsed": 6,
     "status": "ok",
     "timestamp": 1742545490086,
     "user": {
      "displayName": "Dimitri L",
      "userId": "02929891347853983044"
     },
     "user_tz": -60
    },
    "id": "7f461fbc-5e46-4b38-b812-74cf74c33a51",
    "outputId": "8de6cc56-8715-4fa3-ef98-82985b9946b3"
   },
   "outputs": [],
   "source": [
    "analyser_hist_co2_par_variable(df, 'Carburant')"
   ]
  },
  {
   "cell_type": "markdown",
   "id": "qTgF9C4dSNug",
   "metadata": {
    "id": "qTgF9C4dSNug"
   },
   "source": [
    "### Analyse du CO2 en fonction de la marque"
   ]
  },
  {
   "cell_type": "markdown",
   "id": "h_PaTt4_O2rT",
   "metadata": {
    "id": "h_PaTt4_O2rT"
   },
   "source": [
    "**Top des marques les plus polluantes**"
   ]
  },
  {
   "cell_type": "code",
   "execution_count": null,
   "id": "3qWNhtYFSNug",
   "metadata": {
    "colab": {
     "base_uri": "https://localhost:8080/",
     "height": 542
    },
    "executionInfo": {
     "elapsed": 6,
     "status": "ok",
     "timestamp": 1742545490094,
     "user": {
      "displayName": "Dimitri L",
      "userId": "02929891347853983044"
     },
     "user_tz": -60
    },
    "id": "3qWNhtYFSNug",
    "outputId": "771a9246-bac8-49c7-d68e-06a57f4d52f3"
   },
   "outputs": [],
   "source": [
    "analyser_hist_co2_par_variable(df, 'Marque', 36)"
   ]
  },
  {
   "cell_type": "markdown",
   "id": "SeWK9NUm6Jd7",
   "metadata": {
    "id": "SeWK9NUm6Jd7"
   },
   "source": [
    "### Analyse du CO2 en fonction du modèle de voiture"
   ]
  },
  {
   "cell_type": "markdown",
   "id": "p7coH4J-Ork0",
   "metadata": {
    "id": "p7coH4J-Ork0"
   },
   "source": [
    "**Top des modèles les plus polluants**"
   ]
  },
  {
   "cell_type": "code",
   "execution_count": null,
   "id": "8dc055dc-5fae-4535-ba34-e9af9214d6a1",
   "metadata": {
    "colab": {
     "base_uri": "https://localhost:8080/",
     "height": 542
    },
    "executionInfo": {
     "elapsed": 5,
     "status": "ok",
     "timestamp": 1742545490100,
     "user": {
      "displayName": "Dimitri L",
      "userId": "02929891347853983044"
     },
     "user_tz": -60
    },
    "id": "8dc055dc-5fae-4535-ba34-e9af9214d6a1",
    "outputId": "84d89712-7d7c-4c22-e6e3-f7cd8de65e54"
   },
   "outputs": [],
   "source": [
    "analyser_hist_co2_par_variable(df, 'Modèle', 30)"
   ]
  },
  {
   "cell_type": "markdown",
   "id": "vYODGi1ROy81",
   "metadata": {
    "id": "vYODGi1ROy81"
   },
   "source": [
    "**Top des modèles les moins polluants**"
   ]
  },
  {
   "cell_type": "code",
   "execution_count": null,
   "id": "A9AsobauNJx1",
   "metadata": {
    "colab": {
     "base_uri": "https://localhost:8080/",
     "height": 542
    },
    "executionInfo": {
     "elapsed": 5,
     "status": "ok",
     "timestamp": 1742545490107,
     "user": {
      "displayName": "Dimitri L",
      "userId": "02929891347853983044"
     },
     "user_tz": -60
    },
    "id": "A9AsobauNJx1",
    "outputId": "70594331-8881-4c58-8b26-18b534aeab8e"
   },
   "outputs": [],
   "source": [
    "analyser_hist_co2_par_variable(df, 'Modèle', 30, order='asc')"
   ]
  },
  {
   "cell_type": "markdown",
   "id": "aZHF1qE16TYd",
   "metadata": {
    "id": "aZHF1qE16TYd"
   },
   "source": [
    "### Analyse du CO2 en fonction de la consommation"
   ]
  },
  {
   "cell_type": "code",
   "execution_count": null,
   "id": "2aacc1a9-1c11-4520-a2d7-8a183074c69e",
   "metadata": {
    "colab": {
     "base_uri": "https://localhost:8080/",
     "height": 542,
     "output_embedded_package_id": "1H7fwY376Fpb7dwJb43qP0Ys1eiqauSOn"
    },
    "executionInfo": {
     "elapsed": 717,
     "status": "ok",
     "timestamp": 1742545490825,
     "user": {
      "displayName": "Dimitri L",
      "userId": "02929891347853983044"
     },
     "user_tz": -60
    },
    "id": "2aacc1a9-1c11-4520-a2d7-8a183074c69e",
    "outputId": "e7cdc1b5-64a4-49bf-d89e-f2d3b68023d0"
   },
   "outputs": [],
   "source": [
    "plot_scatter_co2(df, \"Consommation carburant\")"
   ]
  },
  {
   "cell_type": "markdown",
   "id": "HmSzRiZyQAyx",
   "metadata": {
    "id": "HmSzRiZyQAyx"
   },
   "source": [
    "### Analyse du CO2 en fonction des indicateurs ICSM, ICE, IDEC, ICS"
   ]
  },
  {
   "cell_type": "code",
   "execution_count": null,
   "id": "caJJ7J1yQISK",
   "metadata": {
    "colab": {
     "base_uri": "https://localhost:8080/",
     "height": 542,
     "output_embedded_package_id": "1Qk8MpoBsGgKsdclLw8zowVHFgYfFXTCo"
    },
    "executionInfo": {
     "elapsed": 641,
     "status": "ok",
     "timestamp": 1742545491518,
     "user": {
      "displayName": "Dimitri L",
      "userId": "02929891347853983044"
     },
     "user_tz": -60
    },
    "id": "caJJ7J1yQISK",
    "outputId": "d28a4dc3-5602-4731-993c-62ba009fa269"
   },
   "outputs": [],
   "source": [
    "plot_scatter_co2(df, \"ICSM\")"
   ]
  },
  {
   "cell_type": "code",
   "execution_count": null,
   "id": "XGH6ice2QHbX",
   "metadata": {
    "colab": {
     "base_uri": "https://localhost:8080/",
     "height": 542,
     "output_embedded_package_id": "1a-UOXdjG-dMBMXnvla2164Wa8mdMOTRx"
    },
    "executionInfo": {
     "elapsed": 746,
     "status": "ok",
     "timestamp": 1742545492337,
     "user": {
      "displayName": "Dimitri L",
      "userId": "02929891347853983044"
     },
     "user_tz": -60
    },
    "id": "XGH6ice2QHbX",
    "outputId": "18aea812-95b9-4ecb-a303-72383e2b5c2c"
   },
   "outputs": [],
   "source": [
    "plot_scatter_co2(df, \"ICE\")"
   ]
  },
  {
   "cell_type": "code",
   "execution_count": null,
   "id": "FF9NRpavP4T2",
   "metadata": {
    "colab": {
     "base_uri": "https://localhost:8080/",
     "height": 542,
     "output_embedded_package_id": "1zBqscq_73nvrZwTqcq-qdJKmg8qeED0b"
    },
    "executionInfo": {
     "elapsed": 415,
     "status": "ok",
     "timestamp": 1742545492783,
     "user": {
      "displayName": "Dimitri L",
      "userId": "02929891347853983044"
     },
     "user_tz": -60
    },
    "id": "FF9NRpavP4T2",
    "outputId": "39e34ef7-b444-4432-fdc2-a0343b8c4daf"
   },
   "outputs": [],
   "source": [
    "plot_scatter_co2(df, \"IDEC\")"
   ]
  },
  {
   "cell_type": "code",
   "execution_count": null,
   "id": "a9c859af",
   "metadata": {},
   "outputs": [],
   "source": [
    "plot_scatter_co2(df, \"ICS\")"
   ]
  },
  {
   "cell_type": "markdown",
   "id": "456b70c9-ae62-4543-b378-56706cd1a74e",
   "metadata": {
    "id": "456b70c9-ae62-4543-b378-56706cd1a74e"
   },
   "source": [
    "# <font color='#3585CD'>Corrélation des variables numériques</font>"
   ]
  },
  {
   "cell_type": "code",
   "execution_count": null,
   "id": "w2ubdfHkYWJf",
   "metadata": {
    "colab": {
     "base_uri": "https://localhost:8080/",
     "height": 617
    },
    "executionInfo": {
     "elapsed": 66,
     "status": "ok",
     "timestamp": 1742545504480,
     "user": {
      "displayName": "Dimitri L",
      "userId": "02929891347853983044"
     },
     "user_tz": -60
    },
    "id": "w2ubdfHkYWJf",
    "outputId": "64ea0ce7-25a5-4279-c6b7-3df36e227795"
   },
   "outputs": [],
   "source": [
    "plot_correlation_matrix(df)"
   ]
  },
  {
   "cell_type": "code",
   "execution_count": null,
   "id": "f5oH0R37cgvr",
   "metadata": {
    "colab": {
     "base_uri": "https://localhost:8080/"
    },
    "executionInfo": {
     "elapsed": 30,
     "status": "ok",
     "timestamp": 1742545506912,
     "user": {
      "displayName": "Dimitri L",
      "userId": "02929891347853983044"
     },
     "user_tz": -60
    },
    "id": "f5oH0R37cgvr",
    "outputId": "459005a2-240f-4729-d102-52e41bb5d5e5"
   },
   "outputs": [],
   "source": [
    "num_numeric_cols = df.select_dtypes(include=['number']).columns\n",
    "num_numeric_cols\n",
    "\n",
    "for col in num_numeric_cols:\n",
    "  calculer_correlation(df, col, 'CO2')"
   ]
  },
  {
   "cell_type": "markdown",
   "id": "df5e82c0-8c40-4dcb-9f8c-e2bea845d0a2",
   "metadata": {
    "id": "df5e82c0-8c40-4dcb-9f8c-e2bea845d0a2"
   },
   "source": [
    "# <font color='#3585CD'>Analyse des outliers</font>"
   ]
  },
  {
   "cell_type": "markdown",
   "id": "yGRqGra874kC",
   "metadata": {
    "id": "yGRqGra874kC"
   },
   "source": [
    "## Masse à vide"
   ]
  },
  {
   "cell_type": "code",
   "execution_count": null,
   "id": "45rKYp2G576p",
   "metadata": {
    "colab": {
     "base_uri": "https://localhost:8080/",
     "height": 606
    },
    "executionInfo": {
     "elapsed": 83,
     "status": "ok",
     "timestamp": 1742545520111,
     "user": {
      "displayName": "Dimitri L",
      "userId": "02929891347853983044"
     },
     "user_tz": -60
    },
    "id": "45rKYp2G576p",
    "outputId": "d3de0551-d3f6-46d6-ad2f-c1b6fbedca4c"
   },
   "outputs": [],
   "source": [
    "detecter_outliers_plotly_var(df['Masse à vide'])"
   ]
  },
  {
   "cell_type": "code",
   "execution_count": null,
   "id": "gtDytaNE8i6F",
   "metadata": {
    "colab": {
     "base_uri": "https://localhost:8080/",
     "height": 519
    },
    "executionInfo": {
     "elapsed": 48,
     "status": "ok",
     "timestamp": 1742545520157,
     "user": {
      "displayName": "Dimitri L",
      "userId": "02929891347853983044"
     },
     "user_tz": -60
    },
    "id": "gtDytaNE8i6F",
    "outputId": "64d114f1-2820-4f8f-a6f3-5aea6cb94f31"
   },
   "outputs": [],
   "source": [
    "df_outliers_masse = df[df['Masse à vide'] < 750].sort_values(by='Masse à vide', ascending=True)\n",
    "df_outliers_masse.head(20)"
   ]
  },
  {
   "cell_type": "code",
   "execution_count": null,
   "id": "M80SbSQC8JD9",
   "metadata": {
    "colab": {
     "base_uri": "https://localhost:8080/",
     "height": 676
    },
    "executionInfo": {
     "elapsed": 54,
     "status": "ok",
     "timestamp": 1742545520210,
     "user": {
      "displayName": "Dimitri L",
      "userId": "02929891347853983044"
     },
     "user_tz": -60
    },
    "id": "M80SbSQC8JD9",
    "outputId": "4f6776a6-cac1-4395-ea3e-4a2872210b50"
   },
   "outputs": [],
   "source": [
    "df_outliers_masse = df[df['Masse à vide'] > 2500].sort_values(by='Masse à vide', ascending=True)\n",
    "df_outliers_masse.tail(20)"
   ]
  },
  {
   "cell_type": "markdown",
   "id": "TQLCV0MX6spA",
   "metadata": {
    "id": "TQLCV0MX6spA"
   },
   "source": [
    "## Cylindrée moteur"
   ]
  },
  {
   "cell_type": "code",
   "execution_count": null,
   "id": "F9-YuvTp5rXN",
   "metadata": {
    "colab": {
     "base_uri": "https://localhost:8080/",
     "height": 606
    },
    "executionInfo": {
     "elapsed": 137,
     "status": "ok",
     "timestamp": 1742545520342,
     "user": {
      "displayName": "Dimitri L",
      "userId": "02929891347853983044"
     },
     "user_tz": -60
    },
    "id": "F9-YuvTp5rXN",
    "outputId": "7736872e-06d2-4783-abac-359631bab0ed"
   },
   "outputs": [],
   "source": [
    "detecter_outliers_plotly_var(df['Cylindrée moteur'])"
   ]
  },
  {
   "cell_type": "code",
   "execution_count": null,
   "id": "SN50HwMj9Ex-",
   "metadata": {
    "colab": {
     "base_uri": "https://localhost:8080/",
     "height": 676
    },
    "executionInfo": {
     "elapsed": 284,
     "status": "ok",
     "timestamp": 1742545520639,
     "user": {
      "displayName": "Dimitri L",
      "userId": "02929891347853983044"
     },
     "user_tz": -60
    },
    "id": "SN50HwMj9Ex-",
    "outputId": "a2d798cf-0ec2-4417-d30d-9bb54eb7e963"
   },
   "outputs": [],
   "source": [
    "df_outliers_CO2 = df[df['Cylindrée moteur'] > 4000].sort_values(by='Cylindrée moteur', ascending=True)\n",
    "df_outliers_CO2.tail(20)"
   ]
  },
  {
   "cell_type": "markdown",
   "id": "nbmo9v6P72Qe",
   "metadata": {
    "id": "nbmo9v6P72Qe"
   },
   "source": [
    "## CO2"
   ]
  },
  {
   "cell_type": "code",
   "execution_count": null,
   "id": "YICkxhah5-7f",
   "metadata": {
    "colab": {
     "base_uri": "https://localhost:8080/",
     "height": 606
    },
    "executionInfo": {
     "elapsed": 36,
     "status": "ok",
     "timestamp": 1742545520668,
     "user": {
      "displayName": "Dimitri L",
      "userId": "02929891347853983044"
     },
     "user_tz": -60
    },
    "id": "YICkxhah5-7f",
    "outputId": "a4174ad4-aed2-413c-d8b6-ef5f1f4b6c12"
   },
   "outputs": [],
   "source": [
    "detecter_outliers_plotly_var(df['CO2'])"
   ]
  },
  {
   "cell_type": "code",
   "execution_count": null,
   "id": "2UyvjE0C9Rn9",
   "metadata": {
    "colab": {
     "base_uri": "https://localhost:8080/",
     "height": 363
    },
    "executionInfo": {
     "elapsed": 21,
     "status": "ok",
     "timestamp": 1742545520690,
     "user": {
      "displayName": "Dimitri L",
      "userId": "02929891347853983044"
     },
     "user_tz": -60
    },
    "id": "2UyvjE0C9Rn9",
    "outputId": "fe596bb1-df87-4e8d-9625-284fd8a7a888"
   },
   "outputs": [],
   "source": [
    "df_outliers_CO2 = df[df['CO2'] > 400].sort_values(by='CO2', ascending=True)\n",
    "df_outliers_CO2.tail(20)"
   ]
  },
  {
   "cell_type": "markdown",
   "id": "ZMqmwbVg79FK",
   "metadata": {
    "id": "ZMqmwbVg79FK"
   },
   "source": [
    "## Puissance moteur"
   ]
  },
  {
   "cell_type": "code",
   "execution_count": null,
   "id": "EfuSrlbvPz4a",
   "metadata": {
    "colab": {
     "base_uri": "https://localhost:8080/",
     "height": 606
    },
    "executionInfo": {
     "elapsed": 13,
     "status": "ok",
     "timestamp": 1742545520705,
     "user": {
      "displayName": "Dimitri L",
      "userId": "02929891347853983044"
     },
     "user_tz": -60
    },
    "id": "EfuSrlbvPz4a",
    "outputId": "095ccc32-9d3e-4f1d-a6c1-0856ab6d2be3"
   },
   "outputs": [],
   "source": [
    "detecter_outliers_plotly_var(df['Puissance moteur'])"
   ]
  },
  {
   "cell_type": "code",
   "execution_count": null,
   "id": "ICXbIR2U9dRV",
   "metadata": {
    "colab": {
     "base_uri": "https://localhost:8080/",
     "height": 676
    },
    "executionInfo": {
     "elapsed": 15,
     "status": "ok",
     "timestamp": 1742545520722,
     "user": {
      "displayName": "Dimitri L",
      "userId": "02929891347853983044"
     },
     "user_tz": -60
    },
    "id": "ICXbIR2U9dRV",
    "outputId": "e5362f3d-5a5f-4a6e-b682-05d7fef015d4"
   },
   "outputs": [],
   "source": [
    "df_outliers_Consommation = df[df['Puissance moteur'] > 15].sort_values(by='Puissance moteur', ascending=True)\n",
    "df_outliers_Consommation.tail(20)"
   ]
  },
  {
   "cell_type": "markdown",
   "id": "M1I2T5Zg7_8p",
   "metadata": {
    "id": "M1I2T5Zg7_8p"
   },
   "source": [
    "## Consommation carburant"
   ]
  },
  {
   "cell_type": "code",
   "execution_count": null,
   "id": "z5Sv7s1n51J5",
   "metadata": {
    "colab": {
     "base_uri": "https://localhost:8080/",
     "height": 606
    },
    "executionInfo": {
     "elapsed": 96,
     "status": "ok",
     "timestamp": 1742545529710,
     "user": {
      "displayName": "Dimitri L",
      "userId": "02929891347853983044"
     },
     "user_tz": -60
    },
    "id": "z5Sv7s1n51J5",
    "outputId": "155dfd2d-7312-4a6e-a608-d59f9674e1d7"
   },
   "outputs": [],
   "source": [
    "detecter_outliers_plotly_var(df['Consommation carburant'])"
   ]
  },
  {
   "cell_type": "code",
   "execution_count": null,
   "id": "MsYAhVpdQlvb",
   "metadata": {
    "executionInfo": {
     "elapsed": 2,
     "status": "aborted",
     "timestamp": 1742545521532,
     "user": {
      "displayName": "Dimitri L",
      "userId": "02929891347853983044"
     },
     "user_tz": -60
    },
    "id": "MsYAhVpdQlvb"
   },
   "outputs": [],
   "source": [
    "df_outliers_Consommation = df[df['Consommation carburant'] > 15].sort_values(by='Consommation carburant', ascending=True)\n",
    "df_outliers_Consommation.tail(20)"
   ]
  },
  {
   "cell_type": "markdown",
   "id": "99b8bd6b-64ea-4f7d-a890-6f996e4d62df",
   "metadata": {
    "id": "99b8bd6b-64ea-4f7d-a890-6f996e4d62df"
   },
   "source": [
    "# <font color='#3585CD'>Visualisation globale graphique</font>"
   ]
  },
  {
   "cell_type": "code",
   "execution_count": null,
   "id": "iOabpSUOtEuY",
   "metadata": {
    "colab": {
     "base_uri": "https://localhost:8080/",
     "height": 917
    },
    "executionInfo": {
     "elapsed": 585,
     "status": "ok",
     "timestamp": 1742545537979,
     "user": {
      "displayName": "Dimitri L",
      "userId": "02929891347853983044"
     },
     "user_tz": -60
    },
    "id": "iOabpSUOtEuY",
    "outputId": "96a703c2-b105-4b7a-a7f4-bb50bafdefda"
   },
   "outputs": [],
   "source": [
    "fig = px.scatter_matrix(df, dimensions=df.select_dtypes(include=['number']).columns,\n",
    "                        color='Carburant', title=\"Pairplot\")\n",
    "\n",
    "fig.update_layout(height=900, width=1200)\n",
    "fig.show()"
   ]
  },
  {
   "cell_type": "code",
   "execution_count": null,
   "id": "DAMM09_efF2L",
   "metadata": {
    "colab": {
     "base_uri": "https://localhost:8080/",
     "height": 617
    },
    "executionInfo": {
     "elapsed": 142,
     "status": "ok",
     "timestamp": 1742545539189,
     "user": {
      "displayName": "Dimitri L",
      "userId": "02929891347853983044"
     },
     "user_tz": -60
    },
    "id": "DAMM09_efF2L",
    "outputId": "8d0a0ce4-8b2c-41e5-c1d7-755dd81e9fe5"
   },
   "outputs": [],
   "source": [
    "plot_correlation_matrix(df)"
   ]
  },
  {
   "cell_type": "markdown",
   "id": "ogaVzQ6wsEgq",
   "metadata": {
    "id": "ogaVzQ6wsEgq"
   },
   "source": [
    "# <font color='#3585CD'>Distribution de la variable cible</font>\n",
    "\n",
    "\n",
    "\n"
   ]
  },
  {
   "cell_type": "markdown",
   "id": "ACMQxz55p_Hw",
   "metadata": {
    "id": "ACMQxz55p_Hw"
   },
   "source": [
    "## Histogramme et boxplot de la variable cible"
   ]
  },
  {
   "cell_type": "code",
   "execution_count": null,
   "id": "96f1e2b4-b0d3-4c45-8e94-ffc007a3ec50",
   "metadata": {
    "colab": {
     "base_uri": "https://localhost:8080/",
     "height": 1000
    },
    "executionInfo": {
     "elapsed": 1008,
     "status": "ok",
     "timestamp": 1742545549476,
     "user": {
      "displayName": "Dimitri L",
      "userId": "02929891347853983044"
     },
     "user_tz": -60
    },
    "id": "96f1e2b4-b0d3-4c45-8e94-ffc007a3ec50",
    "outputId": "b7e4e914-612c-4af0-ae11-a6555d8b8cbe"
   },
   "outputs": [],
   "source": [
    "analyser_variables_numeriques_plotly(df, ['CO2'])"
   ]
  },
  {
   "cell_type": "code",
   "execution_count": null,
   "id": "EwEqBrG5JUsP",
   "metadata": {
    "colab": {
     "base_uri": "https://localhost:8080/",
     "height": 542
    },
    "executionInfo": {
     "elapsed": 522,
     "status": "ok",
     "timestamp": 1742545550000,
     "user": {
      "displayName": "Dimitri L",
      "userId": "02929891347853983044"
     },
     "user_tz": -60
    },
    "id": "EwEqBrG5JUsP",
    "outputId": "cb03157b-bcfb-4cb2-888f-e2f5b1f453ad"
   },
   "outputs": [],
   "source": [
    "import plotly.graph_objects as go\n",
    "import numpy as np\n",
    "import scipy.stats as stats\n",
    "import pandas as pd\n",
    "\n",
    "# Calcul des quantiles\n",
    "(quantiles, values), (slope, intercept, r) = stats.probplot(df['CO2'], dist=\"norm\")\n",
    "\n",
    "# Création du Q-Q Plot avec Plotly\n",
    "fig = go.Figure()\n",
    "fig.add_trace(go.Scatter(x=quantiles, y=values, mode='markers', name='Données'))\n",
    "fig.add_trace(go.Scatter(x=quantiles, y=slope * np.array(quantiles) + intercept, mode='lines', name='Ligne théorique'))\n",
    "\n",
    "fig.update_layout(title='Q-Q plot pour CO2', xaxis_title='Quantiles théoriques', yaxis_title='Quantiles des données')\n",
    "\n",
    "fig.show()"
   ]
  },
  {
   "cell_type": "code",
   "execution_count": null,
   "id": "90_Hbt1aUYlC",
   "metadata": {
    "colab": {
     "base_uri": "https://localhost:8080/"
    },
    "executionInfo": {
     "elapsed": 281,
     "status": "ok",
     "timestamp": 1742545554565,
     "user": {
      "displayName": "Dimitri L",
      "userId": "02929891347853983044"
     },
     "user_tz": -60
    },
    "id": "90_Hbt1aUYlC",
    "outputId": "c0e307bc-f346-4d72-bf8a-572c3ef3320e"
   },
   "outputs": [],
   "source": [
    "from statsmodels.stats.diagnostic import lilliefors\n",
    "# Niveau de signification (alpha)\n",
    "alpha = 0.05\n",
    "\n",
    "# Effectuer les tests de normalité\n",
    "shapiro_test = stats.shapiro(df['CO2'])\n",
    "ks_test = stats.kstest(df['CO2'], 'norm')\n",
    "ad_test = stats.anderson(df['CO2'], dist='norm')\n",
    "dagostino_test = stats.normaltest(df['CO2'])\n",
    "lilliefors_test = lilliefors(df['CO2'], dist='norm')\n",
    "\n",
    "# Créer un tableau pandas avec les résultats des tests\n",
    "test_results = pd.DataFrame({\n",
    "    'Nom du test': ['Shapiro-Wilk', 'Kolmogorov-Smirnov', 'Anderson-Darling', \"D'Agostino-Pearson\", 'Lilliefors'],\n",
    "    'Statistique de test': [shapiro_test[0], ks_test.statistic, ad_test.statistic, dagostino_test.statistic, lilliefors_test[0]],\n",
    "    'p-valeur': [shapiro_test[1], ks_test.pvalue, None, dagostino_test.pvalue, lilliefors_test[1]],\n",
    "    'Normalité': ['Oui' if shapiro_test[1] > alpha else 'Non',\n",
    "                  'Oui' if ks_test.pvalue > alpha else 'Non',\n",
    "                  'Oui' if any(ad_test.statistic < crit_val for crit_val in ad_test.critical_values) else 'Non',\n",
    "                  'Oui' if dagostino_test.pvalue > alpha else 'Non',\n",
    "                  'Oui' if lilliefors_test[1] > alpha else 'Non']\n",
    "})\n",
    "\n",
    "print(test_results)\n"
   ]
  },
  {
   "cell_type": "code",
   "execution_count": null,
   "id": "edXcgTpQrLbH",
   "metadata": {
    "executionInfo": {
     "elapsed": 59707,
     "status": "aborted",
     "timestamp": 1742545176483,
     "user": {
      "displayName": "Dimitri L",
      "userId": "02929891347853983044"
     },
     "user_tz": -60
    },
    "id": "edXcgTpQrLbH"
   },
   "outputs": [],
   "source": [
    "# from scipy.stats import boxcox\n",
    "\n",
    "# df['co2_transformed'], lambda_boxcox = boxcox(df['Ewltp (g/km)'] + 1)  # Ajouter 1 pour éviter 0\n",
    "# df"
   ]
  },
  {
   "cell_type": "code",
   "execution_count": null,
   "id": "oXpMdf0KGGHU",
   "metadata": {
    "colab": {
     "base_uri": "https://localhost:8080/"
    },
    "executionInfo": {
     "elapsed": 85,
     "status": "ok",
     "timestamp": 1742545559245,
     "user": {
      "displayName": "Dimitri L",
      "userId": "02929891347853983044"
     },
     "user_tz": -60
    },
    "id": "oXpMdf0KGGHU",
    "outputId": "cb7b628b-38b3-4290-b2dc-dd6342dee4fe"
   },
   "outputs": [],
   "source": [
    "df['Carburant'].unique()"
   ]
  },
  {
   "cell_type": "code",
   "execution_count": null,
   "id": "-VsLm9F4BEJy",
   "metadata": {
    "colab": {
     "base_uri": "https://localhost:8080/",
     "height": 542
    },
    "executionInfo": {
     "elapsed": 144,
     "status": "ok",
     "timestamp": 1742545560443,
     "user": {
      "displayName": "Dimitri L",
      "userId": "02929891347853983044"
     },
     "user_tz": -60
    },
    "id": "-VsLm9F4BEJy",
    "outputId": "413684c8-782d-4cb0-ac0e-235b48267fa2"
   },
   "outputs": [],
   "source": [
    "# Histogramme en fonction du type de motorisation\n",
    "fig = px.histogram(df, x=\"CO2\", color=\"Carburant\", nbins=50, barmode=\"overlay\",\n",
    "                   title=\"Distribution des émissions de CO2 par type de carburant\")\n",
    "fig.show()\n"
   ]
  },
  {
   "cell_type": "markdown",
   "id": "lUIaaSpqIK2D",
   "metadata": {
    "id": "lUIaaSpqIK2D"
   },
   "source": [
    "Comment gérer ?\n",
    "\n",
    "\n",
    "*   Création colonne Hybride ?\n",
    "*   Dataset à part ?\n",
    "*   Juste un OneHotEncoder ?"
   ]
  },
  {
   "cell_type": "markdown",
   "id": "lvjc2f4TqPXt",
   "metadata": {
    "id": "lvjc2f4TqPXt"
   },
   "source": [
    "## Degrés d'asymétrie des variables"
   ]
  },
  {
   "cell_type": "code",
   "execution_count": null,
   "id": "jzjaAOR4qPXt",
   "metadata": {
    "colab": {
     "base_uri": "https://localhost:8080/",
     "height": 335
    },
    "executionInfo": {
     "elapsed": 13,
     "status": "ok",
     "timestamp": 1742545563311,
     "user": {
      "displayName": "Dimitri L",
      "userId": "02929891347853983044"
     },
     "user_tz": -60
    },
    "id": "jzjaAOR4qPXt",
    "outputId": "2d239b50-7d83-4f9d-94c1-5802df8c8dbb"
   },
   "outputs": [],
   "source": [
    "num_vars = df.select_dtypes(include=['int64', 'float64']).columns.tolist()\n",
    "df[num_vars].skew().sort_values()"
   ]
  },
  {
   "cell_type": "markdown",
   "id": "ck9Iy9-jIBoH",
   "metadata": {
    "id": "ck9Iy9-jIBoH"
   },
   "source": [
    "### CO2"
   ]
  },
  {
   "cell_type": "markdown",
   "id": "bfJi6S-GIFeD",
   "metadata": {
    "id": "bfJi6S-GIFeD"
   },
   "source": [
    "Légère asymétrie négative (peu inquiétante)"
   ]
  },
  {
   "cell_type": "markdown",
   "id": "5YPS8FgIIJEM",
   "metadata": {
    "id": "5YPS8FgIIJEM"
   },
   "source": [
    "### Consommation carburant"
   ]
  },
  {
   "cell_type": "markdown",
   "id": "FcHI5sZ2PZDR",
   "metadata": {
    "id": "FcHI5sZ2PZDR"
   },
   "source": [
    " Quasi symétrique (très léger)"
   ]
  },
  {
   "cell_type": "markdown",
   "id": "2MRk5eU3INhK",
   "metadata": {
    "id": "2MRk5eU3INhK"
   },
   "source": [
    "### Masse moyenne"
   ]
  },
  {
   "cell_type": "markdown",
   "id": "9BEj87VDPgBy",
   "metadata": {
    "id": "9BEj87VDPgBy"
   },
   "source": [
    "Asymétrie positive modérée à forte, probablement due à des valeurs élevées qui tirent la distribution."
   ]
  },
  {
   "cell_type": "markdown",
   "id": "N49j6I_Npe3L",
   "metadata": {
    "id": "N49j6I_Npe3L"
   },
   "source": [
    "# <font color='#3585CD'>Quelles variables garder pour prédire le CO2 ?</font>"
   ]
  },
  {
   "cell_type": "markdown",
   "id": "f3a6a7b6",
   "metadata": {
    "id": "f3a6a7b6"
   },
   "source": [
    "Selon nous, les **variables pertinentes** à garder pour la prédiction sont les suivantes :\n",
    "* **Masse à vide** : un véhicule plus lourd a souvent des émissions plus élevées.\n",
    "* **Cylindrée moteur** : une plus grande cylindrée est souvent associée à une plus grande consommation et donc plus d’émissions.\n",
    "* **Puissance moteur** : un moteur plus puissant a tendance à consommer plus de carburant.\n",
    "* **Carburant** : Essence, diesel, hybride… Chaque type influence les émissions. La variable Carburant sera encodée.\n",
    "\n",
    "* **Consommation carburant** : directement liée aux émissions de CO2. Cependant sa forte corrélation peut expliquer à elle seule les émissions de CO2. Nous nous questionnerons au moment de la modélisation si nous la gardons ou pas.\n",
    "\n",
    "Nous **excluerons** les variables **Marque** et **Modèle** qui ne sont pas directement liées aux émissions de CO2.\n",
    "\n",
    "Pourquoi exclure les variables **Marque** et **Modèle** ?\n",
    "* Ce sont des variables catégoriques à très haute **cardinalité**\n",
    "* L'influence sur le CO₂ passe par des **caractéristiques techniques**"
   ]
  },
  {
   "cell_type": "markdown",
   "id": "FVuuxNR63Ngs",
   "metadata": {
    "id": "FVuuxNR63Ngs"
   },
   "source": [
    "# <font color='#3585CD'>Export du dataset nettoyé</font>"
   ]
  },
  {
   "cell_type": "code",
   "execution_count": null,
   "id": "LCEzgrjlTmLN",
   "metadata": {
    "colab": {
     "base_uri": "https://localhost:8080/"
    },
    "executionInfo": {
     "elapsed": 96,
     "status": "ok",
     "timestamp": 1742545568305,
     "user": {
      "displayName": "Dimitri L",
      "userId": "02929891347853983044"
     },
     "user_tz": -60
    },
    "id": "LCEzgrjlTmLN",
    "outputId": "b10aad53-98bf-4443-a8bd-e922e04289ef"
   },
   "outputs": [],
   "source": [
    "df.shape"
   ]
  },
  {
   "cell_type": "code",
   "execution_count": null,
   "id": "oCZlfsQkEUg-",
   "metadata": {
    "colab": {
     "base_uri": "https://localhost:8080/",
     "height": 423
    },
    "executionInfo": {
     "elapsed": 13,
     "status": "ok",
     "timestamp": 1742545570211,
     "user": {
      "displayName": "Dimitri L",
      "userId": "02929891347853983044"
     },
     "user_tz": -60
    },
    "id": "oCZlfsQkEUg-",
    "outputId": "fed943a9-e190-447c-f961-c57b178cde55"
   },
   "outputs": [],
   "source": [
    "df = df.reset_index(drop=True)\n",
    "df"
   ]
  },
  {
   "cell_type": "code",
   "execution_count": null,
   "id": "fTdn7C1ezjvp",
   "metadata": {
    "colab": {
     "base_uri": "https://localhost:8080/"
    },
    "executionInfo": {
     "elapsed": 3983,
     "status": "ok",
     "timestamp": 1742545586222,
     "user": {
      "displayName": "Dimitri L",
      "userId": "02929891347853983044"
     },
     "user_tz": -60
    },
    "id": "fTdn7C1ezjvp",
    "outputId": "eaf2a38a-8691-41fa-c656-4e2ea48651b9"
   },
   "outputs": [],
   "source": [
    "# Vérifier si on est sur Google Colab\n",
    "import os\n",
    "try:\n",
    "    import google.colab\n",
    "    ON_COLAB = True\n",
    "    dataset_path = \"/content/drive/My Drive/Formation DS/Projet CO2/NOV24-CDS-CO2/notebooks/datasets/Dataset_final/datas_nettoyees_model_FR.csv\"\n",
    "\n",
    "    # Monter Google Drive si ce n'est pas déjà fait\n",
    "    from google.colab import drive\n",
    "    drive.mount('/content/drive')\n",
    "\n",
    "except ImportError:\n",
    "    ON_COLAB = False\n",
    "    dataset_path = \"datasets/Dataset_final/datas_nettoyees_model_FR.csv\"\n",
    "\n",
    "# Sauvegarde du DataFrame\n",
    "df.to_csv(dataset_path, index=False)\n",
    "\n",
    "# Vérification de l'enregistrement\n",
    "if os.path.exists(dataset_path):\n",
    "    print(f\"Le fichier a bien été enregistré à l'emplacement : {dataset_path}\")\n",
    "else:\n",
    "    print(\"Problème lors de l'enregistrement du fichier.\")\n"
   ]
  },
  {
   "cell_type": "code",
   "execution_count": null,
   "id": "ae05ea6f-a4d2-4375-9b79-557b09e920bc",
   "metadata": {
    "executionInfo": {
     "elapsed": 59712,
     "status": "aborted",
     "timestamp": 1742545176491,
     "user": {
      "displayName": "Dimitri L",
      "userId": "02929891347853983044"
     },
     "user_tz": -60
    },
    "id": "ae05ea6f-a4d2-4375-9b79-557b09e920bc"
   },
   "outputs": [],
   "source": [
    "# dataset_path = \"datasets/Dataset_final/datas_nettoyees_model_FR.csv\"\n",
    "# df.to_csv(dataset_path, index =False)\n",
    "\n",
    "# import os\n",
    "\n",
    "# # Vérifie si le fichier existe\n",
    "# if os.path.exists(dataset_path):\n",
    "#     print(\"Le fichier a bien été enregistré.\")\n",
    "# else:\n",
    "#     print(\"Problème lors de l'enregistrement du fichier.\")\n"
   ]
  }
 ],
 "metadata": {
  "colab": {
   "collapsed_sections": [
    "8d95fdc6-9a7c-4e1b-93a6-04a272771eea",
    "XCadwLcNHdDm"
   ],
   "provenance": [],
   "toc_visible": true
  },
  "kernelspec": {
   "display_name": "base",
   "language": "python",
   "name": "python3"
  },
  "language_info": {
   "codemirror_mode": {
    "name": "ipython",
    "version": 3
   },
   "file_extension": ".py",
   "mimetype": "text/x-python",
   "name": "python",
   "nbconvert_exporter": "python",
   "pygments_lexer": "ipython3",
   "version": "3.12.7"
  }
 },
 "nbformat": 4,
 "nbformat_minor": 5
}
