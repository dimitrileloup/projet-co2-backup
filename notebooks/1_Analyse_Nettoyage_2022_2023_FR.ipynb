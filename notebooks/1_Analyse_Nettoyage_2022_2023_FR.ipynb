{
 "cells": [
  {
   "cell_type": "markdown",
   "id": "M69pws7mC7uO",
   "metadata": {
    "id": "M69pws7mC7uO"
   },
   "source": [
    "# Analyse et Nettoyage du dataset UE\n",
    "\n",
    "Seuls les véhicules des années 2022-2023 et de la France ont été exportés à partir de https://www.eea.europa.eu/data-and-maps/data/co2-cars-emission-20"
   ]
  },
  {
   "cell_type": "markdown",
   "id": "8d95fdc6-9a7c-4e1b-93a6-04a272771eea",
   "metadata": {
    "id": "8d95fdc6-9a7c-4e1b-93a6-04a272771eea"
   },
   "source": [
    "# <font color='#3585CD'>Importation des librairies</font>"
   ]
  },
  {
   "cell_type": "code",
   "execution_count": null,
   "id": "89af5d84-f8eb-4b73-99d8-486616ce6116",
   "metadata": {
    "executionInfo": {
     "elapsed": 20,
     "status": "ok",
     "timestamp": 1742400264157,
     "user": {
      "displayName": "Dimitri L",
      "userId": "02929891347853983044"
     },
     "user_tz": -60
    },
    "id": "89af5d84-f8eb-4b73-99d8-486616ce6116"
   },
   "outputs": [],
   "source": [
    "import warnings\n",
    "warnings.filterwarnings('ignore')\n",
    "warnings.warn('DelftStack')\n",
    "warnings.warn('Do not show this message')\n",
    "\n",
    "import pandas as pd\n",
    "\n",
    "import numpy as np\n",
    "\n",
    "import matplotlib.pyplot as plt\n",
    "\n",
    "import seaborn as sns\n",
    "\n",
    "import plotly.figure_factory as ff\n",
    "import plotly.express as px\n",
    "import plotly.graph_objects as go\n",
    "\n",
    "import kagglehub\n",
    "\n",
    "from scipy.stats import gaussian_kde\n",
    "\n",
    "import sys\n",
    "import os"
   ]
  },
  {
   "cell_type": "markdown",
   "id": "XCadwLcNHdDm",
   "metadata": {
    "id": "XCadwLcNHdDm"
   },
   "source": [
    "# <font color='#3585CD'>Import des fonctions qui seront utilisées dans ce notebook</font>"
   ]
  },
  {
   "cell_type": "code",
   "execution_count": null,
   "id": "5aqOe5IZ9Naj",
   "metadata": {
    "colab": {
     "base_uri": "https://localhost:8080/"
    },
    "executionInfo": {
     "elapsed": 1614,
     "status": "ok",
     "timestamp": 1742400265773,
     "user": {
      "displayName": "Dimitri L",
      "userId": "02929891347853983044"
     },
     "user_tz": -60
    },
    "id": "5aqOe5IZ9Naj",
    "outputId": "7530bde3-5183-46fb-b8e9-6b5c0a4a4051"
   },
   "outputs": [],
   "source": [
    "# On vérifie si on est sur Google Colab\n",
    "try:\n",
    "    import google.colab\n",
    "    ON_COLAB = True\n",
    "except ImportError:\n",
    "    ON_COLAB = False\n",
    "\n",
    "# Gestion de l'import de utils.py\n",
    "if ON_COLAB:\n",
    "    from google.colab import drive\n",
    "\n",
    "    # On monte Google Drive\n",
    "    drive.mount('/content/drive')\n",
    "\n",
    "    # On ajoute le dossier contenant utils.py au chemin\n",
    "    utils_path = \"/content/drive/My Drive/Formation DS/Projet CO2/NOV24-CDS-CO2/notebooks/utils/\"\n",
    "    sys.path.append(utils_path)\n",
    "\n",
    "else:\n",
    "    # Si en local, le fichier utils.py doit être dans le même dossier ou un sous-dossier\n",
    "    utils_path = os.path.abspath(\"./utils/\")  # Chemin du dossier actuel\n",
    "    sys.path.append(utils_path)\n",
    "\n",
    "# Vérifier si le fichier utils.py existe avant import\n",
    "if os.path.exists(os.path.join(utils_path, \"utils.py\")):\n",
    "    import utils\n",
    "    print(\"utils.py importé avec succès\")\n",
    "else:\n",
    "    print(\"ERREUR : utils.py introuvable, vérifiez le chemin !\")\n"
   ]
  },
  {
   "cell_type": "markdown",
   "id": "fac0e4b3-86cc-4e29-8adb-6f8407dfe185",
   "metadata": {
    "id": "fac0e4b3-86cc-4e29-8adb-6f8407dfe185"
   },
   "source": [
    "# <font color='#3585CD'>Chargement des données</font>"
   ]
  },
  {
   "cell_type": "markdown",
   "id": "KyfiKA5euFPi",
   "metadata": {
    "id": "KyfiKA5euFPi"
   },
   "source": [
    "## Chargement du dataset principal"
   ]
  },
  {
   "cell_type": "code",
   "execution_count": null,
   "id": "C-aTCIOKtpIc",
   "metadata": {
    "colab": {
     "base_uri": "https://localhost:8080/"
    },
    "executionInfo": {
     "elapsed": 1759,
     "status": "ok",
     "timestamp": 1742400267529,
     "user": {
      "displayName": "Dimitri L",
      "userId": "02929891347853983044"
     },
     "user_tz": -60
    },
    "id": "C-aTCIOKtpIc",
    "outputId": "d11a260e-f7c2-4ae5-8433-a6311fa0e238"
   },
   "outputs": [],
   "source": [
    "# Le dataset étant volumineux pour être dans le repository Github, nous le téléchargeons via Kaggle test\n",
    "path = kagglehub.dataset_download(\"dimitrileloup/vehicules-fr-2022-2023\")\n",
    "print(\"Chemin vers le fichier : \", path)"
   ]
  },
  {
   "cell_type": "code",
   "execution_count": null,
   "id": "39KamcnbtwyV",
   "metadata": {
    "colab": {
     "base_uri": "https://localhost:8080/",
     "height": 794
    },
    "executionInfo": {
     "elapsed": 22856,
     "status": "ok",
     "timestamp": 1742400290384,
     "user": {
      "displayName": "Dimitri L",
      "userId": "02929891347853983044"
     },
     "user_tz": -60
    },
    "id": "39KamcnbtwyV",
    "outputId": "43802147-de09-4eb8-9cd1-aef18dff9542"
   },
   "outputs": [],
   "source": [
    "dataset_path = f\"{path}/datas_FR_2022_2023.csv\"\n",
    "df = pd.read_csv(dataset_path)\n",
    "df.head(10)"
   ]
  },
  {
   "cell_type": "code",
   "execution_count": null,
   "id": "3mSLkzOhd12y",
   "metadata": {
    "executionInfo": {
     "elapsed": 2,
     "status": "ok",
     "timestamp": 1742400290388,
     "user": {
      "displayName": "Dimitri L",
      "userId": "02929891347853983044"
     },
     "user_tz": -60
    },
    "id": "3mSLkzOhd12y"
   },
   "outputs": [],
   "source": [
    "# Suppression des espaces accidentels dans les noms des colonnes comme \"Fuel consumption \"\n",
    "df.columns = df.columns.str.strip()"
   ]
  },
  {
   "cell_type": "markdown",
   "id": "ad7d7593-d7f7-4704-b364-a82db664efe5",
   "metadata": {
    "id": "ad7d7593-d7f7-4704-b364-a82db664efe5"
   },
   "source": [
    "## Chargement du dataset du dictionnaire des variables"
   ]
  },
  {
   "cell_type": "code",
   "execution_count": null,
   "id": "8a4999de-f7ca-4c2f-8b79-49eb4ede13c3",
   "metadata": {
    "colab": {
     "base_uri": "https://localhost:8080/"
    },
    "executionInfo": {
     "elapsed": 1521,
     "status": "ok",
     "timestamp": 1742400291911,
     "user": {
      "displayName": "Dimitri L",
      "userId": "02929891347853983044"
     },
     "user_tz": -60
    },
    "id": "8a4999de-f7ca-4c2f-8b79-49eb4ede13c3",
    "outputId": "fc51127a-3d72-40b8-e518-dd36ca63aafb"
   },
   "outputs": [],
   "source": [
    "path_vars = kagglehub.dataset_download(\"dimitrileloup/dfinition-des-colonnes\")\n",
    "print(\"Path to dataset files:\", path_vars)"
   ]
  },
  {
   "cell_type": "code",
   "execution_count": null,
   "id": "BHhRhCE9raJA",
   "metadata": {
    "colab": {
     "base_uri": "https://localhost:8080/",
     "height": 0
    },
    "executionInfo": {
     "elapsed": 117,
     "status": "ok",
     "timestamp": 1742400292027,
     "user": {
      "displayName": "Dimitri L",
      "userId": "02929891347853983044"
     },
     "user_tz": -60
    },
    "id": "BHhRhCE9raJA",
    "outputId": "54729f7d-10e9-4f4b-8b5d-24424eb8cb13"
   },
   "outputs": [],
   "source": [
    "pd.set_option('display.max_colwidth', None) # pour pouvoir afficher tout le descriptif\n",
    "dataset_variables = f\"{path_vars}/Table-definition.xlsx\"\n",
    "var = pd.read_excel(dataset_variables)\n",
    "var.head(40)"
   ]
  },
  {
   "cell_type": "markdown",
   "id": "4d2994d8-8ee7-4bd4-98b8-ba84917ccada",
   "metadata": {
    "id": "4d2994d8-8ee7-4bd4-98b8-ba84917ccada"
   },
   "source": [
    "# <font color='#3585CD'>Premières analyses</font>"
   ]
  },
  {
   "cell_type": "markdown",
   "id": "rBT6LK3njiv2",
   "metadata": {
    "id": "rBT6LK3njiv2"
   },
   "source": [
    "## Informations sur le dataset"
   ]
  },
  {
   "cell_type": "code",
   "execution_count": null,
   "id": "a31daca1-c9e9-475d-a6f9-c5ab20987a75",
   "metadata": {
    "colab": {
     "base_uri": "https://localhost:8080/"
    },
    "executionInfo": {
     "elapsed": 40,
     "status": "ok",
     "timestamp": 1742400292029,
     "user": {
      "displayName": "Dimitri L",
      "userId": "02929891347853983044"
     },
     "user_tz": -60
    },
    "id": "a31daca1-c9e9-475d-a6f9-c5ab20987a75",
    "outputId": "f0f0bd03-4513-48dc-9fea-cad97a21d63b"
   },
   "outputs": [],
   "source": [
    "print(\"\\nAperçu du dataset :\")\n",
    "print(df.info())"
   ]
  },
  {
   "cell_type": "markdown",
   "id": "3IcE3faMuvgh",
   "metadata": {
    "id": "3IcE3faMuvgh"
   },
   "source": [
    "## Satistiques descriptives"
   ]
  },
  {
   "cell_type": "code",
   "execution_count": null,
   "id": "873490e5-56da-49c9-9e1e-25a075dba181",
   "metadata": {
    "colab": {
     "base_uri": "https://localhost:8080/",
     "height": 0
    },
    "executionInfo": {
     "elapsed": 2887,
     "status": "ok",
     "timestamp": 1742400294916,
     "user": {
      "displayName": "Dimitri L",
      "userId": "02929891347853983044"
     },
     "user_tz": -60
    },
    "id": "873490e5-56da-49c9-9e1e-25a075dba181",
    "outputId": "c5525c53-a855-4e70-fe87-3b63e2305095"
   },
   "outputs": [],
   "source": [
    "print(\"\\nStatistiques descriptives :\")\n",
    "display(df.describe(include='number').T)"
   ]
  },
  {
   "cell_type": "code",
   "execution_count": null,
   "id": "RheMHKZ4Ier1",
   "metadata": {
    "colab": {
     "base_uri": "https://localhost:8080/",
     "height": 0
    },
    "executionInfo": {
     "elapsed": 12958,
     "status": "ok",
     "timestamp": 1742400307876,
     "user": {
      "displayName": "Dimitri L",
      "userId": "02929891347853983044"
     },
     "user_tz": -60
    },
    "id": "RheMHKZ4Ier1",
    "outputId": "ef98bca3-8a4e-4784-bbf9-89c513fb0d36"
   },
   "outputs": [],
   "source": [
    "df.describe(include=\"object\").T"
   ]
  },
  {
   "cell_type": "markdown",
   "id": "c1a720bf-bc05-4de7-82f8-064abfe111de",
   "metadata": {
    "id": "c1a720bf-bc05-4de7-82f8-064abfe111de"
   },
   "source": [
    "## Nombre de valeurs uniques par colonne"
   ]
  },
  {
   "cell_type": "code",
   "execution_count": null,
   "id": "20764bc6-5f0f-40cb-82d3-14578b95a891",
   "metadata": {
    "colab": {
     "base_uri": "https://localhost:8080/",
     "height": 0
    },
    "executionInfo": {
     "elapsed": 4159,
     "status": "ok",
     "timestamp": 1742400312037,
     "user": {
      "displayName": "Dimitri L",
      "userId": "02929891347853983044"
     },
     "user_tz": -60
    },
    "id": "20764bc6-5f0f-40cb-82d3-14578b95a891",
    "outputId": "ca9908bf-19ff-46b4-dd90-8382638b3f95"
   },
   "outputs": [],
   "source": [
    "# Calculer le nombre de valeurs uniques par colonne et renommer la colonne\n",
    "df_unique_values = df.nunique().sort_values(ascending=False).reset_index()\n",
    "df_unique_values.columns = [\"colonne\", \"nombre de valeurs uniques\"]\n",
    "\n",
    "df_unique_values"
   ]
  },
  {
   "cell_type": "markdown",
   "id": "21685991-9178-413c-9b86-f63e9f2c6658",
   "metadata": {
    "id": "21685991-9178-413c-9b86-f63e9f2c6658"
   },
   "source": [
    "## Analyse rapide des colonnes\n",
    "<p>La fonction analyse_columns permet de visualiser les différentes colonnes avec un échantillon de valeurs</p>"
   ]
  },
  {
   "cell_type": "code",
   "execution_count": null,
   "id": "bde65772-4c7e-4c7a-ba24-c09970eb8194",
   "metadata": {
    "colab": {
     "base_uri": "https://localhost:8080/",
     "height": 1000
    },
    "executionInfo": {
     "elapsed": 13385,
     "status": "ok",
     "timestamp": 1742400325424,
     "user": {
      "displayName": "Dimitri L",
      "userId": "02929891347853983044"
     },
     "user_tz": -60
    },
    "id": "bde65772-4c7e-4c7a-ba24-c09970eb8194",
    "outputId": "76ea736a-aad8-408d-ff82-f2b39973bf4c"
   },
   "outputs": [],
   "source": [
    "analysis_df = utils.analyse_columns(df)\n",
    "analysis_df"
   ]
  },
  {
   "cell_type": "markdown",
   "id": "0675ff7e-1b8e-4032-8709-717f417371c2",
   "metadata": {
    "id": "0675ff7e-1b8e-4032-8709-717f417371c2"
   },
   "source": [
    "# <font color='#3585CD'>Analyse des valeurs manquantes</font>"
   ]
  },
  {
   "cell_type": "code",
   "execution_count": null,
   "id": "fe306e41-e32f-4678-8629-da0789543853",
   "metadata": {
    "colab": {
     "base_uri": "https://localhost:8080/",
     "height": 833
    },
    "executionInfo": {
     "elapsed": 3427,
     "status": "ok",
     "timestamp": 1742400328850,
     "user": {
      "displayName": "Dimitri L",
      "userId": "02929891347853983044"
     },
     "user_tz": -60
    },
    "id": "fe306e41-e32f-4678-8629-da0789543853",
    "outputId": "14d218b1-faf1-4945-84fb-e098e44faa60"
   },
   "outputs": [],
   "source": [
    "data_na = utils.display_missing_values(df)\n",
    "data_na"
   ]
  },
  {
   "cell_type": "markdown",
   "id": "b8b650d0-d15e-4517-b310-95926e85b9bd",
   "metadata": {
    "id": "b8b650d0-d15e-4517-b310-95926e85b9bd"
   },
   "source": [
    "# <font color='#3585CD'>Suppression de colonnes</font>"
   ]
  },
  {
   "cell_type": "markdown",
   "id": "_fQOFpEEfLe1",
   "metadata": {
    "id": "_fQOFpEEfLe1"
   },
   "source": [
    "Nous pouvons dès à présent ces colonnes qui ont un taux de valeurs manquantes supérieur à 70% :\n",
    "\n",
    "*   At2 (mm)\n",
    "*   W (mm)\n",
    "*   MMS\n",
    "*   Vf\n",
    "*   De\n",
    "*   Ernedc (g/km)\n",
    "*   At1 (mm)\n",
    "*   Enedc (g/km)\n",
    "*   RLFI\n",
    "*   z (Wh/km)\n",
    "*   Electric range (km)"
   ]
  },
  {
   "cell_type": "code",
   "execution_count": null,
   "id": "dad12cf7-aac7-41a9-b670-6e8d86645113",
   "metadata": {
    "executionInfo": {
     "elapsed": 928,
     "status": "ok",
     "timestamp": 1742400329779,
     "user": {
      "displayName": "Dimitri L",
      "userId": "02929891347853983044"
     },
     "user_tz": -60
    },
    "id": "dad12cf7-aac7-41a9-b670-6e8d86645113"
   },
   "outputs": [],
   "source": [
    "df = df.drop(columns=['At2 (mm)', 'W (mm)', 'MMS', 'Vf', 'De', 'Ernedc (g/km)',\t'At1 (mm)',\t'Enedc (g/km)',\t'RLFI',\t'z (Wh/km)', 'Electric range (km)'], axis=1)"
   ]
  },
  {
   "cell_type": "code",
   "execution_count": null,
   "id": "_c4NWIPGkfET",
   "metadata": {
    "colab": {
     "base_uri": "https://localhost:8080/"
    },
    "executionInfo": {
     "elapsed": 8738,
     "status": "ok",
     "timestamp": 1742400338519,
     "user": {
      "displayName": "Dimitri L",
      "userId": "02929891347853983044"
     },
     "user_tz": -60
    },
    "id": "_c4NWIPGkfET",
    "outputId": "9c0de7f2-d2da-4cdd-9d69-270a66ed349a"
   },
   "outputs": [],
   "source": [
    "df.duplicated().sum()"
   ]
  },
  {
   "cell_type": "code",
   "execution_count": null,
   "id": "143efb4b-af94-4593-bf51-f2359a8a5276",
   "metadata": {
    "colab": {
     "base_uri": "https://localhost:8080/",
     "height": 0
    },
    "executionInfo": {
     "elapsed": 3377,
     "status": "ok",
     "timestamp": 1742400341899,
     "user": {
      "displayName": "Dimitri L",
      "userId": "02929891347853983044"
     },
     "user_tz": -60
    },
    "id": "143efb4b-af94-4593-bf51-f2359a8a5276",
    "outputId": "8724996e-d5af-4d82-c34d-01e4feff64e6"
   },
   "outputs": [],
   "source": [
    "data_na = utils.display_missing_values(df)\n",
    "data_na"
   ]
  },
  {
   "cell_type": "markdown",
   "id": "XTvUxn3vE18r",
   "metadata": {
    "id": "XTvUxn3vE18r"
   },
   "source": [
    "# <font color='#3585CD'>Suppresion des colonnes non pertinentes</font>"
   ]
  },
  {
   "cell_type": "markdown",
   "id": "u6weWs8peR8M",
   "metadata": {
    "id": "u6weWs8peR8M"
   },
   "source": [
    "Certaines colonnes n'ont pas d'intérêt à être gardées :\n",
    "\n",
    "*   IT\n",
    "*   Erwltp (g/km) (dépreciée)\n",
    "*   ID : identifiant du véhicule\n",
    "*   Country : notre dataset est une extraction des véhicules de France\n",
    "*   VFN : n'a pas de norme universelle et comporte trop de valeurs\n",
    "*   Tan : trop de valeurs et sans intérêt pour notre projet\n",
    "*   T : trop de valeurs et sans intérêt pour notre projet\n",
    "*   Va : trop de valeurs et sans intérêt pour notre projet\n",
    "*   Ve : trop de valeurs et sans intérêt pour notre projet\n",
    "*   Status : n'a qu'une seule valeur et ne varie pas\n",
    "*   Year : 1 seule valeur\n",
    "*   Date of registration : sans intérêt pour notre projet\n",
    "*   Fm : redondant avec Ft\n",
    "*   Cr : nous avons 2 catégories (M1, M1G). M1G est une sous-catégorie de M1 réservée aux véhicules tout-terrain. Nous pouvons conclure que tous les véhicules sont de catégorie M1\n",
    "*   Ct : idem que Cr\n",
    "*   ech : sans intérêt pour notre projet\n",
    "*   Mp : redondant, se retrouve dans une autre colonne\n",
    "*   Man : redondant avec Mk\n",
    "*   r : n'a qu'une seule valeur\n",
    "*   Mh : redondant avec Mk\n"
   ]
  },
  {
   "cell_type": "code",
   "execution_count": null,
   "id": "yQJiYArxEAVT",
   "metadata": {
    "executionInfo": {
     "elapsed": 2,
     "status": "ok",
     "timestamp": 1742400341904,
     "user": {
      "displayName": "Dimitri L",
      "userId": "02929891347853983044"
     },
     "user_tz": -60
    },
    "id": "yQJiYArxEAVT"
   },
   "outputs": [],
   "source": [
    "df = df.drop(columns=['IT', 'Erwltp (g/km)', 'ID', 'Country', 'VFN', 'Tan', 'T', 'Va', 'Ve', 'Status', 'year', 'Date of registration', 'Fm', 'Cr', 'Ct', 'ech', 'Mp', 'Man', 'r', 'Mh'], axis=1)"
   ]
  },
  {
   "cell_type": "markdown",
   "id": "B-pWKFT5EhZn",
   "metadata": {
    "id": "B-pWKFT5EhZn"
   },
   "source": [
    "## Vérification de la corrélation entre Masse à vide et Masse totale</font>"
   ]
  },
  {
   "cell_type": "code",
   "execution_count": null,
   "id": "MmCPLVWnEhZn",
   "metadata": {
    "colab": {
     "base_uri": "https://localhost:8080/",
     "height": 617
    },
    "executionInfo": {
     "elapsed": 181,
     "status": "ok",
     "timestamp": 1742400342089,
     "user": {
      "displayName": "Dimitri L",
      "userId": "02929891347853983044"
     },
     "user_tz": -60
    },
    "id": "MmCPLVWnEhZn",
    "outputId": "fa8352ca-c70c-4e80-c290-ec2db1cad1d3"
   },
   "outputs": [],
   "source": [
    "df_masse = df[['Mt', 'm (kg)']]\n",
    "utils.plot_correlation_matrix(df_masse)"
   ]
  },
  {
   "cell_type": "markdown",
   "id": "TN7YYC4-EhZn",
   "metadata": {
    "id": "TN7YYC4-EhZn"
   },
   "source": [
    "On se rend compte qu'il y a une **forte corrélataion** entre ces 2 variables, qui pourrait entrainer une **colinéarité**. Nous prenons la décision de ne garder que la masse à vide (m (kg))"
   ]
  },
  {
   "cell_type": "code",
   "execution_count": null,
   "id": "56BPP9VREhZo",
   "metadata": {
    "executionInfo": {
     "elapsed": 339,
     "status": "ok",
     "timestamp": 1742400342427,
     "user": {
      "displayName": "Dimitri L",
      "userId": "02929891347853983044"
     },
     "user_tz": -60
    },
    "id": "56BPP9VREhZo"
   },
   "outputs": [],
   "source": [
    "df = df.drop('Mt', axis=1)"
   ]
  },
  {
   "cell_type": "markdown",
   "id": "b1b2e3a8-5b2c-4c65-bab0-a0cba65fad0c",
   "metadata": {
    "id": "b1b2e3a8-5b2c-4c65-bab0-a0cba65fad0c"
   },
   "source": [
    "# <font color='#3585CD'>Gestion des doublons</font>"
   ]
  },
  {
   "cell_type": "markdown",
   "id": "b961d0eb-90ef-48c0-aa6b-de3172790a47",
   "metadata": {
    "id": "b961d0eb-90ef-48c0-aa6b-de3172790a47"
   },
   "source": [
    "## Nombre de doublons"
   ]
  },
  {
   "cell_type": "code",
   "execution_count": null,
   "id": "ba6fd113-1ade-4faf-929c-5cf1cce6ae6a",
   "metadata": {
    "colab": {
     "base_uri": "https://localhost:8080/"
    },
    "executionInfo": {
     "elapsed": 1035,
     "status": "ok",
     "timestamp": 1742400343407,
     "user": {
      "displayName": "Dimitri L",
      "userId": "02929891347853983044"
     },
     "user_tz": -60
    },
    "id": "ba6fd113-1ade-4faf-929c-5cf1cce6ae6a",
    "outputId": "ea29205e-5948-4044-e6ce-a5ad6bd869a3"
   },
   "outputs": [],
   "source": [
    "df.duplicated().sum()"
   ]
  },
  {
   "cell_type": "markdown",
   "id": "a3c9198b-d5a5-44c1-82c5-dcee234f9eb5",
   "metadata": {
    "id": "a3c9198b-d5a5-44c1-82c5-dcee234f9eb5"
   },
   "source": [
    "## Supression des doublons"
   ]
  },
  {
   "cell_type": "code",
   "execution_count": null,
   "id": "f191ba2d-c256-49be-8fed-fae3d459feb1",
   "metadata": {
    "executionInfo": {
     "elapsed": 1054,
     "status": "ok",
     "timestamp": 1742400344502,
     "user": {
      "displayName": "Dimitri L",
      "userId": "02929891347853983044"
     },
     "user_tz": -60
    },
    "id": "f191ba2d-c256-49be-8fed-fae3d459feb1"
   },
   "outputs": [],
   "source": [
    "df.drop_duplicates(inplace =True)"
   ]
  },
  {
   "cell_type": "code",
   "execution_count": null,
   "id": "b32167b5-eff4-4e0b-aa91-66440422678a",
   "metadata": {
    "colab": {
     "base_uri": "https://localhost:8080/"
    },
    "executionInfo": {
     "elapsed": 21,
     "status": "ok",
     "timestamp": 1742400344525,
     "user": {
      "displayName": "Dimitri L",
      "userId": "02929891347853983044"
     },
     "user_tz": -60
    },
    "id": "b32167b5-eff4-4e0b-aa91-66440422678a",
    "outputId": "416c4dd4-34ae-4d88-db42-8ecc6317aa33"
   },
   "outputs": [],
   "source": [
    "df.duplicated().sum()"
   ]
  },
  {
   "cell_type": "code",
   "execution_count": null,
   "id": "Lgq_jDPU5Nbq",
   "metadata": {
    "colab": {
     "base_uri": "https://localhost:8080/"
    },
    "executionInfo": {
     "elapsed": 20,
     "status": "ok",
     "timestamp": 1742400344546,
     "user": {
      "displayName": "Dimitri L",
      "userId": "02929891347853983044"
     },
     "user_tz": -60
    },
    "id": "Lgq_jDPU5Nbq",
    "outputId": "0689da11-f95c-49a1-c436-bd6a81900e8b"
   },
   "outputs": [],
   "source": [
    "df.shape"
   ]
  },
  {
   "cell_type": "code",
   "execution_count": null,
   "id": "e-aMi_AowYAG",
   "metadata": {
    "executionInfo": {
     "elapsed": 29,
     "status": "ok",
     "timestamp": 1742400344586,
     "user": {
      "displayName": "Dimitri L",
      "userId": "02929891347853983044"
     },
     "user_tz": -60
    },
    "id": "e-aMi_AowYAG"
   },
   "outputs": [],
   "source": [
    "df = df.reset_index(drop=True)"
   ]
  },
  {
   "cell_type": "markdown",
   "id": "XCnoOyCviU5U",
   "metadata": {
    "id": "XCnoOyCviU5U"
   },
   "source": [
    "# <font color='#3585CD'>Renommage des colonnes</font>"
   ]
  },
  {
   "cell_type": "markdown",
   "id": "2pKp3lLAiXwu",
   "metadata": {
    "id": "2pKp3lLAiXwu"
   },
   "source": [
    "Pour plus de compréhension, nous allons renommer les colonnes :"
   ]
  },
  {
   "cell_type": "markdown",
   "id": "Bo6x4ZPzidYL",
   "metadata": {
    "id": "Bo6x4ZPzidYL"
   },
   "source": [
    "\n",
    "\n",
    "*   Mk : Marque\n",
    "*   Cn : Modele\n",
    "*   Ewltp (g/km) : Co2\n",
    "*   Ft : Carburant\n",
    "*   ec (cm3) : Cylindree moteur\n",
    "*   ep (KW) : Puissance moteur\n",
    "*   Fuel consumption : Consommation carburant\n"
   ]
  },
  {
   "cell_type": "code",
   "execution_count": null,
   "id": "qyD-Qh3BopIa",
   "metadata": {
    "executionInfo": {
     "elapsed": 7,
     "status": "ok",
     "timestamp": 1742400344589,
     "user": {
      "displayName": "Dimitri L",
      "userId": "02929891347853983044"
     },
     "user_tz": -60
    },
    "id": "qyD-Qh3BopIa"
   },
   "outputs": [],
   "source": [
    "renommage = {\n",
    "    'Mk': 'Marque',\n",
    "    'Cn': 'Modèle',\n",
    "    'm (kg)' : 'Masse à vide',\n",
    "    'Ewltp (g/km)': 'CO2',\n",
    "    'Ft': 'Carburant',\n",
    "    'ec (cm3)': 'Cylindrée moteur',\n",
    "    'ep (KW)': 'Puissance moteur',\n",
    "    'Fuel consumption': 'Consommation carburant'\n",
    "}\n",
    "\n",
    "# Application du renommage\n",
    "df.rename(columns=renommage, inplace=True)"
   ]
  },
  {
   "cell_type": "code",
   "execution_count": null,
   "id": "-1TvWNbTiSHn",
   "metadata": {
    "colab": {
     "base_uri": "https://localhost:8080/",
     "height": 424
    },
    "executionInfo": {
     "elapsed": 40,
     "status": "ok",
     "timestamp": 1742400344625,
     "user": {
      "displayName": "Dimitri L",
      "userId": "02929891347853983044"
     },
     "user_tz": -60
    },
    "id": "-1TvWNbTiSHn",
    "outputId": "17314391-4af6-4da4-e335-e8275ff4fb5b"
   },
   "outputs": [],
   "source": [
    "df"
   ]
  },
  {
   "cell_type": "markdown",
   "id": "1260xnGGEC8t",
   "metadata": {
    "id": "1260xnGGEC8t"
   },
   "source": [
    "# <font color='#3585CD'>Faut-il garder les véhicules électriques et hydrogènes ?</font>\n",
    "Notre objectif est de prédire les émissions directes de CO2. Garder les véhicules électriques et hydrogènes risque de biaiser notre modèle. Nous allons donc exclure les véhicules électriques de notre dataset"
   ]
  },
  {
   "cell_type": "code",
   "execution_count": null,
   "id": "AF_I04kc4gs-",
   "metadata": {
    "colab": {
     "base_uri": "https://localhost:8080/",
     "height": 147
    },
    "executionInfo": {
     "elapsed": 154,
     "status": "ok",
     "timestamp": 1742400344779,
     "user": {
      "displayName": "Dimitri L",
      "userId": "02929891347853983044"
     },
     "user_tz": -60
    },
    "id": "AF_I04kc4gs-",
    "outputId": "78e93b79-9c1d-409d-8207-99bedaa68284"
   },
   "outputs": [],
   "source": [
    "# Vérification des émissions de CO2 des véhicules hydrogènes\n",
    "df_hydrogen = df[df[\"Carburant\"] == \"hydrogen\"]\n",
    "df_hydrogen['CO2'].value_counts()"
   ]
  },
  {
   "cell_type": "code",
   "execution_count": null,
   "id": "8boy6o-VEPiJ",
   "metadata": {
    "executionInfo": {
     "elapsed": 2,
     "status": "ok",
     "timestamp": 1742400344782,
     "user": {
      "displayName": "Dimitri L",
      "userId": "02929891347853983044"
     },
     "user_tz": -60
    },
    "id": "8boy6o-VEPiJ"
   },
   "outputs": [],
   "source": [
    "# Nous excluons les véhicules électriques et hydrogènes\n",
    "df = df[(df[\"Carburant\"] != \"electric\") & (df[\"Carburant\"] != \"hydrogen\")]"
   ]
  },
  {
   "cell_type": "code",
   "execution_count": null,
   "id": "HPnvxWT6EQq6",
   "metadata": {
    "colab": {
     "base_uri": "https://localhost:8080/"
    },
    "executionInfo": {
     "elapsed": 10,
     "status": "ok",
     "timestamp": 1742400344793,
     "user": {
      "displayName": "Dimitri L",
      "userId": "02929891347853983044"
     },
     "user_tz": -60
    },
    "id": "HPnvxWT6EQq6",
    "outputId": "b7bc309b-62b2-4b96-e36a-61fb38f94c01"
   },
   "outputs": [],
   "source": [
    "df.shape"
   ]
  },
  {
   "cell_type": "markdown",
   "id": "nMNVK0J8CJ7I",
   "metadata": {
    "id": "nMNVK0J8CJ7I"
   },
   "source": [
    "# <font color='#3585CD'>Traitement des valeurs manquantes</font>"
   ]
  },
  {
   "cell_type": "code",
   "execution_count": null,
   "id": "BLLGa0XWEfJn",
   "metadata": {
    "colab": {
     "base_uri": "https://localhost:8080/",
     "height": 125
    },
    "executionInfo": {
     "elapsed": 7,
     "status": "ok",
     "timestamp": 1742400344801,
     "user": {
      "displayName": "Dimitri L",
      "userId": "02929891347853983044"
     },
     "user_tz": -60
    },
    "id": "BLLGa0XWEfJn",
    "outputId": "629777fd-fecd-4121-d730-044c0b9c7712"
   },
   "outputs": [],
   "source": [
    "data_na = utils.display_missing_values(df)\n",
    "data_na"
   ]
  },
  {
   "cell_type": "markdown",
   "id": "xQRWmXPLCSUd",
   "metadata": {
    "id": "xQRWmXPLCSUd"
   },
   "source": [
    "## Gestion des valeurs manquantes de la colonne Consommation carburant"
   ]
  },
  {
   "cell_type": "code",
   "execution_count": null,
   "id": "gYiAoxS4F-ZM",
   "metadata": {
    "colab": {
     "base_uri": "https://localhost:8080/",
     "height": 89
    },
    "executionInfo": {
     "elapsed": 7,
     "status": "ok",
     "timestamp": 1742400344809,
     "user": {
      "displayName": "Dimitri L",
      "userId": "02929891347853983044"
     },
     "user_tz": -60
    },
    "id": "gYiAoxS4F-ZM",
    "outputId": "cfbb54cd-a722-4291-cc74-29dab5256940"
   },
   "outputs": [],
   "source": [
    "df_fc_na = df[df['Consommation carburant'].isna()]\n",
    "df_fc_na"
   ]
  },
  {
   "cell_type": "markdown",
   "id": "crNE0LEOFs8L",
   "metadata": {
    "id": "crNE0LEOFs8L"
   },
   "source": [
    "Nous allons gérer cette ligne"
   ]
  },
  {
   "cell_type": "code",
   "execution_count": null,
   "id": "ILPWd94SJK2S",
   "metadata": {
    "colab": {
     "base_uri": "https://localhost:8080/",
     "height": 206
    },
    "executionInfo": {
     "elapsed": 6,
     "status": "ok",
     "timestamp": 1742400344816,
     "user": {
      "displayName": "Dimitri L",
      "userId": "02929891347853983044"
     },
     "user_tz": -60
    },
    "id": "ILPWd94SJK2S",
    "outputId": "f1ce552e-4107-4155-ec98-ef425a4129ec"
   },
   "outputs": [],
   "source": [
    "# regardons si d'autres modeles RANGE ROVER EVOQUE sont renseignés\n",
    "df_jag_evoque = df[(df['Modèle'] == 'RANGE ROVER EVOQUE') & (df['Carburant'] == 'diesel') & (~df['Consommation carburant'].isna())]\n",
    "df_jag_evoque.head()"
   ]
  },
  {
   "cell_type": "code",
   "execution_count": null,
   "id": "23ZKkMPUJRi-",
   "metadata": {
    "colab": {
     "base_uri": "https://localhost:8080/"
    },
    "executionInfo": {
     "elapsed": 76,
     "status": "ok",
     "timestamp": 1742400344890,
     "user": {
      "displayName": "Dimitri L",
      "userId": "02929891347853983044"
     },
     "user_tz": -60
    },
    "id": "23ZKkMPUJRi-",
    "outputId": "af89e088-a7d1-4d11-aa71-4b71dc8d2fe3"
   },
   "outputs": [],
   "source": [
    "fc_mean_jag_evoque = df_jag_evoque['Consommation carburant'].mean().round(1)\n",
    "fc_mean_jag_evoque"
   ]
  },
  {
   "cell_type": "code",
   "execution_count": null,
   "id": "hsD7U_LwJV0t",
   "metadata": {
    "executionInfo": {
     "elapsed": 6,
     "status": "ok",
     "timestamp": 1742400344892,
     "user": {
      "displayName": "Dimitri L",
      "userId": "02929891347853983044"
     },
     "user_tz": -60
    },
    "id": "hsD7U_LwJV0t"
   },
   "outputs": [],
   "source": [
    "df.loc[(df[\"Modèle\"] == \"RANGE ROVER EVOQUE\") & (df['Consommation carburant'].isna()), \"Consommation carburant\"] = fc_mean_jag_evoque"
   ]
  },
  {
   "cell_type": "code",
   "execution_count": null,
   "id": "TfaihP-VMIZM",
   "metadata": {
    "colab": {
     "base_uri": "https://localhost:8080/",
     "height": 89
    },
    "executionInfo": {
     "elapsed": 17,
     "status": "ok",
     "timestamp": 1742400344905,
     "user": {
      "displayName": "Dimitri L",
      "userId": "02929891347853983044"
     },
     "user_tz": -60
    },
    "id": "TfaihP-VMIZM",
    "outputId": "4d015c68-5fff-444a-8058-b1246de65ec8"
   },
   "outputs": [],
   "source": [
    "data_na = utils.display_missing_values(df)\n",
    "data_na"
   ]
  },
  {
   "cell_type": "markdown",
   "id": "UzmM74ArPofP",
   "metadata": {
    "id": "UzmM74ArPofP"
   },
   "source": [
    "## Gestion des valeurs manquantes de la colonne Masse à vide"
   ]
  },
  {
   "cell_type": "code",
   "execution_count": null,
   "id": "sbpXsUm4Q6kf",
   "metadata": {
    "colab": {
     "base_uri": "https://localhost:8080/",
     "height": 89
    },
    "executionInfo": {
     "elapsed": 10,
     "status": "ok",
     "timestamp": 1742400344913,
     "user": {
      "displayName": "Dimitri L",
      "userId": "02929891347853983044"
     },
     "user_tz": -60
    },
    "id": "sbpXsUm4Q6kf",
    "outputId": "e626ecc5-1269-44b6-e52c-2968eb819dbc"
   },
   "outputs": [],
   "source": [
    "data_na = utils.display_missing_values(df)\n",
    "data_na"
   ]
  },
  {
   "cell_type": "code",
   "execution_count": null,
   "id": "-Q9iGixhSoHL",
   "metadata": {
    "colab": {
     "base_uri": "https://localhost:8080/",
     "height": 89
    },
    "executionInfo": {
     "elapsed": 282,
     "status": "ok",
     "timestamp": 1742400345196,
     "user": {
      "displayName": "Dimitri L",
      "userId": "02929891347853983044"
     },
     "user_tz": -60
    },
    "id": "-Q9iGixhSoHL",
    "outputId": "9d5d3ab2-ae10-46a7-c743-2b526db9887c"
   },
   "outputs": [],
   "source": [
    "df_mkg_na = df[df['Masse à vide'].isna()]\n",
    "df_mkg_na"
   ]
  },
  {
   "cell_type": "markdown",
   "id": "lAEtmGqbP376",
   "metadata": {
    "id": "lAEtmGqbP376"
   },
   "source": [
    "Recherchons dans le dataset si nous avons des modèles équivalents dont les variables m (kg) et Mt ne sont **pas nulles**"
   ]
  },
  {
   "cell_type": "code",
   "execution_count": null,
   "id": "z6J6J93bSvW8",
   "metadata": {
    "colab": {
     "base_uri": "https://localhost:8080/",
     "height": 363
    },
    "executionInfo": {
     "elapsed": 306,
     "status": "ok",
     "timestamp": 1742400345224,
     "user": {
      "displayName": "Dimitri L",
      "userId": "02929891347853983044"
     },
     "user_tz": -60
    },
    "id": "z6J6J93bSvW8",
    "outputId": "3430f76e-b6e8-4686-d1a7-fb20ad479b42"
   },
   "outputs": [],
   "source": [
    "df_jag_lr = df[(df['Modèle'] == 'RANGE ROVER EVOQUE') & (df['Carburant'] == 'diesel') & (df['Puissance moteur'] == 120) & (~df['Masse à vide'].isna())]\n",
    "df_jag_lr"
   ]
  },
  {
   "cell_type": "code",
   "execution_count": null,
   "id": "LFekO1igylLN",
   "metadata": {
    "colab": {
     "base_uri": "https://localhost:8080/"
    },
    "executionInfo": {
     "elapsed": 12,
     "status": "ok",
     "timestamp": 1742400345246,
     "user": {
      "displayName": "Dimitri L",
      "userId": "02929891347853983044"
     },
     "user_tz": -60
    },
    "id": "LFekO1igylLN",
    "outputId": "d8652747-288d-40d9-e2ea-40b28e5ba9ba"
   },
   "outputs": [],
   "source": [
    "fc_mean_masse_jag_evoque = df_jag_evoque['Masse à vide'].mean().round(1)\n",
    "fc_mean_masse_jag_evoque"
   ]
  },
  {
   "cell_type": "code",
   "execution_count": null,
   "id": "RBB0Q_YIS9WN",
   "metadata": {
    "executionInfo": {
     "elapsed": 3,
     "status": "ok",
     "timestamp": 1742400345248,
     "user": {
      "displayName": "Dimitri L",
      "userId": "02929891347853983044"
     },
     "user_tz": -60
    },
    "id": "RBB0Q_YIS9WN"
   },
   "outputs": [],
   "source": [
    "# pour les mêmes modèles, la variable Masse à vide est égale à 1967\n",
    "df['Masse à vide'] = df['Masse à vide'].fillna(fc_mean_masse_jag_evoque)"
   ]
  },
  {
   "cell_type": "code",
   "execution_count": null,
   "id": "2C1F99lCyyBu",
   "metadata": {
    "colab": {
     "base_uri": "https://localhost:8080/",
     "height": 81
    },
    "executionInfo": {
     "elapsed": 52,
     "status": "ok",
     "timestamp": 1742400345301,
     "user": {
      "displayName": "Dimitri L",
      "userId": "02929891347853983044"
     },
     "user_tz": -60
    },
    "id": "2C1F99lCyyBu",
    "outputId": "c759016d-083a-459f-d60c-f978d5515663"
   },
   "outputs": [],
   "source": [
    "# Vérification\n",
    "df.loc[23942].to_frame().T"
   ]
  },
  {
   "cell_type": "code",
   "execution_count": null,
   "id": "9DwiZuFlTk6a",
   "metadata": {
    "colab": {
     "base_uri": "https://localhost:8080/",
     "height": 89
    },
    "executionInfo": {
     "elapsed": 11,
     "status": "ok",
     "timestamp": 1742400345311,
     "user": {
      "displayName": "Dimitri L",
      "userId": "02929891347853983044"
     },
     "user_tz": -60
    },
    "id": "9DwiZuFlTk6a",
    "outputId": "863e46c3-3f0c-4778-8d21-a30574fb8d59"
   },
   "outputs": [],
   "source": [
    "data_na = utils.display_missing_values(df)\n",
    "data_na"
   ]
  },
  {
   "cell_type": "code",
   "execution_count": null,
   "id": "UKaVBb3CL_H2",
   "metadata": {
    "colab": {
     "base_uri": "https://localhost:8080/",
     "height": 424
    },
    "executionInfo": {
     "elapsed": 7,
     "status": "ok",
     "timestamp": 1742400345316,
     "user": {
      "displayName": "Dimitri L",
      "userId": "02929891347853983044"
     },
     "user_tz": -60
    },
    "id": "UKaVBb3CL_H2",
    "outputId": "8acee40d-2b26-4e19-fe44-0ebc535bf9ea"
   },
   "outputs": [],
   "source": [
    "# ré inisialisation des indexes\n",
    "df = df.reset_index(drop=True)\n",
    "df"
   ]
  },
  {
   "cell_type": "markdown",
   "id": "accb1556-d8e9-413e-b3a5-5a8b07b9915d",
   "metadata": {
    "id": "accb1556-d8e9-413e-b3a5-5a8b07b9915d"
   },
   "source": [
    "# <font color='#3585CD'>Distribution des variables catégorielles</font>"
   ]
  },
  {
   "cell_type": "markdown",
   "id": "CGMWJWf38nh_",
   "metadata": {
    "id": "CGMWJWf38nh_"
   },
   "source": [
    "## Analyse par marque"
   ]
  },
  {
   "cell_type": "markdown",
   "id": "RuVXG0Q5u_KE",
   "metadata": {
    "id": "RuVXG0Q5u_KE"
   },
   "source": [
    "### Valeurs uniques"
   ]
  },
  {
   "cell_type": "code",
   "execution_count": null,
   "id": "5ZHxvkSEtKhJ",
   "metadata": {
    "colab": {
     "base_uri": "https://localhost:8080/"
    },
    "executionInfo": {
     "elapsed": 226,
     "status": "ok",
     "timestamp": 1742400345542,
     "user": {
      "displayName": "Dimitri L",
      "userId": "02929891347853983044"
     },
     "user_tz": -60
    },
    "id": "5ZHxvkSEtKhJ",
    "outputId": "66a7a8c8-9f83-4a93-f0a2-c011eee0a0fc"
   },
   "outputs": [],
   "source": [
    "sorted(df['Marque'].unique())"
   ]
  },
  {
   "cell_type": "markdown",
   "id": "RhOjBPp9vEXM",
   "metadata": {
    "id": "RhOjBPp9vEXM"
   },
   "source": [
    "### Remplacement"
   ]
  },
  {
   "cell_type": "markdown",
   "id": "R6_4LDP_tjoR",
   "metadata": {
    "id": "R6_4LDP_tjoR"
   },
   "source": [
    "Certaines valeurs peuvent être regroupées, comme par exemple :\n",
    "\n",
    "*   'MC LAREN', 'MCLAREN'\n",
    "*   'MERCEDES AMG', 'MERCEDES BENZ', 'MERCEDES-BENZ'\n",
    "*   'MITSUBISHI', 'MITSUBISHI MOTORS CORPORATION', 'MITSUBISHI MOTORS THAILAND'\n"
   ]
  },
  {
   "cell_type": "code",
   "execution_count": null,
   "id": "y_L2EoERtit0",
   "metadata": {
    "executionInfo": {
     "elapsed": 39,
     "status": "ok",
     "timestamp": 1742400345579,
     "user": {
      "displayName": "Dimitri L",
      "userId": "02929891347853983044"
     },
     "user_tz": -60
    },
    "id": "y_L2EoERtit0"
   },
   "outputs": [],
   "source": [
    "replace_mk = {'MC LAREN' : 'MCLAREN',\n",
    "              'MERCEDES AMG' : 'MERCEDES BENZ',\n",
    "              'MERCEDES-BENZ' : 'MERCEDES BENZ',\n",
    "              'MITSUBISHI MOTORS CORPORATION' : 'MITSUBISHI',\n",
    "              'MITSUBISHI MOTORS THAILAND' : 'MITSUBISHI',\n",
    "              'MITSUBISHI MOTORS (THAILAND)' : 'MITSUBISHI',\n",
    "              'FORD-CNG-TECHNIK' : 'FORD',\n",
    "              'ROLLS ROYCE' : 'ROLLS-ROYCE'}\n",
    "df['Marque'] = df['Marque'].replace(replace_mk)"
   ]
  },
  {
   "cell_type": "code",
   "execution_count": null,
   "id": "nTZBoTszU5yq",
   "metadata": {
    "colab": {
     "base_uri": "https://localhost:8080/"
    },
    "executionInfo": {
     "elapsed": 37,
     "status": "ok",
     "timestamp": 1742400345583,
     "user": {
      "displayName": "Dimitri L",
      "userId": "02929891347853983044"
     },
     "user_tz": -60
    },
    "id": "nTZBoTszU5yq",
    "outputId": "ed6e1b29-331c-4b4c-e675-699cebb99b73"
   },
   "outputs": [],
   "source": [
    "df['Marque'].nunique()"
   ]
  },
  {
   "cell_type": "markdown",
   "id": "qC_iu021vHqm",
   "metadata": {
    "id": "qC_iu021vHqm"
   },
   "source": [
    "### Analyse"
   ]
  },
  {
   "cell_type": "code",
   "execution_count": null,
   "id": "uIcIiKfu4wSt",
   "metadata": {
    "colab": {
     "base_uri": "https://localhost:8080/",
     "height": 0
    },
    "executionInfo": {
     "elapsed": 29,
     "status": "ok",
     "timestamp": 1742400345586,
     "user": {
      "displayName": "Dimitri L",
      "userId": "02929891347853983044"
     },
     "user_tz": -60
    },
    "id": "uIcIiKfu4wSt",
    "outputId": "81302d41-919c-4440-cede-593ec3b0c17e"
   },
   "outputs": [],
   "source": [
    "utils.analyser_variable_categorielle_plotly(df, 'Marque', 58)"
   ]
  },
  {
   "cell_type": "markdown",
   "id": "wjr-G8Ng8yPd",
   "metadata": {
    "id": "wjr-G8Ng8yPd"
   },
   "source": [
    "## Analyse par carburant"
   ]
  },
  {
   "cell_type": "markdown",
   "id": "4vQmzy1UvNs2",
   "metadata": {
    "id": "4vQmzy1UvNs2"
   },
   "source": [
    "### Valeurs uniques"
   ]
  },
  {
   "cell_type": "code",
   "execution_count": null,
   "id": "Qhh-CCCJvNs3",
   "metadata": {
    "colab": {
     "base_uri": "https://localhost:8080/"
    },
    "executionInfo": {
     "elapsed": 35,
     "status": "ok",
     "timestamp": 1742400345624,
     "user": {
      "displayName": "Dimitri L",
      "userId": "02929891347853983044"
     },
     "user_tz": -60
    },
    "id": "Qhh-CCCJvNs3",
    "outputId": "1903f989-1584-47d5-9c5f-f4d10dcee005"
   },
   "outputs": [],
   "source": [
    "sorted(df['Carburant'].unique())"
   ]
  },
  {
   "cell_type": "markdown",
   "id": "pLCX3EzTvRAI",
   "metadata": {
    "id": "pLCX3EzTvRAI"
   },
   "source": [
    "### Remplacement"
   ]
  },
  {
   "cell_type": "markdown",
   "id": "1xQMqvYavRAI",
   "metadata": {
    "id": "1xQMqvYavRAI"
   },
   "source": [
    "Certaines valeurs peuvent être regroupées :\n",
    "\n",
    "\n",
    "\n",
    "*   'diesel/electric' & 'petrol/electric' sont des véhicules hybride\n",
    "*   'lpg' & 'ng' sont des énergies au gaz\n",
    "*   'petrol' sera renommé en 'essence' pour plus de compréhension.\n"
   ]
  },
  {
   "cell_type": "code",
   "execution_count": null,
   "id": "rXTo6Mt4vRAI",
   "metadata": {
    "executionInfo": {
     "elapsed": 3,
     "status": "ok",
     "timestamp": 1742400345629,
     "user": {
      "displayName": "Dimitri L",
      "userId": "02929891347853983044"
     },
     "user_tz": -60
    },
    "id": "rXTo6Mt4vRAI"
   },
   "outputs": [],
   "source": [
    "replace_ft = {\n",
    "              'petrol' : 'essence',\n",
    "              'diesel/electric' : 'hybride',\n",
    "              'petrol/electric' : 'hybride',\n",
    "              'lpg' : 'gaz',\n",
    "              'ng' : 'gaz'}\n",
    "df['Carburant'] = df['Carburant'].replace(replace_ft)"
   ]
  },
  {
   "cell_type": "markdown",
   "id": "QVad4QGPwjIE",
   "metadata": {
    "id": "QVad4QGPwjIE"
   },
   "source": [
    "### Analyse"
   ]
  },
  {
   "cell_type": "code",
   "execution_count": null,
   "id": "DeeR1GeO4miV",
   "metadata": {
    "colab": {
     "base_uri": "https://localhost:8080/",
     "height": 0
    },
    "executionInfo": {
     "elapsed": 121,
     "status": "ok",
     "timestamp": 1742400345758,
     "user": {
      "displayName": "Dimitri L",
      "userId": "02929891347853983044"
     },
     "user_tz": -60
    },
    "id": "DeeR1GeO4miV",
    "outputId": "aa215f76-8284-4ffe-ea2b-9fdf5578fc9c"
   },
   "outputs": [],
   "source": [
    "utils.analyser_variable_categorielle_plotly(df, 'Carburant')"
   ]
  },
  {
   "cell_type": "markdown",
   "id": "g8ME4jy19mL4",
   "metadata": {
    "id": "g8ME4jy19mL4"
   },
   "source": [
    "## Analyse par modèle de voiture"
   ]
  },
  {
   "cell_type": "code",
   "execution_count": null,
   "id": "0ekDWail3hbp",
   "metadata": {
    "colab": {
     "base_uri": "https://localhost:8080/",
     "height": 0
    },
    "executionInfo": {
     "elapsed": 166,
     "status": "ok",
     "timestamp": 1742400345927,
     "user": {
      "displayName": "Dimitri L",
      "userId": "02929891347853983044"
     },
     "user_tz": -60
    },
    "id": "0ekDWail3hbp",
    "outputId": "b1271190-da11-4850-fcda-48d0cc1cd49b"
   },
   "outputs": [],
   "source": [
    "utils.analyser_variable_categorielle_plotly(df, 'Modèle', 30)"
   ]
  },
  {
   "cell_type": "markdown",
   "id": "9cfbf5f8-0546-4ee7-9463-2f4f6bd09815",
   "metadata": {
    "id": "9cfbf5f8-0546-4ee7-9463-2f4f6bd09815"
   },
   "source": [
    "# <font color='#3585CD'>Distribution des variables numériques</font>"
   ]
  },
  {
   "cell_type": "markdown",
   "id": "_3yKyzEn-y-1",
   "metadata": {
    "id": "_3yKyzEn-y-1"
   },
   "source": [
    "## Sélection des colonnes numériques"
   ]
  },
  {
   "cell_type": "code",
   "execution_count": null,
   "id": "b32e622e-1059-49d0-8c40-ffd18fb7c76c",
   "metadata": {
    "colab": {
     "base_uri": "https://localhost:8080/"
    },
    "executionInfo": {
     "elapsed": 10,
     "status": "ok",
     "timestamp": 1742400345940,
     "user": {
      "displayName": "Dimitri L",
      "userId": "02929891347853983044"
     },
     "user_tz": -60
    },
    "id": "b32e622e-1059-49d0-8c40-ffd18fb7c76c",
    "outputId": "b9329408-932a-452c-fcf6-62a283c9e8d5"
   },
   "outputs": [],
   "source": [
    "# Sélection des colonnes numériques\n",
    "num_vars = df.select_dtypes(include=['int64', 'float64']).columns.tolist()\n",
    "num_vars"
   ]
  },
  {
   "cell_type": "markdown",
   "id": "s8AIkRHI_0rg",
   "metadata": {
    "id": "s8AIkRHI_0rg"
   },
   "source": [
    "## Analyse de la masse du véhicule Masse à vide"
   ]
  },
  {
   "cell_type": "code",
   "execution_count": null,
   "id": "HYZ_9HxF6iZE",
   "metadata": {
    "colab": {
     "base_uri": "https://localhost:8080/",
     "height": 0
    },
    "executionInfo": {
     "elapsed": 370,
     "status": "ok",
     "timestamp": 1742400346312,
     "user": {
      "displayName": "Dimitri L",
      "userId": "02929891347853983044"
     },
     "user_tz": -60
    },
    "id": "HYZ_9HxF6iZE",
    "outputId": "ff471b4a-c130-43ea-816a-96ccc4225a2b"
   },
   "outputs": [],
   "source": [
    "utils.analyser_variables_numeriques_plotly(df, ['Masse à vide'])"
   ]
  },
  {
   "cell_type": "markdown",
   "id": "4EgILKyu_Vy3",
   "metadata": {
    "id": "4EgILKyu_Vy3"
   },
   "source": [
    "## Analyse des émissions spécifiques de CO2"
   ]
  },
  {
   "cell_type": "code",
   "execution_count": null,
   "id": "1b91a10f-8c87-4f97-9c6e-33eb3ad8595b",
   "metadata": {
    "colab": {
     "base_uri": "https://localhost:8080/",
     "height": 0
    },
    "executionInfo": {
     "elapsed": 98,
     "status": "ok",
     "timestamp": 1742400346414,
     "user": {
      "displayName": "Dimitri L",
      "userId": "02929891347853983044"
     },
     "user_tz": -60
    },
    "id": "1b91a10f-8c87-4f97-9c6e-33eb3ad8595b",
    "outputId": "ef2b6c9e-d292-4ec4-ff54-2fa938ca6e64"
   },
   "outputs": [],
   "source": [
    "utils.analyser_variables_numeriques_plotly(df, ['CO2'], 30)"
   ]
  },
  {
   "cell_type": "markdown",
   "id": "OnsuV3y9tO7z",
   "metadata": {
    "id": "OnsuV3y9tO7z"
   },
   "source": [
    "## Analyse de la cylindrée moteur"
   ]
  },
  {
   "cell_type": "code",
   "execution_count": null,
   "id": "O0_fjNMQtO7z",
   "metadata": {
    "colab": {
     "base_uri": "https://localhost:8080/",
     "height": 0
    },
    "executionInfo": {
     "elapsed": 393,
     "status": "ok",
     "timestamp": 1742400346810,
     "user": {
      "displayName": "Dimitri L",
      "userId": "02929891347853983044"
     },
     "user_tz": -60
    },
    "id": "O0_fjNMQtO7z",
    "outputId": "2ea19ade-4fb3-4f81-eb14-4095da339b7a"
   },
   "outputs": [],
   "source": [
    "utils.analyser_variables_numeriques_plotly(df, ['Cylindrée moteur'], 50)"
   ]
  },
  {
   "cell_type": "markdown",
   "id": "4e34vTPN48lO",
   "metadata": {
    "id": "4e34vTPN48lO"
   },
   "source": [
    "## Analyse de la puissance du moteur"
   ]
  },
  {
   "cell_type": "code",
   "execution_count": null,
   "id": "ydEyu20Y48lO",
   "metadata": {
    "colab": {
     "base_uri": "https://localhost:8080/",
     "height": 0
    },
    "executionInfo": {
     "elapsed": 578,
     "status": "ok",
     "timestamp": 1742400347390,
     "user": {
      "displayName": "Dimitri L",
      "userId": "02929891347853983044"
     },
     "user_tz": -60
    },
    "id": "ydEyu20Y48lO",
    "outputId": "963ef788-1b11-4c33-c4d9-8753af21866e"
   },
   "outputs": [],
   "source": [
    "utils.analyser_variables_numeriques_plotly(df, ['Puissance moteur'])"
   ]
  },
  {
   "cell_type": "markdown",
   "id": "kW_H0eMor_FL",
   "metadata": {
    "id": "kW_H0eMor_FL"
   },
   "source": [
    "## Analyse de la Consommation carburant"
   ]
  },
  {
   "cell_type": "code",
   "execution_count": null,
   "id": "4gLDKKsSr_FM",
   "metadata": {
    "colab": {
     "base_uri": "https://localhost:8080/",
     "height": 0
    },
    "executionInfo": {
     "elapsed": 498,
     "status": "ok",
     "timestamp": 1742400347891,
     "user": {
      "displayName": "Dimitri L",
      "userId": "02929891347853983044"
     },
     "user_tz": -60
    },
    "id": "4gLDKKsSr_FM",
    "outputId": "5553f0c1-f2b7-4f7b-c4d1-cb3c7f351386"
   },
   "outputs": [],
   "source": [
    "utils.analyser_variables_numeriques_plotly(df, ['Consommation carburant'])"
   ]
  },
  {
   "cell_type": "markdown",
   "id": "jL9f2y06NqP9",
   "metadata": {
    "id": "jL9f2y06NqP9"
   },
   "source": [
    "# <font color='#3585CD'>Création d'indicateurs</font>"
   ]
  },
  {
   "cell_type": "markdown",
   "id": "BDx5YpzdOX4x",
   "metadata": {
    "id": "BDx5YpzdOX4x"
   },
   "source": [
    "## Indicateur de Charge Spécifique du Moteur (ICSM)\n",
    "\n",
    "`ICSM = Puissance (kW) / Masse du véhicule (kg)`\n",
    "\n",
    "**Interprétation** :\n",
    "\n",
    "*   Faible ICSM → Voiture puissante et légère (moins d’effort, moins de CO₂).\n",
    "*   Élevé ICSM → Voiture sous-motorisée (forte sollicitation, plus de CO₂)."
   ]
  },
  {
   "cell_type": "code",
   "execution_count": null,
   "id": "aLzT9w-vOlAd",
   "metadata": {
    "executionInfo": {
     "elapsed": 49,
     "status": "ok",
     "timestamp": 1742400347956,
     "user": {
      "displayName": "Dimitri L",
      "userId": "02929891347853983044"
     },
     "user_tz": -60
    },
    "id": "aLzT9w-vOlAd"
   },
   "outputs": [],
   "source": [
    "df['ICSM'] = df['Puissance moteur'] / df['Masse à vide']"
   ]
  },
  {
   "cell_type": "markdown",
   "id": "sxCvLgGqOyJ_",
   "metadata": {
    "id": "sxCvLgGqOyJ_"
   },
   "source": [
    "## Indicateur de Consommation Énergétique (ICE)\n",
    "\n",
    "`ICE = Puissance (kW) / Cylindrée (cm³)`\n",
    "\n",
    "**Interprétation** :\n",
    "\n",
    "*   Faible ICE → Moteur optimisé (ex. turbo downsizing).\n",
    "*   Élevé ICE → Moteur gourmand et peu efficient."
   ]
  },
  {
   "cell_type": "code",
   "execution_count": null,
   "id": "rpxC_qn-PRtc",
   "metadata": {
    "executionInfo": {
     "elapsed": 3,
     "status": "ok",
     "timestamp": 1742400347977,
     "user": {
      "displayName": "Dimitri L",
      "userId": "02929891347853983044"
     },
     "user_tz": -60
    },
    "id": "rpxC_qn-PRtc"
   },
   "outputs": [],
   "source": [
    "df['ICE'] = df['Puissance moteur'] / df['Cylindrée moteur']"
   ]
  },
  {
   "cell_type": "markdown",
   "id": "J6cvHrqPN0TL",
   "metadata": {
    "id": "J6cvHrqPN0TL"
   },
   "source": [
    "## Indicateur de Densité Energétique du Carburant (IDEC)\n",
    "\n",
    "`IDEC = Cylindrée (cm³) / Masse du véhicule (kg)`\n",
    "\n",
    "**Interprétation** :\n",
    "\n",
    "*   Faible IDEC → Moteur bien dimensionné (moins d’effort, moins de CO₂).\n",
    "*   Élevé IDEC → Moteur sous-dimensionné (forte sollicitation, plus de CO₂)."
   ]
  },
  {
   "cell_type": "code",
   "execution_count": null,
   "id": "iZEiM270Po2g",
   "metadata": {
    "executionInfo": {
     "elapsed": 5,
     "status": "ok",
     "timestamp": 1742400347982,
     "user": {
      "displayName": "Dimitri L",
      "userId": "02929891347853983044"
     },
     "user_tz": -60
    },
    "id": "iZEiM270Po2g"
   },
   "outputs": [],
   "source": [
    "df['IDEC'] = df['Cylindrée moteur'] / df['Masse à vide']"
   ]
  },
  {
   "cell_type": "markdown",
   "id": "61554837-cd4d-4123-a115-ff093b844bb9",
   "metadata": {
    "id": "61554837-cd4d-4123-a115-ff093b844bb9"
   },
   "source": [
    "# <font color='#3585CD'>Analyse du CO2 en fonction de certaines variables</font>"
   ]
  },
  {
   "cell_type": "markdown",
   "id": "O_YLA7730NgD",
   "metadata": {
    "id": "O_YLA7730NgD"
   },
   "source": [
    "### Analyse du CO2 en fonction de la masse du véhicule"
   ]
  },
  {
   "cell_type": "code",
   "execution_count": null,
   "id": "bSzuOFQV0NgD",
   "metadata": {
    "colab": {
     "base_uri": "https://localhost:8080/",
     "height": 0,
     "output_embedded_package_id": "1iNze7wQxlPK_6j23vlHAOpM11FIHfEun"
    },
    "executionInfo": {
     "elapsed": 2561,
     "status": "ok",
     "timestamp": 1742400350546,
     "user": {
      "displayName": "Dimitri L",
      "userId": "02929891347853983044"
     },
     "user_tz": -60
    },
    "id": "bSzuOFQV0NgD",
    "outputId": "9cc73826-345d-4bad-8de4-a330207ae7c1"
   },
   "outputs": [],
   "source": [
    "utils.plot_scatter_co2(df, \"Masse à vide\")"
   ]
  },
  {
   "cell_type": "markdown",
   "id": "oz3m_bYyRoKG",
   "metadata": {
    "id": "oz3m_bYyRoKG"
   },
   "source": [
    "On observe que les véhicules plus lourds tendent à émettre plus de CO₂, avec une distinction entre les types de carburant."
   ]
  },
  {
   "cell_type": "markdown",
   "id": "DqQG6CO55iAK",
   "metadata": {
    "id": "DqQG6CO55iAK"
   },
   "source": [
    "### Analyse du CO2 en fonction de la puissance du moteur."
   ]
  },
  {
   "cell_type": "code",
   "execution_count": null,
   "id": "UCkGNBOo5iAK",
   "metadata": {
    "colab": {
     "base_uri": "https://localhost:8080/",
     "height": 0,
     "output_embedded_package_id": "1U2kG3-i7-2J6DlGtxgjB6TzveRifeQSk"
    },
    "executionInfo": {
     "elapsed": 940,
     "status": "ok",
     "timestamp": 1742400351586,
     "user": {
      "displayName": "Dimitri L",
      "userId": "02929891347853983044"
     },
     "user_tz": -60
    },
    "id": "UCkGNBOo5iAK",
    "outputId": "a04b5619-e204-4daa-90a5-c5e800c446bb"
   },
   "outputs": [],
   "source": [
    "utils.plot_scatter_co2(df, \"Puissance moteur\")"
   ]
  },
  {
   "cell_type": "markdown",
   "id": "dRRQmFsg5yI8",
   "metadata": {
    "id": "dRRQmFsg5yI8"
   },
   "source": [
    "### Analyse du CO2 en fonction du carburant\n",
    "\n"
   ]
  },
  {
   "cell_type": "code",
   "execution_count": null,
   "id": "mF1WQDjlUg2H",
   "metadata": {
    "colab": {
     "base_uri": "https://localhost:8080/",
     "height": 0,
     "output_embedded_package_id": "1E9cyfosXpZN7ZWiEVd4-M9EY4_9LuAQc"
    },
    "executionInfo": {
     "elapsed": 1977,
     "status": "ok",
     "timestamp": 1742400353696,
     "user": {
      "displayName": "Dimitri L",
      "userId": "02929891347853983044"
     },
     "user_tz": -60
    },
    "id": "mF1WQDjlUg2H",
    "outputId": "b45ee742-e47c-4f37-c1d7-f5362d4b9341"
   },
   "outputs": [],
   "source": [
    "utils.plot_scatter_co2(df, \"Carburant\")"
   ]
  },
  {
   "cell_type": "code",
   "execution_count": null,
   "id": "7f461fbc-5e46-4b38-b812-74cf74c33a51",
   "metadata": {
    "colab": {
     "base_uri": "https://localhost:8080/",
     "height": 0
    },
    "executionInfo": {
     "elapsed": 18,
     "status": "ok",
     "timestamp": 1742400353783,
     "user": {
      "displayName": "Dimitri L",
      "userId": "02929891347853983044"
     },
     "user_tz": -60
    },
    "id": "7f461fbc-5e46-4b38-b812-74cf74c33a51",
    "outputId": "bb0fff6f-fe81-4779-c409-d2beb7f40245"
   },
   "outputs": [],
   "source": [
    "utils.analyser_hist_co2_par_variable(df, 'Carburant')"
   ]
  },
  {
   "cell_type": "markdown",
   "id": "qTgF9C4dSNug",
   "metadata": {
    "id": "qTgF9C4dSNug"
   },
   "source": [
    "### Analyse du CO2 en fonction de la marque"
   ]
  },
  {
   "cell_type": "markdown",
   "id": "h_PaTt4_O2rT",
   "metadata": {
    "id": "h_PaTt4_O2rT"
   },
   "source": [
    "**Top des marques les plus polluantes**"
   ]
  },
  {
   "cell_type": "code",
   "execution_count": null,
   "id": "3qWNhtYFSNug",
   "metadata": {
    "colab": {
     "base_uri": "https://localhost:8080/",
     "height": 0
    },
    "executionInfo": {
     "elapsed": 18,
     "status": "ok",
     "timestamp": 1742400353811,
     "user": {
      "displayName": "Dimitri L",
      "userId": "02929891347853983044"
     },
     "user_tz": -60
    },
    "id": "3qWNhtYFSNug",
    "outputId": "bfea901c-c401-4e8d-cb20-42998aef8e1c"
   },
   "outputs": [],
   "source": [
    "utils.analyser_hist_co2_par_variable(df, 'Marque', 36)"
   ]
  },
  {
   "cell_type": "markdown",
   "id": "SeWK9NUm6Jd7",
   "metadata": {
    "id": "SeWK9NUm6Jd7"
   },
   "source": [
    "### Analyse du CO2 en fonction du modèle de voiture"
   ]
  },
  {
   "cell_type": "markdown",
   "id": "p7coH4J-Ork0",
   "metadata": {
    "id": "p7coH4J-Ork0"
   },
   "source": [
    "**Top des modèles les plus polluants**"
   ]
  },
  {
   "cell_type": "code",
   "execution_count": null,
   "id": "8dc055dc-5fae-4535-ba34-e9af9214d6a1",
   "metadata": {
    "colab": {
     "base_uri": "https://localhost:8080/",
     "height": 0
    },
    "executionInfo": {
     "elapsed": 12,
     "status": "ok",
     "timestamp": 1742400353889,
     "user": {
      "displayName": "Dimitri L",
      "userId": "02929891347853983044"
     },
     "user_tz": -60
    },
    "id": "8dc055dc-5fae-4535-ba34-e9af9214d6a1",
    "outputId": "f31d77dd-97e1-4371-db8e-9d423e44d60f"
   },
   "outputs": [],
   "source": [
    "utils.analyser_hist_co2_par_variable(df, 'Modèle', 30)"
   ]
  },
  {
   "cell_type": "markdown",
   "id": "vYODGi1ROy81",
   "metadata": {
    "id": "vYODGi1ROy81"
   },
   "source": [
    "**Top des modèles les moins polluants**"
   ]
  },
  {
   "cell_type": "code",
   "execution_count": null,
   "id": "A9AsobauNJx1",
   "metadata": {
    "colab": {
     "base_uri": "https://localhost:8080/",
     "height": 0
    },
    "executionInfo": {
     "elapsed": 22,
     "status": "ok",
     "timestamp": 1742400353913,
     "user": {
      "displayName": "Dimitri L",
      "userId": "02929891347853983044"
     },
     "user_tz": -60
    },
    "id": "A9AsobauNJx1",
    "outputId": "0404b81c-fee6-415c-a2f4-f4b4f55dd35e"
   },
   "outputs": [],
   "source": [
    "utils.analyser_hist_co2_par_variable(df, 'Modèle', 30, order='asc')"
   ]
  },
  {
   "cell_type": "markdown",
   "id": "aZHF1qE16TYd",
   "metadata": {
    "id": "aZHF1qE16TYd"
   },
   "source": [
    "### Analyse du CO2 en fonction de la consommation"
   ]
  },
  {
   "cell_type": "code",
   "execution_count": null,
   "id": "2aacc1a9-1c11-4520-a2d7-8a183074c69e",
   "metadata": {
    "colab": {
     "base_uri": "https://localhost:8080/",
     "height": 0,
     "output_embedded_package_id": "1b2J3v8uAO9CMdzrKHxY6euBWaMBuJwo6"
    },
    "executionInfo": {
     "elapsed": 772,
     "status": "ok",
     "timestamp": 1742400354687,
     "user": {
      "displayName": "Dimitri L",
      "userId": "02929891347853983044"
     },
     "user_tz": -60
    },
    "id": "2aacc1a9-1c11-4520-a2d7-8a183074c69e",
    "outputId": "e8cc44cb-8be2-4dc4-89bd-9cbb9680003d"
   },
   "outputs": [],
   "source": [
    "utils.plot_scatter_co2(df, \"Consommation carburant\")"
   ]
  },
  {
   "cell_type": "markdown",
   "id": "HmSzRiZyQAyx",
   "metadata": {
    "id": "HmSzRiZyQAyx"
   },
   "source": [
    "### Analyse du CO2 en fonction des indicateurs ICSM, ICE, IDEC"
   ]
  },
  {
   "cell_type": "code",
   "execution_count": null,
   "id": "caJJ7J1yQISK",
   "metadata": {
    "colab": {
     "base_uri": "https://localhost:8080/",
     "height": 0,
     "output_embedded_package_id": "1kAkY54L54G5mJ1GO7WGrsNvjX1wp2tqi"
    },
    "executionInfo": {
     "elapsed": 1386,
     "status": "ok",
     "timestamp": 1742400356144,
     "user": {
      "displayName": "Dimitri L",
      "userId": "02929891347853983044"
     },
     "user_tz": -60
    },
    "id": "caJJ7J1yQISK",
    "outputId": "a4986502-e22a-4f51-ecd3-82d193478bda"
   },
   "outputs": [],
   "source": [
    "utils.plot_scatter_co2(df, \"ICSM\")"
   ]
  },
  {
   "cell_type": "code",
   "execution_count": null,
   "id": "XGH6ice2QHbX",
   "metadata": {
    "colab": {
     "base_uri": "https://localhost:8080/",
     "height": 0,
     "output_embedded_package_id": "1uAggbvre2oHoG6ZV7JymmGwm_6SWRng2"
    },
    "executionInfo": {
     "elapsed": 803,
     "status": "ok",
     "timestamp": 1742400357028,
     "user": {
      "displayName": "Dimitri L",
      "userId": "02929891347853983044"
     },
     "user_tz": -60
    },
    "id": "XGH6ice2QHbX",
    "outputId": "a3f178cc-e248-4606-862c-3f3eab730068"
   },
   "outputs": [],
   "source": [
    "utils.plot_scatter_co2(df, \"ICE\")"
   ]
  },
  {
   "cell_type": "code",
   "execution_count": null,
   "id": "FF9NRpavP4T2",
   "metadata": {
    "colab": {
     "base_uri": "https://localhost:8080/",
     "output_embedded_package_id": "1Y3r-y6GZGWZvkebxmKtcTR58m7YV6lIb"
    },
    "executionInfo": {
     "elapsed": 998,
     "status": "ok",
     "timestamp": 1742400358228,
     "user": {
      "displayName": "Dimitri L",
      "userId": "02929891347853983044"
     },
     "user_tz": -60
    },
    "id": "FF9NRpavP4T2",
    "outputId": "f4fe7a22-9673-4356-f3d6-02bac87a6234"
   },
   "outputs": [],
   "source": [
    "utils.plot_scatter_co2(df, \"IDEC\")"
   ]
  },
  {
   "cell_type": "markdown",
   "id": "456b70c9-ae62-4543-b378-56706cd1a74e",
   "metadata": {
    "id": "456b70c9-ae62-4543-b378-56706cd1a74e"
   },
   "source": [
    "# <font color='#3585CD'>Corrélation des variables numériques</font>"
   ]
  },
  {
   "cell_type": "code",
   "execution_count": null,
   "id": "w2ubdfHkYWJf",
   "metadata": {
    "colab": {
     "base_uri": "https://localhost:8080/"
    },
    "executionInfo": {
     "elapsed": 16,
     "status": "ok",
     "timestamp": 1742400358381,
     "user": {
      "displayName": "Dimitri L",
      "userId": "02929891347853983044"
     },
     "user_tz": -60
    },
    "id": "w2ubdfHkYWJf",
    "outputId": "71d21136-cb6e-4f4e-fd71-821b519033c0"
   },
   "outputs": [],
   "source": [
    "utils.plot_correlation_matrix(df)"
   ]
  },
  {
   "cell_type": "code",
   "execution_count": null,
   "id": "f5oH0R37cgvr",
   "metadata": {
    "colab": {
     "base_uri": "https://localhost:8080/"
    },
    "executionInfo": {
     "elapsed": 29,
     "status": "ok",
     "timestamp": 1742400358419,
     "user": {
      "displayName": "Dimitri L",
      "userId": "02929891347853983044"
     },
     "user_tz": -60
    },
    "id": "f5oH0R37cgvr",
    "outputId": "53dd7b40-995c-4169-f639-4a1bcea0f353"
   },
   "outputs": [],
   "source": [
    "num_numeric_cols = df.select_dtypes(include=['number']).columns\n",
    "num_numeric_cols\n",
    "\n",
    "for col in num_numeric_cols:\n",
    "  utils.calculer_correlation(df, col, 'CO2')"
   ]
  },
  {
   "cell_type": "markdown",
   "id": "a_wPxakovL20",
   "metadata": {
    "id": "a_wPxakovL20"
   },
   "source": [
    "# <font color='#3585CD'>??? Création d'une colonne Gamme ???</font>"
   ]
  },
  {
   "cell_type": "code",
   "execution_count": null,
   "id": "AkZsfawqkTMZ",
   "metadata": {
    "executionInfo": {
     "elapsed": 7,
     "status": "ok",
     "timestamp": 1742400358433,
     "user": {
      "displayName": "Dimitri L",
      "userId": "02929891347853983044"
     },
     "user_tz": -60
    },
    "id": "AkZsfawqkTMZ"
   },
   "outputs": [],
   "source": [
    "# df[\"Rapport_poids_puissance\"] = df[\"Masse à vide\"] / df[\"Puissance moteur\"]"
   ]
  },
  {
   "cell_type": "code",
   "execution_count": null,
   "id": "oLOMXW6okgTA",
   "metadata": {
    "executionInfo": {
     "elapsed": 10,
     "status": "ok",
     "timestamp": 1742400358456,
     "user": {
      "displayName": "Dimitri L",
      "userId": "02929891347853983044"
     },
     "user_tz": -60
    },
    "id": "oLOMXW6okgTA"
   },
   "outputs": [],
   "source": [
    "# df[\"Cylindrée_relative\"] = df[\"Cylindrée moteur\"] / df[\"Masse à vide\"]"
   ]
  },
  {
   "cell_type": "code",
   "execution_count": null,
   "id": "7cTBOW4RkmtQ",
   "metadata": {
    "executionInfo": {
     "elapsed": 33,
     "status": "ok",
     "timestamp": 1742400358496,
     "user": {
      "displayName": "Dimitri L",
      "userId": "02929891347853983044"
     },
     "user_tz": -60
    },
    "id": "7cTBOW4RkmtQ"
   },
   "outputs": [],
   "source": [
    "# df[\"Rendement_moteur\"] = df[\"Puissance moteur\"] / df[\"Consommation carburant\"]"
   ]
  },
  {
   "cell_type": "code",
   "execution_count": null,
   "id": "XL0UnYGNlO-1",
   "metadata": {
    "executionInfo": {
     "elapsed": 7,
     "status": "ok",
     "timestamp": 1742400358574,
     "user": {
      "displayName": "Dimitri L",
      "userId": "02929891347853983044"
     },
     "user_tz": -60
    },
    "id": "XL0UnYGNlO-1"
   },
   "outputs": [],
   "source": [
    "# df[\"Charge_thermique\"] = df[\"Consommation carburant\"] / df[\"Puissance moteur\"]"
   ]
  },
  {
   "cell_type": "code",
   "execution_count": null,
   "id": "3r4hgPt8kVoG",
   "metadata": {
    "executionInfo": {
     "elapsed": 3,
     "status": "ok",
     "timestamp": 1742400358580,
     "user": {
      "displayName": "Dimitri L",
      "userId": "02929891347853983044"
     },
     "user_tz": -60
    },
    "id": "3r4hgPt8kVoG"
   },
   "outputs": [],
   "source": [
    "# plot_correlation_matrix(df)"
   ]
  },
  {
   "cell_type": "markdown",
   "id": "UF_tgR3vvS8W",
   "metadata": {
    "id": "UF_tgR3vvS8W"
   },
   "source": [
    "Nous constatons que nous avons beaucoup de modèles dans notre dataset (plus de 800). Il sera très difficile d'effectuer un encodage sur ces catégories. Nous pouvons imaginer qu'au lieu du modèle, avoir une colonne Gamme qui indiquerait le type de véhicule. Après recherche, nous avons déterminer la grille suivante :\n",
    "\n",
    "\n",
    "*   cylindrée <= 1600 et puissance <= 100 : Economique\n",
    "*   cylindrée <= 2500 et puissance <= 150 : Polyvalente\n",
    "*   cylindrée <= 3500 et puissance <= 250 : Dynamique\n",
    "*   cylindrée <= 4500 et puissance <= 400 : Sportive\n",
    "*   au dessus : Luxe\n",
    "\n"
   ]
  },
  {
   "cell_type": "code",
   "execution_count": null,
   "id": "_fZy6qQavaMB",
   "metadata": {
    "executionInfo": {
     "elapsed": 3,
     "status": "ok",
     "timestamp": 1742400358586,
     "user": {
      "displayName": "Dimitri L",
      "userId": "02929891347853983044"
     },
     "user_tz": -60
    },
    "id": "_fZy6qQavaMB"
   },
   "outputs": [],
   "source": [
    "# def categoriser_performance(row):\n",
    "#   cylindree = row['Cylindrée moteur']\n",
    "#   puissance = row['Puissance moteur']\n",
    "\n",
    "#   if cylindree <= 1600 and puissance <= 100:\n",
    "#       return 'Economique'\n",
    "#   elif cylindree <= 2500 and puissance <= 150:\n",
    "#       return 'Polyvalente'\n",
    "#   elif cylindree <= 3500 and puissance <= 250:\n",
    "#       return 'Dynamique'\n",
    "#   elif cylindree <= 4500 and puissance <= 400:\n",
    "#       return 'Sportive'\n",
    "#   else:\n",
    "#       return 'Luxe'\n",
    "\n",
    "# df['Gamme'] = df.apply(categoriser_performance, axis=1)"
   ]
  },
  {
   "cell_type": "code",
   "execution_count": null,
   "id": "ZCAY26S3vlOs",
   "metadata": {
    "executionInfo": {
     "elapsed": 43,
     "status": "ok",
     "timestamp": 1742400358636,
     "user": {
      "displayName": "Dimitri L",
      "userId": "02929891347853983044"
     },
     "user_tz": -60
    },
    "id": "ZCAY26S3vlOs"
   },
   "outputs": [],
   "source": [
    "# analyser_hist_co2_par_variable(df, 'Gamme')"
   ]
  },
  {
   "cell_type": "markdown",
   "id": "N49j6I_Npe3L",
   "metadata": {
    "id": "N49j6I_Npe3L"
   },
   "source": [
    "# <font color='#3585CD'>Quelles variables garder pour prédire le CO2 ?</font>"
   ]
  },
  {
   "cell_type": "markdown",
   "id": "p67Lx1B7pwv9",
   "metadata": {
    "id": "p67Lx1B7pwv9"
   },
   "source": [
    "Selon nous, les **variables pertinentes** à garder pour la prédiction sont les suivantes :\n",
    "* **Masse à vide** : un véhicule plus lourd a souvent des émissions plus élevées.\n",
    "* **Cylindrée moteur** : une plus grande cylindrée est souvent associée à une plus grande consommation et donc plus d’émissions.\n",
    "* **Puissance moteur** : un moteur plus puissant a tendance à consommer plus de carburant.\n",
    "* **Consommation carburant** : directement liée aux émissions de CO₂.\n",
    "* **Carburant** : Essence, diesel, hybride… Chaque type influence les émissions.\n",
    "\n",
    "La variable Carburant sera encodée.\n",
    "\n",
    "Nous **excluerons** les variables **Marque** et **Modèle** qui ne sont pas directement liées aux émissions de CO2.\n",
    "\n",
    "Pourquoi exclure les variables **Marque** et **Modèle** ?\n",
    "* Ce sont des variables catégoriques à très haute **cardinalité**\n",
    "* L'influence sur le CO₂ passe par des **caractéristiques techniques**"
   ]
  },
  {
   "cell_type": "code",
   "execution_count": null,
   "id": "f--3NiKErHvF",
   "metadata": {
    "executionInfo": {
     "elapsed": 12,
     "status": "ok",
     "timestamp": 1742400358657,
     "user": {
      "displayName": "Dimitri L",
      "userId": "02929891347853983044"
     },
     "user_tz": -60
    },
    "id": "f--3NiKErHvF"
   },
   "outputs": [],
   "source": [
    "# suppression des variables Marque et Modèle\n",
    "# df = df.drop(columns=['Marque', 'Modèle'], axis=1)\n",
    "# df.head()"
   ]
  },
  {
   "cell_type": "code",
   "execution_count": null,
   "id": "Y48FUZ9VrYBc",
   "metadata": {
    "colab": {
     "base_uri": "https://localhost:8080/"
    },
    "executionInfo": {
     "elapsed": 13,
     "status": "ok",
     "timestamp": 1742400358676,
     "user": {
      "displayName": "Dimitri L",
      "userId": "02929891347853983044"
     },
     "user_tz": -60
    },
    "id": "Y48FUZ9VrYBc",
    "outputId": "97e6a11e-85be-4767-a525-274dae6f0851"
   },
   "outputs": [],
   "source": [
    "df.duplicated().sum()"
   ]
  },
  {
   "cell_type": "code",
   "execution_count": null,
   "id": "xg_FgI93rbLY",
   "metadata": {
    "colab": {
     "base_uri": "https://localhost:8080/"
    },
    "executionInfo": {
     "elapsed": 49,
     "status": "ok",
     "timestamp": 1742400358729,
     "user": {
      "displayName": "Dimitri L",
      "userId": "02929891347853983044"
     },
     "user_tz": -60
    },
    "id": "xg_FgI93rbLY",
    "outputId": "903af1ab-b77b-4f34-cff3-5b8a578ac97e"
   },
   "outputs": [],
   "source": [
    "df = df.drop_duplicates()\n",
    "df.shape"
   ]
  },
  {
   "cell_type": "markdown",
   "id": "df5e82c0-8c40-4dcb-9f8c-e2bea845d0a2",
   "metadata": {
    "id": "df5e82c0-8c40-4dcb-9f8c-e2bea845d0a2"
   },
   "source": [
    "# <font color='#3585CD'>Analyse des outliers</font>"
   ]
  },
  {
   "cell_type": "markdown",
   "id": "yGRqGra874kC",
   "metadata": {
    "id": "yGRqGra874kC"
   },
   "source": [
    "## Masse à vide"
   ]
  },
  {
   "cell_type": "code",
   "execution_count": null,
   "id": "45rKYp2G576p",
   "metadata": {
    "colab": {
     "base_uri": "https://localhost:8080/"
    },
    "executionInfo": {
     "elapsed": 146,
     "status": "ok",
     "timestamp": 1742400358907,
     "user": {
      "displayName": "Dimitri L",
      "userId": "02929891347853983044"
     },
     "user_tz": -60
    },
    "id": "45rKYp2G576p",
    "outputId": "4d4cf41b-9b1e-4813-a877-7839e1c1ef1a"
   },
   "outputs": [],
   "source": [
    "utils.detecter_outliers_plotly_var(df['Masse à vide'])"
   ]
  },
  {
   "cell_type": "code",
   "execution_count": null,
   "id": "gtDytaNE8i6F",
   "metadata": {
    "colab": {
     "base_uri": "https://localhost:8080/",
     "height": 0
    },
    "executionInfo": {
     "elapsed": 4,
     "status": "ok",
     "timestamp": 1742400358913,
     "user": {
      "displayName": "Dimitri L",
      "userId": "02929891347853983044"
     },
     "user_tz": -60
    },
    "id": "gtDytaNE8i6F",
    "outputId": "68f1cff0-1041-4199-dd46-1da35e8a0c65"
   },
   "outputs": [],
   "source": [
    "df_outliers_masse = df[df['Masse à vide'] < 750].sort_values(by='Masse à vide', ascending=True)\n",
    "df_outliers_masse.head(20)"
   ]
  },
  {
   "cell_type": "code",
   "execution_count": null,
   "id": "M80SbSQC8JD9",
   "metadata": {
    "colab": {
     "base_uri": "https://localhost:8080/",
     "height": 0
    },
    "executionInfo": {
     "elapsed": 4,
     "status": "ok",
     "timestamp": 1742400358919,
     "user": {
      "displayName": "Dimitri L",
      "userId": "02929891347853983044"
     },
     "user_tz": -60
    },
    "id": "M80SbSQC8JD9",
    "outputId": "dff45f14-996d-4713-a6b3-a506e3b5ed67"
   },
   "outputs": [],
   "source": [
    "df_outliers_masse = df[df['Masse à vide'] > 2500].sort_values(by='Masse à vide', ascending=True)\n",
    "df_outliers_masse.tail(20)"
   ]
  },
  {
   "cell_type": "markdown",
   "id": "TQLCV0MX6spA",
   "metadata": {
    "id": "TQLCV0MX6spA"
   },
   "source": [
    "## Cylindrée moteur"
   ]
  },
  {
   "cell_type": "code",
   "execution_count": null,
   "id": "F9-YuvTp5rXN",
   "metadata": {
    "colab": {
     "base_uri": "https://localhost:8080/"
    },
    "executionInfo": {
     "elapsed": 36,
     "status": "ok",
     "timestamp": 1742400358956,
     "user": {
      "displayName": "Dimitri L",
      "userId": "02929891347853983044"
     },
     "user_tz": -60
    },
    "id": "F9-YuvTp5rXN",
    "outputId": "028cf922-1844-46a6-a002-de67c01e06ab"
   },
   "outputs": [],
   "source": [
    "utils.detecter_outliers_plotly_var(df['Cylindrée moteur'])"
   ]
  },
  {
   "cell_type": "code",
   "execution_count": null,
   "id": "SN50HwMj9Ex-",
   "metadata": {
    "colab": {
     "base_uri": "https://localhost:8080/",
     "height": 0
    },
    "executionInfo": {
     "elapsed": 4,
     "status": "ok",
     "timestamp": 1742400358963,
     "user": {
      "displayName": "Dimitri L",
      "userId": "02929891347853983044"
     },
     "user_tz": -60
    },
    "id": "SN50HwMj9Ex-",
    "outputId": "04e2a074-641c-4282-b86c-955d46d79bef"
   },
   "outputs": [],
   "source": [
    "df_outliers_CO2 = df[df['Cylindrée moteur'] > 4000].sort_values(by='Cylindrée moteur', ascending=True)\n",
    "df_outliers_CO2.tail(20)"
   ]
  },
  {
   "cell_type": "markdown",
   "id": "nbmo9v6P72Qe",
   "metadata": {
    "id": "nbmo9v6P72Qe"
   },
   "source": [
    "## CO2"
   ]
  },
  {
   "cell_type": "code",
   "execution_count": null,
   "id": "YICkxhah5-7f",
   "metadata": {
    "colab": {
     "base_uri": "https://localhost:8080/"
    },
    "executionInfo": {
     "elapsed": 24,
     "status": "ok",
     "timestamp": 1742400358987,
     "user": {
      "displayName": "Dimitri L",
      "userId": "02929891347853983044"
     },
     "user_tz": -60
    },
    "id": "YICkxhah5-7f",
    "outputId": "5389f894-982d-4ae0-b02a-3ca3b497b5ec"
   },
   "outputs": [],
   "source": [
    "utils.detecter_outliers_plotly_var(df['CO2'])"
   ]
  },
  {
   "cell_type": "code",
   "execution_count": null,
   "id": "2UyvjE0C9Rn9",
   "metadata": {
    "colab": {
     "base_uri": "https://localhost:8080/",
     "height": 0
    },
    "executionInfo": {
     "elapsed": 4,
     "status": "ok",
     "timestamp": 1742400358993,
     "user": {
      "displayName": "Dimitri L",
      "userId": "02929891347853983044"
     },
     "user_tz": -60
    },
    "id": "2UyvjE0C9Rn9",
    "outputId": "f812eb1a-d464-4ac5-fab1-aaa721e38764"
   },
   "outputs": [],
   "source": [
    "df_outliers_CO2 = df[df['CO2'] > 400].sort_values(by='CO2', ascending=True)\n",
    "df_outliers_CO2.tail(20)"
   ]
  },
  {
   "cell_type": "markdown",
   "id": "ZMqmwbVg79FK",
   "metadata": {
    "id": "ZMqmwbVg79FK"
   },
   "source": [
    "## Puissance moteur"
   ]
  },
  {
   "cell_type": "code",
   "execution_count": null,
   "id": "EfuSrlbvPz4a",
   "metadata": {
    "colab": {
     "base_uri": "https://localhost:8080/"
    },
    "executionInfo": {
     "elapsed": 121,
     "status": "ok",
     "timestamp": 1742400359115,
     "user": {
      "displayName": "Dimitri L",
      "userId": "02929891347853983044"
     },
     "user_tz": -60
    },
    "id": "EfuSrlbvPz4a",
    "outputId": "06e3ef08-6741-41b4-8f77-a6790530b914"
   },
   "outputs": [],
   "source": [
    "utils.detecter_outliers_plotly_var(df['Puissance moteur'])"
   ]
  },
  {
   "cell_type": "code",
   "execution_count": null,
   "id": "ICXbIR2U9dRV",
   "metadata": {
    "colab": {
     "base_uri": "https://localhost:8080/",
     "height": 0
    },
    "executionInfo": {
     "elapsed": 13,
     "status": "ok",
     "timestamp": 1742400359126,
     "user": {
      "displayName": "Dimitri L",
      "userId": "02929891347853983044"
     },
     "user_tz": -60
    },
    "id": "ICXbIR2U9dRV",
    "outputId": "e00c5d59-9440-4a4a-c30a-315c4b76f6bb"
   },
   "outputs": [],
   "source": [
    "df_outliers_Consommation = df[df['Puissance moteur'] > 15].sort_values(by='Puissance moteur', ascending=True)\n",
    "df_outliers_Consommation.tail(20)"
   ]
  },
  {
   "cell_type": "markdown",
   "id": "M1I2T5Zg7_8p",
   "metadata": {
    "id": "M1I2T5Zg7_8p"
   },
   "source": [
    "## Consommation carburant"
   ]
  },
  {
   "cell_type": "code",
   "execution_count": null,
   "id": "z5Sv7s1n51J5",
   "metadata": {
    "colab": {
     "base_uri": "https://localhost:8080/"
    },
    "executionInfo": {
     "elapsed": 25,
     "status": "ok",
     "timestamp": 1742400359153,
     "user": {
      "displayName": "Dimitri L",
      "userId": "02929891347853983044"
     },
     "user_tz": -60
    },
    "id": "z5Sv7s1n51J5",
    "outputId": "416f026c-0cc5-4b3e-e25f-5b5f1be0d2e8"
   },
   "outputs": [],
   "source": [
    "utils.detecter_outliers_plotly_var(df['Consommation carburant'])"
   ]
  },
  {
   "cell_type": "code",
   "execution_count": null,
   "id": "MsYAhVpdQlvb",
   "metadata": {
    "colab": {
     "base_uri": "https://localhost:8080/",
     "height": 0
    },
    "executionInfo": {
     "elapsed": 13,
     "status": "ok",
     "timestamp": 1742400359168,
     "user": {
      "displayName": "Dimitri L",
      "userId": "02929891347853983044"
     },
     "user_tz": -60
    },
    "id": "MsYAhVpdQlvb",
    "outputId": "ffc1d36e-64b1-4d80-8ed9-bc29a9ed2c59"
   },
   "outputs": [],
   "source": [
    "df_outliers_Consommation = df[df['Consommation carburant'] > 15].sort_values(by='Consommation carburant', ascending=True)\n",
    "df_outliers_Consommation.tail(20)"
   ]
  },
  {
   "cell_type": "markdown",
   "id": "99b8bd6b-64ea-4f7d-a890-6f996e4d62df",
   "metadata": {
    "id": "99b8bd6b-64ea-4f7d-a890-6f996e4d62df"
   },
   "source": [
    "# <font color='#3585CD'>Visualisation globale graphique</font>"
   ]
  },
  {
   "cell_type": "code",
   "execution_count": null,
   "id": "iOabpSUOtEuY",
   "metadata": {
    "colab": {
     "base_uri": "https://localhost:8080/"
    },
    "executionInfo": {
     "elapsed": 112,
     "status": "ok",
     "timestamp": 1742400359278,
     "user": {
      "displayName": "Dimitri L",
      "userId": "02929891347853983044"
     },
     "user_tz": -60
    },
    "id": "iOabpSUOtEuY",
    "outputId": "e13ea7e5-cf0b-4e7a-ee31-ff1d1bff187b"
   },
   "outputs": [],
   "source": [
    "fig = px.scatter_matrix(df, dimensions=df.select_dtypes(include=['number']).columns,\n",
    "                        color='Carburant', title=\"Pairplot\")\n",
    "\n",
    "fig.update_layout(height=900, width=1200)\n",
    "fig.show()"
   ]
  },
  {
   "cell_type": "code",
   "execution_count": null,
   "id": "DAMM09_efF2L",
   "metadata": {
    "colab": {
     "base_uri": "https://localhost:8080/"
    },
    "executionInfo": {
     "elapsed": 6,
     "status": "ok",
     "timestamp": 1742400359295,
     "user": {
      "displayName": "Dimitri L",
      "userId": "02929891347853983044"
     },
     "user_tz": -60
    },
    "id": "DAMM09_efF2L",
    "outputId": "3312019c-0a30-437b-8ec3-f5c33c564681"
   },
   "outputs": [],
   "source": [
    "utils.plot_correlation_matrix(df)"
   ]
  },
  {
   "cell_type": "markdown",
   "id": "ogaVzQ6wsEgq",
   "metadata": {
    "id": "ogaVzQ6wsEgq"
   },
   "source": [
    "# <font color='#3585CD'>Distribution de la variable cible</font>\n",
    "\n",
    "\n",
    "\n"
   ]
  },
  {
   "cell_type": "markdown",
   "id": "ACMQxz55p_Hw",
   "metadata": {
    "id": "ACMQxz55p_Hw"
   },
   "source": [
    "## Histogramme et boxplot de la variable cible"
   ]
  },
  {
   "cell_type": "code",
   "execution_count": null,
   "id": "96f1e2b4-b0d3-4c45-8e94-ffc007a3ec50",
   "metadata": {
    "colab": {
     "base_uri": "https://localhost:8080/"
    },
    "executionInfo": {
     "elapsed": 36,
     "status": "ok",
     "timestamp": 1742400359332,
     "user": {
      "displayName": "Dimitri L",
      "userId": "02929891347853983044"
     },
     "user_tz": -60
    },
    "id": "96f1e2b4-b0d3-4c45-8e94-ffc007a3ec50",
    "outputId": "81b69a42-6cc9-4a91-d884-8fcec3d90d2b"
   },
   "outputs": [],
   "source": [
    "utils.analyser_variables_numeriques_plotly(df, ['CO2'])"
   ]
  },
  {
   "cell_type": "code",
   "execution_count": null,
   "id": "EwEqBrG5JUsP",
   "metadata": {
    "colab": {
     "base_uri": "https://localhost:8080/"
    },
    "executionInfo": {
     "elapsed": 133,
     "status": "ok",
     "timestamp": 1742400359467,
     "user": {
      "displayName": "Dimitri L",
      "userId": "02929891347853983044"
     },
     "user_tz": -60
    },
    "id": "EwEqBrG5JUsP",
    "outputId": "6010b81f-86da-48f3-d184-2ee91eba48a4"
   },
   "outputs": [],
   "source": [
    "import plotly.graph_objects as go\n",
    "import numpy as np\n",
    "import scipy.stats as stats\n",
    "import pandas as pd\n",
    "\n",
    "# Calcul des quantiles\n",
    "(quantiles, values), (slope, intercept, r) = stats.probplot(df['CO2'], dist=\"norm\")\n",
    "\n",
    "# Création du Q-Q Plot avec Plotly\n",
    "fig = go.Figure()\n",
    "fig.add_trace(go.Scatter(x=quantiles, y=values, mode='markers', name='Données'))\n",
    "fig.add_trace(go.Scatter(x=quantiles, y=slope * np.array(quantiles) + intercept, mode='lines', name='Ligne théorique'))\n",
    "\n",
    "fig.update_layout(title='Q-Q plot pour CO2', xaxis_title='Quantiles théoriques', yaxis_title='Quantiles des données')\n",
    "\n",
    "fig.show()"
   ]
  },
  {
   "cell_type": "code",
   "execution_count": null,
   "id": "90_Hbt1aUYlC",
   "metadata": {
    "colab": {
     "base_uri": "https://localhost:8080/"
    },
    "executionInfo": {
     "elapsed": 10,
     "status": "ok",
     "timestamp": 1742400359489,
     "user": {
      "displayName": "Dimitri L",
      "userId": "02929891347853983044"
     },
     "user_tz": -60
    },
    "id": "90_Hbt1aUYlC",
    "outputId": "ab95624e-70c9-4492-9cfe-f74ccce12299"
   },
   "outputs": [],
   "source": [
    "from statsmodels.stats.diagnostic import lilliefors\n",
    "# Niveau de signification (alpha)\n",
    "alpha = 0.05\n",
    "\n",
    "# Effectuer les tests de normalité\n",
    "shapiro_test = stats.shapiro(df['CO2'])\n",
    "ks_test = stats.kstest(df['CO2'], 'norm')\n",
    "ad_test = stats.anderson(df['CO2'], dist='norm')\n",
    "dagostino_test = stats.normaltest(df['CO2'])\n",
    "lilliefors_test = lilliefors(df['CO2'], dist='norm')\n",
    "\n",
    "# Créer un tableau pandas avec les résultats des tests\n",
    "test_results = pd.DataFrame({\n",
    "    'Nom du test': ['Shapiro-Wilk', 'Kolmogorov-Smirnov', 'Anderson-Darling', \"D'Agostino-Pearson\", 'Lilliefors'],\n",
    "    'Statistique de test': [shapiro_test[0], ks_test.statistic, ad_test.statistic, dagostino_test.statistic, lilliefors_test[0]],\n",
    "    'p-valeur': [shapiro_test[1], ks_test.pvalue, None, dagostino_test.pvalue, lilliefors_test[1]],\n",
    "    'Normalité': ['Oui' if shapiro_test[1] > alpha else 'Non',\n",
    "                  'Oui' if ks_test.pvalue > alpha else 'Non',\n",
    "                  'Oui' if any(ad_test.statistic < crit_val for crit_val in ad_test.critical_values) else 'Non',\n",
    "                  'Oui' if dagostino_test.pvalue > alpha else 'Non',\n",
    "                  'Oui' if lilliefors_test[1] > alpha else 'Non']\n",
    "})\n",
    "\n",
    "print(test_results)\n"
   ]
  },
  {
   "cell_type": "code",
   "execution_count": null,
   "id": "edXcgTpQrLbH",
   "metadata": {
    "executionInfo": {
     "elapsed": 3,
     "status": "ok",
     "timestamp": 1742400359493,
     "user": {
      "displayName": "Dimitri L",
      "userId": "02929891347853983044"
     },
     "user_tz": -60
    },
    "id": "edXcgTpQrLbH"
   },
   "outputs": [],
   "source": [
    "# from scipy.stats import boxcox\n",
    "\n",
    "# df['co2_transformed'], lambda_boxcox = boxcox(df['Ewltp (g/km)'] + 1)  # Ajouter 1 pour éviter 0\n",
    "# df"
   ]
  },
  {
   "cell_type": "code",
   "execution_count": null,
   "id": "oXpMdf0KGGHU",
   "metadata": {
    "colab": {
     "base_uri": "https://localhost:8080/"
    },
    "executionInfo": {
     "elapsed": 14,
     "status": "ok",
     "timestamp": 1742400359511,
     "user": {
      "displayName": "Dimitri L",
      "userId": "02929891347853983044"
     },
     "user_tz": -60
    },
    "id": "oXpMdf0KGGHU",
    "outputId": "b3f83751-57ec-4413-b35d-0d496f35fa9b"
   },
   "outputs": [],
   "source": [
    "df['Carburant'].unique()"
   ]
  },
  {
   "cell_type": "code",
   "execution_count": null,
   "id": "-VsLm9F4BEJy",
   "metadata": {
    "colab": {
     "base_uri": "https://localhost:8080/"
    },
    "executionInfo": {
     "elapsed": 7,
     "status": "ok",
     "timestamp": 1742400359521,
     "user": {
      "displayName": "Dimitri L",
      "userId": "02929891347853983044"
     },
     "user_tz": -60
    },
    "id": "-VsLm9F4BEJy",
    "outputId": "fddf5b9a-8d73-4711-fef2-dcd438d5382d"
   },
   "outputs": [],
   "source": [
    "# Histogramme en fonction du type de motorisation\n",
    "fig = px.histogram(df, x=\"CO2\", color=\"Carburant\", nbins=50, barmode=\"overlay\",\n",
    "                   title=\"Distribution des émissions de CO2 par type de carburant\")\n",
    "fig.show()\n"
   ]
  },
  {
   "cell_type": "markdown",
   "id": "lUIaaSpqIK2D",
   "metadata": {
    "id": "lUIaaSpqIK2D"
   },
   "source": [
    "Comment gérer ?\n",
    "\n",
    "\n",
    "*   Création colonne Hybride ?\n",
    "*   Dataset à part ?\n",
    "*   Juste un OneHotEncoder ?"
   ]
  },
  {
   "cell_type": "markdown",
   "id": "lvjc2f4TqPXt",
   "metadata": {
    "id": "lvjc2f4TqPXt"
   },
   "source": [
    "## Degrés d'asymétrie des variables"
   ]
  },
  {
   "cell_type": "code",
   "execution_count": null,
   "id": "jzjaAOR4qPXt",
   "metadata": {
    "colab": {
     "base_uri": "https://localhost:8080/",
     "height": 0
    },
    "executionInfo": {
     "elapsed": 40,
     "status": "ok",
     "timestamp": 1742400359562,
     "user": {
      "displayName": "Dimitri L",
      "userId": "02929891347853983044"
     },
     "user_tz": -60
    },
    "id": "jzjaAOR4qPXt",
    "outputId": "b92b947f-38c3-4396-f4d8-c93ffb1721e1"
   },
   "outputs": [],
   "source": [
    "num_vars = df.select_dtypes(include=['int64', 'float64']).columns.tolist()\n",
    "df[num_vars].skew().sort_values()"
   ]
  },
  {
   "cell_type": "markdown",
   "id": "ck9Iy9-jIBoH",
   "metadata": {
    "id": "ck9Iy9-jIBoH"
   },
   "source": [
    "### CO2"
   ]
  },
  {
   "cell_type": "markdown",
   "id": "bfJi6S-GIFeD",
   "metadata": {
    "id": "bfJi6S-GIFeD"
   },
   "source": [
    "Légère asymétrie négative (peu inquiétante)"
   ]
  },
  {
   "cell_type": "markdown",
   "id": "5YPS8FgIIJEM",
   "metadata": {
    "id": "5YPS8FgIIJEM"
   },
   "source": [
    "### Consommation carburant"
   ]
  },
  {
   "cell_type": "markdown",
   "id": "FcHI5sZ2PZDR",
   "metadata": {
    "id": "FcHI5sZ2PZDR"
   },
   "source": [
    " Quasi symétrique (très léger)"
   ]
  },
  {
   "cell_type": "markdown",
   "id": "2MRk5eU3INhK",
   "metadata": {
    "id": "2MRk5eU3INhK"
   },
   "source": [
    "### Masse moyenne"
   ]
  },
  {
   "cell_type": "markdown",
   "id": "9BEj87VDPgBy",
   "metadata": {
    "id": "9BEj87VDPgBy"
   },
   "source": [
    "Asymétrie positive modérée à forte, probablement due à des valeurs élevées qui tirent la distribution."
   ]
  },
  {
   "cell_type": "markdown",
   "id": "FVuuxNR63Ngs",
   "metadata": {
    "id": "FVuuxNR63Ngs"
   },
   "source": [
    "# <font color='#3585CD'>Export du dataset nettoyé</font>"
   ]
  },
  {
   "cell_type": "code",
   "execution_count": null,
   "id": "LCEzgrjlTmLN",
   "metadata": {
    "colab": {
     "base_uri": "https://localhost:8080/"
    },
    "executionInfo": {
     "elapsed": 18,
     "status": "ok",
     "timestamp": 1742400359616,
     "user": {
      "displayName": "Dimitri L",
      "userId": "02929891347853983044"
     },
     "user_tz": -60
    },
    "id": "LCEzgrjlTmLN",
    "outputId": "cd4d5ad2-9d47-4fcf-e4af-4f9a58f9c97d"
   },
   "outputs": [],
   "source": [
    "df.shape"
   ]
  },
  {
   "cell_type": "code",
   "execution_count": null,
   "id": "oCZlfsQkEUg-",
   "metadata": {
    "colab": {
     "base_uri": "https://localhost:8080/",
     "height": 424
    },
    "executionInfo": {
     "elapsed": 66,
     "status": "ok",
     "timestamp": 1742400359688,
     "user": {
      "displayName": "Dimitri L",
      "userId": "02929891347853983044"
     },
     "user_tz": -60
    },
    "id": "oCZlfsQkEUg-",
    "outputId": "02f44c46-107b-4c6a-eb1f-cdf56bb7360f"
   },
   "outputs": [],
   "source": [
    "df = df.reset_index(drop=True)\n",
    "df"
   ]
  },
  {
   "cell_type": "code",
   "execution_count": null,
   "id": "fTdn7C1ezjvp",
   "metadata": {
    "colab": {
     "base_uri": "https://localhost:8080/"
    },
    "executionInfo": {
     "elapsed": 2549,
     "status": "ok",
     "timestamp": 1742400362240,
     "user": {
      "displayName": "Dimitri L",
      "userId": "02929891347853983044"
     },
     "user_tz": -60
    },
    "id": "fTdn7C1ezjvp",
    "outputId": "73b9004a-1292-4008-e386-f136ff82483c"
   },
   "outputs": [],
   "source": [
    "# Vérifier si on est sur Google Colab\n",
    "import os\n",
    "try:\n",
    "    import google.colab\n",
    "    ON_COLAB = True\n",
    "    dataset_path = \"/content/drive/My Drive/Formation DS/Projet CO2/NOV24-CDS-CO2/notebooks/datasets/Dataset_final/datas_nettoyees_model_FR.csv\"\n",
    "\n",
    "    # Monter Google Drive si ce n'est pas déjà fait\n",
    "    from google.colab import drive\n",
    "    drive.mount('/content/drive')\n",
    "\n",
    "except ImportError:\n",
    "    ON_COLAB = False\n",
    "    dataset_path = \"datasets/Dataset_final/datas_nettoyees_model_FR.csv\"\n",
    "\n",
    "# Sauvegarde du DataFrame\n",
    "df.to_csv(dataset_path, index=False)\n",
    "\n",
    "# Vérification de l'enregistrement\n",
    "if os.path.exists(dataset_path):\n",
    "    print(f\"Le fichier a bien été enregistré à l'emplacement : {dataset_path}\")\n",
    "else:\n",
    "    print(\"Problème lors de l'enregistrement du fichier.\")\n"
   ]
  },
  {
   "cell_type": "code",
   "execution_count": null,
   "id": "ae05ea6f-a4d2-4375-9b79-557b09e920bc",
   "metadata": {
    "executionInfo": {
     "elapsed": 21,
     "status": "ok",
     "timestamp": 1742400362259,
     "user": {
      "displayName": "Dimitri L",
      "userId": "02929891347853983044"
     },
     "user_tz": -60
    },
    "id": "ae05ea6f-a4d2-4375-9b79-557b09e920bc"
   },
   "outputs": [],
   "source": [
    "# dataset_path = \"datasets/Dataset_final/datas_nettoyees_model_FR.csv\"\n",
    "# df.to_csv(dataset_path, index =False)\n",
    "\n",
    "# import os\n",
    "\n",
    "# # Vérifie si le fichier existe\n",
    "# if os.path.exists(dataset_path):\n",
    "#     print(\"Le fichier a bien été enregistré.\")\n",
    "# else:\n",
    "#     print(\"Problème lors de l'enregistrement du fichier.\")\n"
   ]
  }
 ],
 "metadata": {
  "colab": {
   "collapsed_sections": [
    "KyfiKA5euFPi",
    "rBT6LK3njiv2",
    "3IcE3faMuvgh",
    "c1a720bf-bc05-4de7-82f8-064abfe111de",
    "0675ff7e-1b8e-4032-8709-717f417371c2",
    "b8b650d0-d15e-4517-b310-95926e85b9bd",
    "accb1556-d8e9-413e-b3a5-5a8b07b9915d",
    "g8ME4jy19mL4",
    "9cfbf5f8-0546-4ee7-9463-2f4f6bd09815",
    "kW_H0eMor_FL",
    "61554837-cd4d-4123-a115-ff093b844bb9",
    "456b70c9-ae62-4543-b378-56706cd1a74e",
    "a_wPxakovL20",
    "df5e82c0-8c40-4dcb-9f8c-e2bea845d0a2",
    "99b8bd6b-64ea-4f7d-a890-6f996e4d62df",
    "ogaVzQ6wsEgq"
   ],
   "provenance": [],
   "toc_visible": true
  },
  "kernelspec": {
   "display_name": "base",
   "language": "python",
   "name": "python3"
  },
  "language_info": {
   "codemirror_mode": {
    "name": "ipython",
    "version": 3
   },
   "file_extension": ".py",
   "mimetype": "text/x-python",
   "name": "python",
   "nbconvert_exporter": "python",
   "pygments_lexer": "ipython3",
   "version": "3.12.7"
  }
 },
 "nbformat": 4,
 "nbformat_minor": 5
}
